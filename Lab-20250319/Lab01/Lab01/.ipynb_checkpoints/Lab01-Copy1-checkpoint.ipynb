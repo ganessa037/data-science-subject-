{
 "cells": [
  {
   "cell_type": "markdown",
   "metadata": {
    "id": "wZDD5tQTYKnb"
   },
   "source": [
    "# **Lab 1**\n",
    "\n",
    "## Python Quickstart"
   ]
  },
  {
   "cell_type": "markdown",
   "metadata": {
    "id": "GOBl1VICYKnc"
   },
   "source": [
    "Welcome to CDS6214 Data Science Fundamentals. For some weeks, you will be given _Jupyter notebook_ tutorials in the form of lab coding exercises and other questions discussing on concepts you have learned during lecture. Understanding technical things by coding them out is the best way to learn, so these labs cover a lot of essential topics, making them come alive as you learn."
   ]
  },
  {
   "cell_type": "markdown",
   "metadata": {
    "id": "hl3brzIpYKnd"
   },
   "source": [
    "> **Credit note:**\n",
    "> Part of this lab was adapted from UC Berkeley's Data 8 course. The main contents of this Python quickstart lab was adapted from the adaptation by [Volodymyr Kuleshov](http://web.stanford.edu/~kuleshov/) and [Isaac Caswell](https://symsys.stanford.edu/viewing/symsysaffiliate/21335) for Stanford University's `CS228`, which was originally from Stanford University's `CS231n` Python tutorial by Justin Johnson (http://cs231n.github.io/python-numpy-tutorial/). Confusing? Nevermind, it's a good starter tutorial that you could use :-) "
   ]
  },
  {
   "cell_type": "markdown",
   "metadata": {
    "id": "gmjur9B-YKnd"
   },
   "source": [
    "Before we get started, let's understand how to use and navigate in Jupyter notebooks."
   ]
  },
  {
   "cell_type": "markdown",
   "metadata": {
    "id": "vhscYiVaYKne"
   },
   "source": [
    "## 0. Jupyter notebooks\n",
    "This webpage is called a **Jupyter notebook**. A notebook is a place to write programs and view their results, and also to write text. A Jupyter notebook can be opened in various ways. The two most popular ways: \n",
    "1.   By installing the Jupyter package into your Python installation. If you have a full development suite like **Anaconda** installed, it comes pre-packed. Otherwise, you can also install it manually into your existing Python environment.\n",
    "2.   By opening the file with **Google Colab**, which is specifically made as a collaborative notebook (more than one person can edit).\n"
   ]
  },
  {
   "cell_type": "markdown",
   "metadata": {
    "id": "FQSzNRJJHnhK"
   },
   "source": [
    "### 0.1. Text cells\n",
    "In a notebook, each rectangle containing text or code is called a *cell*.\n",
    "\n",
    "Text cells (like this one) can be edited by double-clicking on them. They're written in a simple format called [Markdown](http://daringfireball.net/projects/markdown/syntax) to add formatting and section headings.  You don't need to learn Markdown, but you might want to.\n",
    "\n",
    "After you edit a text cell, click the \"run cell\" button at the top that looks like ▶| or hold down `shift` + `return` to confirm any changes. (Try not to delete the instructions of the lab.)"
   ]
  },
  {
   "cell_type": "markdown",
   "metadata": {
    "id": "RswVDICwYKnf"
   },
   "source": [
    "### 0.2. Code cells\n",
    "Other cells contain Python 3 code. Running a code cell will execute all of the code it contains.\n",
    "\n",
    "To run the code in a code cell, first click on that cell to activate it.  It'll be highlighted with a little green or blue rectangle.  Next, either press ▶| or hold down `shift` + `return`.\n",
    "\n",
    "Try running this cell:"
   ]
  },
  {
   "cell_type": "code",
   "execution_count": 4,
   "metadata": {
    "id": "47035kplYKnf"
   },
   "outputs": [
    {
     "name": "stdout",
     "output_type": "stream",
     "text": [
      "Hello, World!\n"
     ]
    }
   ],
   "source": [
    "print(\"Hello, World!\")"
   ]
  },
  {
   "cell_type": "markdown",
   "metadata": {
    "id": "mY5Qr41HYKnj"
   },
   "source": [
    "And this one:"
   ]
  },
  {
   "cell_type": "code",
   "execution_count": 5,
   "metadata": {
    "id": "GsJSeFIIYKnk"
   },
   "outputs": [
    {
     "name": "stdout",
     "output_type": "stream",
     "text": [
      "👋, 🌏!\n"
     ]
    }
   ],
   "source": [
    "print(\"\\N{WAVING HAND SIGN}, \\N{EARTH GLOBE ASIA-AUSTRALIA}!\")"
   ]
  },
  {
   "cell_type": "markdown",
   "metadata": {
    "id": "QDPd1pYhYKnn"
   },
   "source": [
    "Interesting...emojis... The fundamental building block of Python code is an expression. Cells can contain multiple lines with multiple expressions. When you run a cell, the lines of code are executed in the order in which they appear. Every `print` expression prints a line. Run the next cell and notice the order of the output. "
   ]
  },
  {
   "cell_type": "code",
   "execution_count": 7,
   "metadata": {
    "id": "Y9phyB3wYKnn"
   },
   "outputs": [
    {
     "name": "stdout",
     "output_type": "stream",
     "text": [
      "First this line is printed,\n",
      "and then this one.\n"
     ]
    }
   ],
   "source": [
    "print(\"First this line is printed,\")\n",
    "print(\"and then this one.\")"
   ]
  },
  {
   "cell_type": "markdown",
   "metadata": {
    "id": "RG27Vh_yYKnq"
   },
   "source": [
    "### 0.3. Writing Jupyter notebooks\n",
    "You can use Jupyter notebooks for your own projects or documents.  When you make your own notebook, you'll need to create your own cells for text and code.\n",
    "\n",
    "To add a cell, click the + button in the menu bar.  It'll start out as a text cell.  You can change it to a code cell by clicking inside it so it's highlighted, clicking the drop-down box next to the restart (⟳) button in the menu bar, and choosing \"Code\".\n",
    "\n",
    "**Try out**: Add a code cell below this one.  Write code in it that prints out:\n",
    "   \n",
    "    A whole new cell! ♪🌏♪\n",
    "\n",
    "(That musical note symbol is like the Earth symbol. Its long-form name is `\\N{EIGHTH NOTE}`.)\n",
    "\n",
    "Run your cell to verify that it works."
   ]
  },
  {
   "cell_type": "code",
   "execution_count": null,
   "metadata": {
    "id": "L707vKDhV2b9"
   },
   "outputs": [],
   "source": [
    " "
   ]
  },
  {
   "cell_type": "markdown",
   "metadata": {
    "id": "T7bM0aztYKnr"
   },
   "source": [
    "### 0.4. Errors\n",
    "Python is a language, and like natural human languages, it has rules.  It differs from natural language in two important ways:\n",
    "1. The rules are *simple*.  You can learn most of them in a few weeks and gain reasonable proficiency with the language within this trimester.\n",
    "2. The rules are *rigid*.  If you're proficient in a natural language, you can understand a non-proficient speaker, glossing over small mistakes.  A computer running Python code is not smart enough to do that.\n",
    "\n",
    "Whenever you write code, you'll make mistakes.  When you run a code cell that has errors, Python will sometimes produce error messages to tell you what you did wrong.\n",
    "\n",
    "Errors are okay; even experienced programmers make many errors.  When you make an error, you just have to find the source of the problem, fix it, and move on.\n",
    "\n",
    "**Try out**: We have made an error in the next cell.  Run it and see what happens."
   ]
  },
  {
   "cell_type": "code",
   "execution_count": 6,
   "metadata": {
    "id": "8lKmjmccYKnr"
   },
   "outputs": [
    {
     "ename": "SyntaxError",
     "evalue": "incomplete input (1867411798.py, line 1)",
     "output_type": "error",
     "traceback": [
      "\u001b[0;36m  Cell \u001b[0;32mIn[6], line 1\u001b[0;36m\u001b[0m\n\u001b[0;31m    print(\"This line is missing something.\"\u001b[0m\n\u001b[0m                                           ^\u001b[0m\n\u001b[0;31mSyntaxError\u001b[0m\u001b[0;31m:\u001b[0m incomplete input\n"
     ]
    }
   ],
   "source": [
    "print(\"This line is missing something.\""
   ]
  },
  {
   "cell_type": "markdown",
   "metadata": {
    "id": "jb-w7RBYYKnu"
   },
   "source": [
    "The last line of the error output attempts to tell you what went wrong.  The *syntax* of a language is its structure, and this `SyntaxError` tells you that you have created an illegal structure.  \"`EOF`\" means \"end of file,\" so the message is saying Python expected you to write something more (in this case, a right parenthesis) before finishing the cell.\n",
    "\n",
    "There's a lot of terminology in programming languages, but you don't need to know it all in order to program effectively. If you see a cryptic message like this, you can often get by without deciphering it. \n",
    "\n",
    "Try to fix the code above so that you can run the cell and see the intended message instead of an error."
   ]
  },
  {
   "cell_type": "markdown",
   "metadata": {
    "id": "NeU8NzhJYKnv"
   },
   "source": [
    "**Note:** If you use option **Runtime** > **Run All** (in Jupyter Notebook it is **Cell** > **Run All**) from the toolbar menu, all code cells in this notebook will be run in order. However, the notebook stops running code cells if it hits an error, like the one in the cell above. Use this cautiously as it makes the notebook run redundantly over the cells."
   ]
  },
  {
   "cell_type": "markdown",
   "metadata": {
    "id": "Dh5AiOKXYKnv"
   },
   "source": [
    "### 0.5. The Kernel\n",
    "The kernel is a program that executes the code inside your notebook and outputs the results. \n",
    "\n",
    "For *Google Colab*: At the top right of your window, you can see a green tick, which shows that the kernel is idle or ready to execute tasks. When it is busy running some code, it will turn into three green dots.\n",
    "\n",
    "For *Jupyter Notebook*: In the top right of your window, you can see a circle that indicates the status of your kernel. If the circle is empty (⚪), the kernel is idle and ready to execute code. If the circle is filled in (⚫), the kernel is busy running some code. \n",
    "\n",
    "Next to every code cell, you'll see some a bracket `[...]`. Before you run the cell, you'll see `[ ]`. When the cell is running, you'll see `In [*]` (or a play animation for Google Colab). If you see an asterisk (\\*) next to a cell that doesn't go away, it's likely that the code inside the cell is taking too long to run, and it might be a good time to interrupt the kernel (discussed below). When a cell has finished running, you'll see a number inside the brackets, like: `[1]`. The number corresponds to the order in which you run the cells; so, the first cell you run will show a 1 when it's finished running, the second will show a 2, and so on. \n",
    "\n",
    "You may run into problems where your kernel is stuck for an excessive amount of time, your notebook is very slow and unresponsive, or your kernel loses its connection. If this happens, try the following steps:\n",
    "1. At the top of your screen, click **Kernel** > **Interrupt** (in Colab, it's **Runtime** > **Interrupt execution**).\n",
    "2. If that doesn't help, click **Kernel** > **Restart** (In Colab, it's **Runtime** > **Restart runtime**). If you do this, you will have to run your code cells from the start of your notebook up until where you paused your work.\n",
    "3. If that doesn't help, restart your server. First, save your work by clicking **File** at the top left of your screen, then **Save**. Next, shut down the kernel and restart the server all over again (in Colab, it's **Runtime** > **Factory reset runtime**). Then, navigate back to the notebook you were working on. You'll still have to run your code cells again."
   ]
  },
  {
   "cell_type": "markdown",
   "metadata": {
    "id": "Ep65lOeTYKnw"
   },
   "source": [
    "## 1. Introduction"
   ]
  },
  {
   "cell_type": "markdown",
   "metadata": {
    "id": "gJwQehRoYKnx"
   },
   "source": [
    "Python is a great general-purpose programming language on its own, but with the help of a few popular libraries (numpy, matplotlib, pandas) it becomes a powerful environment for scientific computing and data analysis.\n",
    "\n",
    "We expect that some of you may have some experience with Python and numpy; for the rest of you, this section will serve as a quick crash course on basic concepts in Python programming language. Many of these concepts are similar to that of other languages that you may know."
   ]
  },
  {
   "cell_type": "markdown",
   "metadata": {
    "id": "u4T0t2q5YKny"
   },
   "source": [
    "### Basics of Python"
   ]
  },
  {
   "cell_type": "markdown",
   "metadata": {
    "id": "xG7a0mHcYKny"
   },
   "source": [
    "Python is a high-level, dynamically typed multiparadigm programming language. Python code is often said to be almost like pseudocode, since it allows you to express very powerful ideas in very few lines of code while being very readable. As an example, here is an implementation of the classic quicksort algorithm in Python:"
   ]
  },
  {
   "cell_type": "code",
   "execution_count": 1,
   "metadata": {
    "id": "I_7tMQXMYKnz"
   },
   "outputs": [
    {
     "name": "stdout",
     "output_type": "stream",
     "text": [
      "[1, 1, 2, 3, 6, 8, 10]\n"
     ]
    }
   ],
   "source": [
    "def quicksort(arr):\n",
    "    if len(arr) <= 1:\n",
    "        return arr\n",
    "    pivot = arr[len(arr) // 2]\n",
    "    left = [x for x in arr if x < pivot]\n",
    "    middle = [x for x in arr if x == pivot]\n",
    "    right = [x for x in arr if x > pivot]\n",
    "    return quicksort(left) + middle + quicksort(right)\n",
    "\n",
    "print(quicksort([3,6,8,10,1,2,1]))"
   ]
  },
  {
   "cell_type": "markdown",
   "metadata": {
    "id": "a0sUOpw2YKn2"
   },
   "source": [
    "### Python versions & shell commands"
   ]
  },
  {
   "cell_type": "markdown",
   "metadata": {
    "id": "DV5DWMbiYKn2"
   },
   "source": [
    "There are currently two different supported versions of Python, 2 and 3. Somewhat confusingly, Python 3.0 introduced many backward-incompatible changes to the language, so code written for 2.7 may not work under 3.8 and vice versa. If your machine has an older version of Python 3 (say, 3.7 or 3.6), that's fine, you should be able to run all lines in this exercise. But, you can simply do the upgrade to 3.8 via `conda`) on the command line.  \n",
    "\n",
    "You can check your Python version at the command line by running `python --version`. Alternatively, you can also run shell commands directly from here..."
   ]
  },
  {
   "cell_type": "code",
   "execution_count": 3,
   "metadata": {
    "id": "4xKG91RWYKn3"
   },
   "outputs": [
    {
     "name": "stdout",
     "output_type": "stream",
     "text": [
      "Python 3.10.9\n"
     ]
    }
   ],
   "source": [
    "!python --version"
   ]
  },
  {
   "cell_type": "code",
   "execution_count": 4,
   "metadata": {
    "id": "csnmzjvDYKn6"
   },
   "outputs": [
    {
     "name": "stdout",
     "output_type": "stream",
     "text": [
      "zsh:1: command not found: dir\n"
     ]
    }
   ],
   "source": [
    "!dir"
   ]
  },
  {
   "cell_type": "code",
   "execution_count": 2,
   "metadata": {
    "id": "csnmzjvDYKn6"
   },
   "outputs": [
    {
     "name": "stdout",
     "output_type": "stream",
     "text": [
      "Lab01-Copy1.ipynb                    Lab01_sol.ipynb\n",
      "Lab01.ipynb                          Simple Guide to Jupyter Notebook.pdf\n"
     ]
    }
   ],
   "source": [
    "!ls #only apply to mac"
   ]
  },
  {
   "cell_type": "code",
   "execution_count": 5,
   "metadata": {
    "id": "yILL7rb1YKn8"
   },
   "outputs": [
    {
     "name": "stdout",
     "output_type": "stream",
     "text": [
      "Package                       Version\n",
      "----------------------------- -----------\n",
      "absl-py                       1.4.0\n",
      "altair                        5.2.0\n",
      "anyio                         3.6.2\n",
      "appdirs                       1.4.4\n",
      "appnope                       0.1.3\n",
      "apyori                        1.1.2\n",
      "argon2-cffi                   21.3.0\n",
      "argon2-cffi-bindings          21.2.0\n",
      "asttokens                     2.2.1\n",
      "astunparse                    1.6.3\n",
      "attrs                         22.2.0\n",
      "Babel                         2.12.1\n",
      "backcall                      0.2.0\n",
      "backports.functools-lru-cache 1.6.4\n",
      "bayesian-optimization         1.4.2\n",
      "beautifulsoup4                4.11.2\n",
      "bleach                        6.0.0\n",
      "boto3                         1.26.78\n",
      "botocore                      1.29.78\n",
      "branca                        0.7.2\n",
      "brotlipy                      0.7.0\n",
      "cached-property               1.5.2\n",
      "cachetools                    5.3.0\n",
      "category-encoders             2.5.1.post0\n",
      "certifi                       2024.2.2\n",
      "cffi                          1.15.1\n",
      "charset-normalizer            2.1.1\n",
      "click                         8.1.3\n",
      "cloudpickle                   2.2.1\n",
      "colorama                      0.4.6\n",
      "comm                          0.1.2\n",
      "contourpy                     1.0.7\n",
      "cryptography                  39.0.1\n",
      "cycler                        0.11.0\n",
      "debugpy                       1.6.6\n",
      "decorator                     5.1.1\n",
      "defusedxml                    0.7.1\n",
      "entrypoints                   0.4\n",
      "et-xmlfile                    1.1.0\n",
      "executing                     1.2.0\n",
      "fastjsonschema                2.16.2\n",
      "filelock                      3.13.4\n",
      "Flask                         2.2.3\n",
      "flatbuffers                   1.12\n",
      "flit_core                     3.8.0\n",
      "folium                        0.16.0\n",
      "fonttools                     4.38.0\n",
      "fsspec                        2024.3.1\n",
      "gast                          0.4.0\n",
      "gmpy2                         2.1.2\n",
      "google-auth                   2.16.1\n",
      "google-auth-oauthlib          0.4.6\n",
      "google-pasta                  0.2.0\n",
      "grpcio                        1.51.3\n",
      "gym                           0.26.2\n",
      "gym-notices                   0.0.8\n",
      "h5py                          3.8.0\n",
      "idna                          3.4\n",
      "imbalanced-learn              0.12.0\n",
      "imblearn                      0.0\n",
      "importlib-metadata            6.0.0\n",
      "importlib-resources           5.12.0\n",
      "ipykernel                     6.21.2\n",
      "ipython                       8.10.0\n",
      "ipython-genutils              0.2.0\n",
      "ipywidgets                    8.0.4\n",
      "itsdangerous                  2.1.2\n",
      "jedi                          0.18.2\n",
      "Jinja2                        3.1.2\n",
      "jmespath                      1.0.1\n",
      "joblib                        1.2.0\n",
      "json5                         0.9.5\n",
      "jsonschema                    4.17.3\n",
      "jupyter                       1.0.0\n",
      "jupyter_client                8.0.3\n",
      "jupyter-console               6.6.1\n",
      "jupyter_core                  5.2.0\n",
      "jupyter-events                0.6.3\n",
      "jupyter_server                2.3.0\n",
      "jupyter_server_terminals      0.4.4\n",
      "jupyterlab                    3.5.3\n",
      "jupyterlab-pygments           0.2.2\n",
      "jupyterlab_server             2.23.0\n",
      "jupyterlab-widgets            3.0.5\n",
      "kaggle                        1.5.12\n",
      "keras                         2.9.0\n",
      "Keras-Preprocessing           1.1.2\n",
      "kiwisolver                    1.4.4\n",
      "kneed                         0.8.5\n",
      "libclang                      15.0.6.1\n",
      "lxml                          4.9.2\n",
      "Markdown                      3.4.1\n",
      "MarkupSafe                    2.1.2\n",
      "matplotlib                    3.7.0\n",
      "matplotlib-inline             0.1.6\n",
      "missingno                     0.5.2\n",
      "mistune                       2.0.5\n",
      "mlxtend                       0.23.1\n",
      "mpmath                        1.3.0\n",
      "munkres                       1.1.4\n",
      "nbclassic                     0.5.2\n",
      "nbclient                      0.7.2\n",
      "nbconvert                     7.2.9\n",
      "nbformat                      5.7.3\n",
      "nest-asyncio                  1.5.6\n",
      "networkx                      3.3\n",
      "notebook                      6.5.2\n",
      "notebook_shim                 0.2.2\n",
      "numpy                         1.24.2\n",
      "oauthlib                      3.2.2\n",
      "openpyxl                      3.1.2\n",
      "opt-einsum                    3.3.0\n",
      "packaging                     23.0\n",
      "pandas                        1.5.3\n",
      "pandas-datareader             0.10.0\n",
      "pandocfilters                 1.5.0\n",
      "parso                         0.8.3\n",
      "patsy                         0.5.3\n",
      "pexpect                       4.8.0\n",
      "pgmpy                         0.1.25\n",
      "pickleshare                   0.7.5\n",
      "Pillow                        9.4.0\n",
      "pip                           24.0\n",
      "pkgutil_resolve_name          1.3.10\n",
      "platformdirs                  3.0.0\n",
      "pooch                         1.6.0\n",
      "prometheus-client             0.16.0\n",
      "prompt-toolkit                3.0.36\n",
      "protobuf                      3.19.6\n",
      "psutil                        5.9.4\n",
      "ptyprocess                    0.7.0\n",
      "pure-eval                     0.2.2\n",
      "pyasn1                        0.4.8\n",
      "pyasn1-modules                0.2.8\n",
      "pyclustering                  0.10.1.2\n",
      "pycparser                     2.21\n",
      "Pygments                      2.14.0\n",
      "pyOpenSSL                     23.0.0\n",
      "pyparsing                     3.0.9\n",
      "pyrsistent                    0.19.3\n",
      "PySocks                       1.7.1\n",
      "python-dateutil               2.8.2\n",
      "python-json-logger            2.0.7\n",
      "python-slugify                8.0.0\n",
      "pytz                          2022.7.1\n",
      "PyYAML                        6.0\n",
      "pyzmq                         25.0.0\n",
      "requests                      2.28.2\n",
      "requests-oauthlib             1.3.1\n",
      "rfc3339-validator             0.1.4\n",
      "rfc3986-validator             0.1.1\n",
      "rsa                           4.9\n",
      "s3transfer                    0.6.0\n",
      "scikit-learn                  1.2.2\n",
      "scipy                         1.10.1\n",
      "seaborn                       0.13.2\n",
      "Send2Trash                    1.8.0\n",
      "setuptools                    67.4.0\n",
      "six                           1.15.0\n",
      "sniffio                       1.3.0\n",
      "soupsieve                     2.3.2.post1\n",
      "stack-data                    0.6.2\n",
      "statsmodels                   0.13.5\n",
      "sympy                         1.12\n",
      "tensorboard                   2.9.1\n",
      "tensorboard-data-server       0.6.1\n",
      "tensorboard-plugin-wit        1.8.1\n",
      "tensorflow-estimator          2.9.0\n",
      "tensorflow-macos              2.9.2\n",
      "tensorflow-metal              0.5.0\n",
      "termcolor                     2.2.0\n",
      "terminado                     0.17.1\n",
      "text-unidecode                1.3\n",
      "threadpoolctl                 3.1.0\n",
      "tinycss2                      1.2.1\n",
      "tomli                         2.0.1\n",
      "toolz                         0.12.1\n",
      "torch                         2.0.0\n",
      "tornado                       6.2\n",
      "tqdm                          4.64.1\n",
      "traitlets                     5.9.0\n",
      "typing_extensions             4.11.0\n",
      "ucimlrepo                     0.0.4\n",
      "unicodedata2                  15.0.0\n",
      "urllib3                       1.26.14\n",
      "vega-datasets                 0.9.0\n",
      "wcwidth                       0.2.6\n",
      "webencodings                  0.5.1\n",
      "websocket-client              1.5.1\n",
      "Werkzeug                      2.2.3\n",
      "wheel                         0.38.4\n",
      "widgetsnbextension            4.0.5\n",
      "wrapt                         1.14.1\n",
      "xyzservices                   2024.4.0\n",
      "zipp                          3.14.0\n",
      "\n",
      "\u001b[1m[\u001b[0m\u001b[34;49mnotice\u001b[0m\u001b[1;39;49m]\u001b[0m\u001b[39;49m A new release of pip is available: \u001b[0m\u001b[31;49m24.0\u001b[0m\u001b[39;49m -> \u001b[0m\u001b[32;49m24.2\u001b[0m\n",
      "\u001b[1m[\u001b[0m\u001b[34;49mnotice\u001b[0m\u001b[1;39;49m]\u001b[0m\u001b[39;49m To update, run: \u001b[0m\u001b[32;49mpip install --upgrade pip\u001b[0m\n"
     ]
    }
   ],
   "source": [
    "!pip list"
   ]
  },
  {
   "cell_type": "markdown",
   "metadata": {
    "id": "U7f-zm3-YKoA"
   },
   "source": [
    "Anaconda comes readily with a set of Python packages. This eases your work of installing these packages from scratch, one by one! If you need to upgrade any of these packages, you can issue the following command to upgrade a package called `seaborn`:"
   ]
  },
  {
   "cell_type": "code",
   "execution_count": 12,
   "metadata": {
    "id": "wHs4GofQYKoB"
   },
   "outputs": [
    {
     "name": "stdout",
     "output_type": "stream",
     "text": [
      "Requirement already satisfied: seaborn in /Users/dcku/miniconda3/envs/sklearn/lib/python3.10/site-packages (0.12.2)\n",
      "Collecting seaborn\n",
      "  Downloading seaborn-0.13.2-py3-none-any.whl (294 kB)\n",
      "\u001b[2K     \u001b[90m━━━━━━━━━━━━━━━━━━━━━━━━━━━━━━━━━━━━━━━\u001b[0m \u001b[32m294.9/294.9 kB\u001b[0m \u001b[31m2.4 MB/s\u001b[0m eta \u001b[36m0:00:00\u001b[0ma \u001b[36m0:00:01\u001b[0m\n",
      "\u001b[?25hRequirement already satisfied: pandas>=1.2 in /Users/dcku/miniconda3/envs/sklearn/lib/python3.10/site-packages (from seaborn) (1.5.3)\n",
      "Requirement already satisfied: numpy!=1.24.0,>=1.20 in /Users/dcku/miniconda3/envs/sklearn/lib/python3.10/site-packages (from seaborn) (1.24.2)\n",
      "Requirement already satisfied: matplotlib!=3.6.1,>=3.4 in /Users/dcku/miniconda3/envs/sklearn/lib/python3.10/site-packages (from seaborn) (3.7.0)\n",
      "Requirement already satisfied: contourpy>=1.0.1 in /Users/dcku/miniconda3/envs/sklearn/lib/python3.10/site-packages (from matplotlib!=3.6.1,>=3.4->seaborn) (1.0.7)\n",
      "Requirement already satisfied: fonttools>=4.22.0 in /Users/dcku/miniconda3/envs/sklearn/lib/python3.10/site-packages (from matplotlib!=3.6.1,>=3.4->seaborn) (4.38.0)\n",
      "Requirement already satisfied: kiwisolver>=1.0.1 in /Users/dcku/miniconda3/envs/sklearn/lib/python3.10/site-packages (from matplotlib!=3.6.1,>=3.4->seaborn) (1.4.4)\n",
      "Requirement already satisfied: python-dateutil>=2.7 in /Users/dcku/miniconda3/envs/sklearn/lib/python3.10/site-packages (from matplotlib!=3.6.1,>=3.4->seaborn) (2.8.2)\n",
      "Requirement already satisfied: pillow>=6.2.0 in /Users/dcku/miniconda3/envs/sklearn/lib/python3.10/site-packages (from matplotlib!=3.6.1,>=3.4->seaborn) (9.4.0)\n",
      "Requirement already satisfied: cycler>=0.10 in /Users/dcku/miniconda3/envs/sklearn/lib/python3.10/site-packages (from matplotlib!=3.6.1,>=3.4->seaborn) (0.11.0)\n",
      "Requirement already satisfied: pyparsing>=2.3.1 in /Users/dcku/miniconda3/envs/sklearn/lib/python3.10/site-packages (from matplotlib!=3.6.1,>=3.4->seaborn) (3.0.9)\n",
      "Requirement already satisfied: packaging>=20.0 in /Users/dcku/miniconda3/envs/sklearn/lib/python3.10/site-packages (from matplotlib!=3.6.1,>=3.4->seaborn) (23.0)\n",
      "Requirement already satisfied: pytz>=2020.1 in /Users/dcku/miniconda3/envs/sklearn/lib/python3.10/site-packages (from pandas>=1.2->seaborn) (2022.7.1)\n",
      "Requirement already satisfied: six>=1.5 in /Users/dcku/miniconda3/envs/sklearn/lib/python3.10/site-packages (from python-dateutil>=2.7->matplotlib!=3.6.1,>=3.4->seaborn) (1.16.0)\n",
      "Installing collected packages: seaborn\n",
      "  Attempting uninstall: seaborn\n",
      "    Found existing installation: seaborn 0.12.2\n",
      "    Uninstalling seaborn-0.12.2:\n",
      "      Successfully uninstalled seaborn-0.12.2\n",
      "Successfully installed seaborn-0.13.2\n"
     ]
    }
   ],
   "source": [
    "!pip install --upgrade seaborn"
   ]
  },
  {
   "cell_type": "markdown",
   "metadata": {
    "id": "mZLK7epEYKoD"
   },
   "source": [
    "> **Note**: On a fresh installation of Anaconda on your personal computer, most of the pre-installed packages may be already up to date. "
   ]
  },
  {
   "cell_type": "markdown",
   "metadata": {
    "id": "LawWC3d3YKoE"
   },
   "source": [
    "### Basic data types\n",
    "\n",
    "Python variables do not need explicit declaration to reserve memory space. The declaration happens automatically when you assign a value to a variable. The equal sign (=) is used to assign values to variables."
   ]
  },
  {
   "cell_type": "code",
   "execution_count": 13,
   "metadata": {
    "id": "Us-RmWu2YKoE"
   },
   "outputs": [
    {
     "name": "stdout",
     "output_type": "stream",
     "text": [
      "100\n",
      "1000.0\n",
      "John\n"
     ]
    }
   ],
   "source": [
    "counter= 100     # An integer assignment \n",
    "miles= 1000.0    # A floating point \n",
    "name = \"John\"    # A string \n",
    "print(counter) \n",
    "print(miles) \n",
    "print(name)"
   ]
  },
  {
   "cell_type": "markdown",
   "metadata": {
    "id": "3Bj9jNNJYKoH"
   },
   "source": [
    "### Numbers"
   ]
  },
  {
   "cell_type": "markdown",
   "metadata": {
    "id": "4Jy4aIABYKoI"
   },
   "source": [
    "Quantitative information arises everywhere in data science. In addition to representing commands to print out lines, expressions can represent numbers and methods of combining numbers. Integers and floats work as you would expect from other languages:"
   ]
  },
  {
   "cell_type": "code",
   "execution_count": 18,
   "metadata": {
    "id": "jCl8eiY4YKoI"
   },
   "outputs": [
    {
     "name": "stdout",
     "output_type": "stream",
     "text": [
      "3\n"
     ]
    },
    {
     "data": {
      "text/plain": [
       "int"
      ]
     },
     "execution_count": 18,
     "metadata": {},
     "output_type": "execute_result"
    }
   ],
   "source": [
    "x = 3\n",
    "print(x)\n",
    "type(x)"
   ]
  },
  {
   "cell_type": "markdown",
   "metadata": {
    "id": "bbW975PqYKoL"
   },
   "source": [
    "In the IPython (interactive Python) environment which Jupyter notebook or Google Colab is running on, you actually do not need to even call the `print` function:"
   ]
  },
  {
   "cell_type": "code",
   "execution_count": 19,
   "metadata": {
    "id": "hE7gI6HFYKoL"
   },
   "outputs": [
    {
     "data": {
      "text/plain": [
       "32.5"
      ]
     },
     "execution_count": 19,
     "metadata": {},
     "output_type": "execute_result"
    }
   ],
   "source": [
    "32.5"
   ]
  },
  {
   "cell_type": "markdown",
   "metadata": {
    "id": "JaiU6hZdYKoO"
   },
   "source": [
    "When you run a notebook cell, if the last line has a value, then Jupyter helpfully prints out that value for you. However, it won't print out prior lines automatically."
   ]
  },
  {
   "cell_type": "code",
   "execution_count": 20,
   "metadata": {
    "id": "SUCT1eZAYKoP"
   },
   "outputs": [
    {
     "name": "stdout",
     "output_type": "stream",
     "text": [
      "2\n"
     ]
    },
    {
     "data": {
      "text/plain": [
       "4"
      ]
     },
     "execution_count": 20,
     "metadata": {},
     "output_type": "execute_result"
    }
   ],
   "source": [
    "print(2)\n",
    "3\n",
    "4"
   ]
  },
  {
   "cell_type": "markdown",
   "metadata": {
    "id": "nTIxTNYoYKoS"
   },
   "source": [
    "Above, you should see that 4 is the value of the last expression, 2 is printed, but 3 is lost forever because it was neither printed nor last.\n",
    "\n",
    "You don't want to print everything all the time anyway.  But if you feel sorry for 3, change the cell above to print it."
   ]
  },
  {
   "cell_type": "code",
   "execution_count": 21,
   "metadata": {
    "id": "WESJ5RmEYKoT"
   },
   "outputs": [
    {
     "name": "stdout",
     "output_type": "stream",
     "text": [
      "4\n",
      "2\n",
      "6\n",
      "9\n"
     ]
    }
   ],
   "source": [
    "print(x + 1)   # Addition;\n",
    "print(x - 1)   # Subtraction;\n",
    "print(x * 2)   # Multiplication;\n",
    "print(x ** 2)  # Exponentiation;"
   ]
  },
  {
   "cell_type": "code",
   "execution_count": 22,
   "metadata": {
    "id": "RFbyKHqnYKoW"
   },
   "outputs": [
    {
     "name": "stdout",
     "output_type": "stream",
     "text": [
      "4\n",
      "8\n"
     ]
    }
   ],
   "source": [
    "x += 1\n",
    "print(x)  # Prints \"4\"\n",
    "x *= 2\n",
    "print(x)  # Prints \"8\""
   ]
  },
  {
   "cell_type": "code",
   "execution_count": 23,
   "metadata": {
    "id": "XBupGJevYKoY"
   },
   "outputs": [
    {
     "name": "stdout",
     "output_type": "stream",
     "text": [
      "<class 'float'>\n",
      "2.5 3.5 5.0 6.25\n"
     ]
    }
   ],
   "source": [
    "y = 2.5\n",
    "print(type(y)) # Prints \"<type 'float'>\"\n",
    "print(y, y + 1, y * 2, y ** 2) # Prints \"2.5 3.5 5.0 6.25\""
   ]
  },
  {
   "cell_type": "markdown",
   "metadata": {
    "id": "3m_AO5wLYKoa"
   },
   "source": [
    "Notice how versatile the `print` function is? You can use it to print the output of some other command, such as `type(y)` in the first one. In the second one, you can also specify multiple expressions to be printed out, separated by a comma.\n",
    "\n",
    "**Note**: Unlike many languages, Python does not have unary increment (x++) or decrement (x--) operators.\n",
    "\n",
    "Python also has built-in types for long integers and complex numbers; you can find all of the details in the [documentation](https://docs.python.org/3.8/library/stdtypes.html#numeric-types-int-float-long-complex)."
   ]
  },
  {
   "cell_type": "markdown",
   "metadata": {
    "id": "pmRa-fggYKoa"
   },
   "source": [
    "### Arithmetic"
   ]
  },
  {
   "cell_type": "code",
   "execution_count": null,
   "metadata": {
    "id": "XwVCnpWhYKob"
   },
   "outputs": [],
   "source": [
    "3.25 - 1.5"
   ]
  },
  {
   "cell_type": "markdown",
   "metadata": {
    "id": "ez2r_g0hYKod"
   },
   "source": [
    "As expected, the cell executes the arithmetic expression given and shows the answer. Many basic arithmetic operations are built into Python. The order of operations is the same as what you learned in elementary school, and Python also has parentheses. For example, compare the outputs of the cells below. The second cell uses parentheses which gets us a different answer!"
   ]
  },
  {
   "cell_type": "code",
   "execution_count": null,
   "metadata": {
    "id": "j-63mEkdYKod"
   },
   "outputs": [],
   "source": [
    "3+6*5-6*3**2*2**3/4*7"
   ]
  },
  {
   "cell_type": "code",
   "execution_count": null,
   "metadata": {
    "id": "nHlJ2IwGYKog"
   },
   "outputs": [],
   "source": [
    "3+(6*5-(6*3))**2*((2**3)/4*7)"
   ]
  },
  {
   "cell_type": "markdown",
   "metadata": {
    "id": "87aPfHgMYKoj"
   },
   "source": [
    "**Q1.** Write a Python expression in this next cell that's equal to $16 \\frac{2}{3} + 4\\frac{12}{13} \\times \\frac{30}{11} + 2^{.5 \\times 22} +\\frac{42\\times 18}{33}$. Use parentheses carefully.\n",
    "\n",
    "*Note*: By \"$16 \\frac{2}{3}$\" we mean $16+\\frac{2}{3}$, not $16 \\times \\frac{2}{3}$. Math!\n",
    "\n",
    "*Hint:* The correct output should be the numerical part of our previous subject code : 2101."
   ]
  },
  {
   "cell_type": "code",
   "execution_count": 24,
   "metadata": {
    "id": "qfVajzzvYKoj"
   },
   "outputs": [
    {
     "data": {
      "text/plain": [
       "2101.002331002331"
      ]
     },
     "execution_count": 24,
     "metadata": {},
     "output_type": "execute_result"
    }
   ],
   "source": [
    "#TODO:"
   ]
  },
  {
   "cell_type": "markdown",
   "metadata": {
    "id": "mvQs5_DiYKom"
   },
   "source": [
    "### Names\n",
    "\n",
    "In Python, we can give names (what we all know as \"variables\") to expressions with *assignment statements*. An assignment statement has a name on the left side of an `=` sign and an expression to be evaluated on the right."
   ]
  },
  {
   "cell_type": "code",
   "execution_count": null,
   "metadata": {
    "id": "IEnwvNDBYKom"
   },
   "outputs": [],
   "source": [
    "ten = 3 * 2 + 4"
   ]
  },
  {
   "cell_type": "markdown",
   "metadata": {
    "id": "xEYS6hVDYKop"
   },
   "source": [
    "After you run that cell, the value 10 is bound to the name `ten`:"
   ]
  },
  {
   "cell_type": "code",
   "execution_count": null,
   "metadata": {
    "id": "eSN3mldoYKop"
   },
   "outputs": [],
   "source": [
    "ten"
   ]
  },
  {
   "cell_type": "markdown",
   "metadata": {
    "id": "HZrpQTQsYKor"
   },
   "source": [
    "A common pattern in Jupyter notebooks is to assign a value to a name and then immediately evaluate the name in the last line in the cell so that the value is displayed as output. "
   ]
  },
  {
   "cell_type": "code",
   "execution_count": null,
   "metadata": {
    "id": "s1-MFdMVYKos"
   },
   "outputs": [],
   "source": [
    "close_to_pi = 355/113\n",
    "close_to_pi"
   ]
  },
  {
   "cell_type": "markdown",
   "metadata": {
    "id": "ch6gDhqsYKou"
   },
   "source": [
    "Another common pattern is that a series of lines in a single cell will build up a complex computation in stages, naming the intermediate results."
   ]
  },
  {
   "cell_type": "code",
   "execution_count": null,
   "metadata": {
    "id": "Dh2RTV6KYKou"
   },
   "outputs": [],
   "source": [
    "semimonthly_salary = 841.25\n",
    "monthly_salary = 2 * semimonthly_salary\n",
    "number_of_months_in_a_year = 12\n",
    "yearly_salary = number_of_months_in_a_year * monthly_salary\n",
    "yearly_salary"
   ]
  },
  {
   "cell_type": "markdown",
   "metadata": {
    "id": "tqO4T2P7YKox"
   },
   "source": [
    "Names in Python can have letters (upper- and lower-case letters are both okay and count as different letters), underscores, and numbers. The first character can't be a number (otherwise a name might look like a number). And names can't contain spaces, since spaces are used to separate pieces of code from each other. Other than those rules, what you name something doesn't matter *to Python*. **However**, names are very important for making your code *readable* to yourself and others. "
   ]
  },
  {
   "cell_type": "markdown",
   "metadata": {
    "id": "v2DxVGXGYKoy"
   },
   "source": [
    "**Q2**: Assign the name `seconds_in_a_decade` to the number of seconds between midnight January 1, 2010 and midnight January 1, 2020. Note that there are two leap years in this span of a decade. A non-leap year has 365 days and a leap year has 366 days."
   ]
  },
  {
   "cell_type": "code",
   "execution_count": 26,
   "metadata": {
    "id": "QDcx55czYKoy"
   },
   "outputs": [
    {
     "name": "stdout",
     "output_type": "stream",
     "text": [
      "315532800\n"
     ]
    }
   ],
   "source": [
    "#TODO:"
   ]
  },
  {
   "cell_type": "markdown",
   "metadata": {
    "id": "4Vf9XoEnYKo0"
   },
   "source": [
    "### Booleans"
   ]
  },
  {
   "cell_type": "markdown",
   "metadata": {
    "id": "YRrAnwlZYKo1"
   },
   "source": [
    "Python implements all of the usual operators for Boolean logic, but uses English words rather than symbols (`&&`, `||`, etc.):"
   ]
  },
  {
   "cell_type": "code",
   "execution_count": null,
   "metadata": {
    "id": "qYH7a0eBYKo1"
   },
   "outputs": [],
   "source": [
    "t, f = True, False\n",
    "type(t) # Prints \"<type 'bool'>\""
   ]
  },
  {
   "cell_type": "markdown",
   "metadata": {
    "id": "AyOTQr8tYKo4"
   },
   "source": [
    "Now we let's look at the operations:"
   ]
  },
  {
   "cell_type": "code",
   "execution_count": null,
   "metadata": {
    "id": "MUgHWZ74YKo4"
   },
   "outputs": [],
   "source": [
    "print (t and f) # Logical AND;\n",
    "print (t or f)  # Logical OR;\n",
    "print (not t)   # Logical NOT;\n",
    "print (t != f)  # Logical XOR;"
   ]
  },
  {
   "cell_type": "markdown",
   "metadata": {
    "id": "tp0StLo9YKo6"
   },
   "source": [
    "### Strings\n",
    "\n",
    "Like any other programming language, Python can process strings, or a sequence of characters. To make things less complicated, Python does not have a character data type, a single character is simply a string with a length of 1!\n",
    "\n",
    "We see how multiple strings can be printed out together. Here are three ways:"
   ]
  },
  {
   "cell_type": "code",
   "execution_count": null,
   "metadata": {
    "id": "DC4z_PpMYKo7"
   },
   "outputs": [],
   "source": [
    "hello = 'hello'   # String literals can use single quotes\n",
    "world = \"world\"   # or double quotes; it does not matter.\n",
    "print (hello, len(hello))"
   ]
  },
  {
   "cell_type": "code",
   "execution_count": null,
   "metadata": {
    "id": "bjJq-DASYKo9"
   },
   "outputs": [],
   "source": [
    "hw = hello + ' ' + world  # String concatenation\n",
    "print (hw)  "
   ]
  },
  {
   "cell_type": "code",
   "execution_count": null,
   "metadata": {
    "id": "XmxpNMrhYKpB"
   },
   "outputs": [],
   "source": [
    "hw12 = '%s %s %d' % (hello, world, 12)  # sprintf style string formatting\n",
    "print (hw12)  "
   ]
  },
  {
   "cell_type": "code",
   "execution_count": null,
   "metadata": {
    "id": "ha2yvzyhYKpD"
   },
   "outputs": [],
   "source": [
    "hw24 = '{} {} {}'.format(hello, world, 24)  # .format with empty brace placeholders\n",
    "print (hw24) "
   ]
  },
  {
   "cell_type": "markdown",
   "metadata": {
    "id": "pNxX7j9zYKpF"
   },
   "source": [
    "String objects have a bunch of useful methods; for example:"
   ]
  },
  {
   "cell_type": "code",
   "execution_count": null,
   "metadata": {
    "id": "XZ-CbGt8YKpF"
   },
   "outputs": [],
   "source": [
    "s = \"hello\"\n",
    "print (s.capitalize())  # Capitalize a string; prints \"Hello\"\n",
    "print (s.upper())       # Convert a string to uppercase; prints \"HELLO\"\n",
    "print (s.rjust(7))      # Right-justify a string, padding with spaces; prints \"  hello\"\n",
    "print (s.center(7))     # Center a string, padding with spaces; prints \" hello \"\n",
    "print (s.replace('l', '(ell)'))  # Replace all instances of one substring with another;\n",
    "                               # prints \"he(ell)(ell)o\"\n",
    "print ('  world '.strip())  # Strip leading and trailing whitespace; prints \"world\""
   ]
  },
  {
   "cell_type": "markdown",
   "metadata": {
    "id": "3MtJKufPYKpK"
   },
   "source": [
    "You can find a list of all string methods in the [documentation](https://docs.python.org/3.8/library/stdtypes.html#string-methods)."
   ]
  },
  {
   "cell_type": "markdown",
   "metadata": {
    "id": "m6jT9JLJYKpL"
   },
   "source": [
    "## 2. Functions\n",
    "\n",
    "The most common way to combine or manipulate values in Python is by calling functions. Python comes with many built-in functions that perform common operations.\n",
    "\n",
    "For example, the `abs` function takes a single number as its argument and returns the absolute value of that number. Run the next two cells and see if you understand the output."
   ]
  },
  {
   "cell_type": "code",
   "execution_count": null,
   "metadata": {
    "id": "SACfO5IQYKpL"
   },
   "outputs": [],
   "source": [
    "abs(5)"
   ]
  },
  {
   "cell_type": "code",
   "execution_count": null,
   "metadata": {
    "id": "KQyDmt-PYKpP"
   },
   "outputs": [],
   "source": [
    "abs(-5)"
   ]
  },
  {
   "cell_type": "markdown",
   "metadata": {
    "id": "EisMEJH7YKpU"
   },
   "source": [
    "**Q3**: \n",
    "\n",
    "Farah is on the corner of 7th Avenue and 42nd Street in Midtown Manhattan, and she wants to know far she'd have to walk to get to school on the corner of 10th Avenue and 34th Street.\n",
    "\n",
    "She can't cut across blocks diagonally, since there are buildings in the way.  She has to walk along the sidewalks.  Using the map below, she sees she'd have to walk 3 avenues (long blocks) and 8 streets (short blocks).  In terms of the given numbers, she computed 3 as the difference between 7 and 10, *in absolute value*, and 8 similarly.  \n",
    "\n",
    "Farah also knows that blocks in Manhattan are all about 80m by 274m (avenues are farther apart than streets). So in total, how far would she have to walk to get to the park?\n",
    "\n",
    "<img src=\"https://raw.githubusercontent.com/data-8/materials-su19/master/materials/su19/lab/lab01/map.jpg\" width=600 />\n",
    "\n"
   ]
  },
  {
   "cell_type": "code",
   "execution_count": null,
   "metadata": {
    "id": "G4aw2zbEYKpV"
   },
   "outputs": [],
   "source": [
    "# Here's the number of streets away:\n",
    "num_streets_away =  \n",
    "\n",
    "# Compute the number of avenues away in a similar way:\n",
    "num_avenues_away =  \n",
    "\n",
    "street_length_m =  \n",
    "avenue_length_m =  \n",
    "\n",
    "# Now we compute the total distance Farah must walk.\n",
    "manhattan_distance =  \n",
    "\n",
    "# We've included this line so that you see the distance you've computed \n",
    "# when you run this cell.  \n",
    "# You don't need to change it, but you can if you want.\n",
    "manhattan_distance"
   ]
  },
  {
   "cell_type": "markdown",
   "metadata": {
    "id": "s68ERHxXYKpZ"
   },
   "source": [
    "Some functions take multiple arguments, separated by commas. For example, the built-in `max` function returns the maximum argument passed to it."
   ]
  },
  {
   "cell_type": "code",
   "execution_count": null,
   "metadata": {
    "id": "jbTxQHtEYKpZ"
   },
   "outputs": [],
   "source": [
    "max(2, -3, 4, -5)   # try adding more arguments     "
   ]
  },
  {
   "cell_type": "markdown",
   "metadata": {
    "id": "Cgu-oO8KYKpc"
   },
   "source": [
    "Of course, the beauty of programming is such that we need to create our own Python functions in order to modularize our code further. Functions are defined using the `def` keyword. For example:"
   ]
  },
  {
   "cell_type": "code",
   "execution_count": null,
   "metadata": {
    "id": "nW_AE2qnYKpd"
   },
   "outputs": [],
   "source": [
    "def sign(x):\n",
    "    if x > 0:\n",
    "        return 'positive'\n",
    "    elif x < 0:\n",
    "        return 'negative'\n",
    "    else:\n",
    "        return 'zero'\n",
    "\n",
    "# note that from this point forward, it's no longer under the function but lines of code \n",
    "# that are to be executed. The surest way is to look at the indentations (Python forces indentations)\n",
    "for x in [-1, 0, 1]:\n",
    "    print(sign(x))"
   ]
  },
  {
   "cell_type": "markdown",
   "metadata": {
    "id": "9Z13rr8JYKpf"
   },
   "source": [
    "We will often define functions to take optional keyword arguments, like this:"
   ]
  },
  {
   "cell_type": "code",
   "execution_count": null,
   "metadata": {
    "id": "8i9vrh1UYKpf"
   },
   "outputs": [],
   "source": [
    "def hello(name, loud=False):\n",
    "    if loud:\n",
    "        print ('HELLO, %s' % name.upper())\n",
    "    else:\n",
    "        print ('Hello, %s!' % name)\n",
    "\n",
    "hello('Bob')\n",
    "hello('Fred', loud=True)"
   ]
  },
  {
   "cell_type": "markdown",
   "metadata": {
    "id": "F5NJXUDzYKpi"
   },
   "source": [
    "### Control Flow: Conditions"
   ]
  },
  {
   "cell_type": "markdown",
   "metadata": {
    "id": "B3xB7DwXYKpi"
   },
   "source": [
    "You can perform an action conditionally using a typical if-else block:"
   ]
  },
  {
   "cell_type": "code",
   "execution_count": null,
   "metadata": {
    "id": "TQyXwlKEYKpj"
   },
   "outputs": [],
   "source": [
    "balance = 400\n",
    "if balance < 0:\n",
    "    print(\"Balance is below 0, add funds now or you will be charged a penalty.\")\n",
    "elif balance == 0:\n",
    "    print(\"Balance is equal to 0, add funds soon.\")\n",
    "else:\n",
    "    print(\"Your balance is 0 or above.\")"
   ]
  },
  {
   "cell_type": "markdown",
   "metadata": {
    "id": "dYJfzKEdYKpk"
   },
   "source": [
    "In Python, we do not have \"else if\" but `elif` instead (kind of short form). Similar to all block structures in Python (functions, loops, etc.), you need to end each conditional expression with a colon \":\" and subsequent lines in that block have to be indented."
   ]
  },
  {
   "cell_type": "code",
   "execution_count": null,
   "metadata": {
    "colab": {
     "base_uri": "https://localhost:8080/"
    },
    "id": "ijdrzqCOYKpl",
    "outputId": "ff40b9a2-743e-4621-ef06-b46360be44af"
   },
   "outputs": [],
   "source": [
    "speed = 105\n",
    "mood = 'bad'\n",
    "\n",
    "if speed >= 80:\n",
    "    print('License and registration please')\n",
    "    if mood == 'terrible' or speed >= 100:\n",
    "        print('You have the right to remain silent.')\n",
    "    elif mood == 'bad' or speed >= 90:\n",
    "        print(\"I'm going to have to write you a ticket.\")\n",
    "    else:\n",
    "        print(\"Let's try to keep it under 80 ok?\")"
   ]
  },
  {
   "cell_type": "markdown",
   "metadata": {
    "id": "FFlbBZeOYKpt"
   },
   "source": [
    "**Q4** Write a function that checks whether the first character of a word starts with the letter 'B' of 'b'"
   ]
  },
  {
   "cell_type": "code",
   "execution_count": 3,
   "metadata": {
    "id": "YjaCi54jYKpt"
   },
   "outputs": [
    {
     "name": "stdout",
     "output_type": "stream",
     "text": [
      "False\n"
     ]
    }
   ],
   "source": [
    "def start_with_B(word):\n",
    "      #TODO:\n",
    "        "
   ]
  },
  {
   "cell_type": "markdown",
   "metadata": {
    "id": "Na8tFTsXYKpx"
   },
   "source": [
    "**Q5** Write a function that compares among two numbers and returns the biggest number. If the two numbers are the same, it will print that both of the numbers are the same.  "
   ]
  },
  {
   "cell_type": "code",
   "execution_count": 28,
   "metadata": {
    "id": "-R1-nuAgYKpx"
   },
   "outputs": [
    {
     "ename": "IndentationError",
     "evalue": "expected an indented block after function definition on line 2 (728903491.py, line 5)",
     "output_type": "error",
     "traceback": [
      "\u001b[0;36m  Cell \u001b[0;32mIn[28], line 5\u001b[0;36m\u001b[0m\n\u001b[0;31m    c = bigger(17,17)\u001b[0m\n\u001b[0m    ^\u001b[0m\n\u001b[0;31mIndentationError\u001b[0m\u001b[0;31m:\u001b[0m expected an indented block after function definition on line 2\n"
     ]
    }
   ],
   "source": [
    "def bigger(a,b):\n",
    "    # TODO:\n",
    "   \n",
    "c = bigger(17,17)\n",
    "print(c)\n"
   ]
  },
  {
   "cell_type": "markdown",
   "metadata": {
    "id": "wRbbyaMUYKp3"
   },
   "source": [
    "### Control Flow: Repetition\n",
    "\n",
    "Python has a `while` loop, which continues iterating until its condition stops being true:"
   ]
  },
  {
   "cell_type": "code",
   "execution_count": null,
   "metadata": {
    "id": "GDM_lN1MYKp4"
   },
   "outputs": [],
   "source": [
    "i = 0\n",
    "\n",
    "while i < 10:\n",
    "    i = i + 1\n",
    "    print(i) "
   ]
  },
  {
   "cell_type": "code",
   "execution_count": null,
   "metadata": {
    "id": "r_RUlh-eYKp7"
   },
   "outputs": [],
   "source": [
    "#This runs infinitely\n",
    "x=0\n",
    "while x < 10:\n",
    "    print (x, \"is less than 10\")\n",
    "x+=1"
   ]
  },
  {
   "cell_type": "markdown",
   "metadata": {
    "id": "Cz8LKBd2YKqA"
   },
   "source": [
    "Of course, what you saw was an infinite loop! Notice that the asterisk at the side of the cell does not turn into a run number (still computing...). Press on the **STOP** icon under the menu to abort any runaway code.\n",
    "\n",
    "More complex logic can be created with typical keywords such as break and continue:"
   ]
  },
  {
   "cell_type": "code",
   "execution_count": null,
   "metadata": {
    "id": "xff2zv9YYKqA"
   },
   "outputs": [],
   "source": [
    "for x in range(10): \n",
    "    if x==3: \n",
    "        continue \n",
    "    if x==5: \n",
    "        break \n",
    "print(\"here\", x)"
   ]
  },
  {
   "cell_type": "markdown",
   "metadata": {
    "id": "RTupdFulYKqG"
   },
   "source": [
    "Indentation is a requirement in Python. Hence, indentations play a big role in determining the structure of these loops and conditional blocks."
   ]
  },
  {
   "cell_type": "markdown",
   "metadata": {
    "id": "K0okjtrfYKqG"
   },
   "source": [
    "**For** loops can be used to iterate for a fixed or predetermined number of times. It can also be used together with iterable objects, such as list (we will revisit this later on lists)"
   ]
  },
  {
   "cell_type": "code",
   "execution_count": null,
   "metadata": {
    "id": "Qt0zfEmjYKqH"
   },
   "outputs": [],
   "source": [
    "# A for loop can iterate over the elements of a supplied list\n",
    "# Note: range(4) does not include 4!\n",
    "for x in range(4):\n",
    "    print(x)"
   ]
  },
  {
   "cell_type": "code",
   "execution_count": null,
   "metadata": {
    "id": "B0sye8fyYKqK"
   },
   "outputs": [],
   "source": [
    "# write a for loop to sum all numbers for [3, 41, 12, 9, 74, 15]\n",
    "sum = 0\n",
    "a = [3, 41, 12, 9, 74, 15]\n",
    "for x in a:\n",
    "    sum = sum + x\n",
    "print(sum)"
   ]
  },
  {
   "cell_type": "markdown",
   "metadata": {
    "id": "ew1YfQiFYKqM"
   },
   "source": [
    "### Packages & Modules\n",
    "\n",
    "Packages are namespaces which contain multiple packages and modules themselves. A module can define functions, classes and variables. Python does not necessary have all features by default, it has only a basic functional set of packages. To enable usage, you need to (install the package/module if necessary) and \"import\" them in your code. Think of \"import\" as the _include_ directive that you are familiar with in C/C++."
   ]
  },
  {
   "cell_type": "code",
   "execution_count": null,
   "metadata": {
    "id": "HsUzKNPnYKqM"
   },
   "outputs": [],
   "source": [
    "import math\n",
    "print(math.sqrt(9))"
   ]
  },
  {
   "cell_type": "markdown",
   "metadata": {
    "id": "Pxa-Weg4YKqP"
   },
   "source": [
    "## 3. Containers"
   ]
  },
  {
   "cell_type": "markdown",
   "metadata": {
    "id": "G5hQaC6VYKqQ"
   },
   "source": [
    "Python includes several built-in container types: lists, dictionaries, tuples. These three are among the most commonly used."
   ]
  },
  {
   "cell_type": "markdown",
   "metadata": {
    "id": "bURhmRkPYKqQ"
   },
   "source": [
    "### Lists"
   ]
  },
  {
   "cell_type": "markdown",
   "metadata": {
    "id": "Fq3cn1UKYKqQ"
   },
   "source": [
    "A list is the Python equivalent of an array, but is resizeable and can contain elements of different types:"
   ]
  },
  {
   "cell_type": "code",
   "execution_count": null,
   "metadata": {
    "id": "QHSxqYxiYKqR"
   },
   "outputs": [],
   "source": [
    "xs = [3, 1, 2]   # Create a list\n",
    "print (xs, xs[2])\n",
    "print (xs[-1])     # Negative indices count from the end of the list; prints \"2\""
   ]
  },
  {
   "cell_type": "code",
   "execution_count": null,
   "metadata": {
    "id": "jbucA8FDYKqU"
   },
   "outputs": [],
   "source": [
    "xs[2] = 'foo'    # Lists can contain elements of different types\n",
    "print (xs)"
   ]
  },
  {
   "cell_type": "code",
   "execution_count": null,
   "metadata": {
    "id": "oIX_Zu25YKqY"
   },
   "outputs": [],
   "source": [
    "xs.append('bar') # Add a new element to the end of the list\n",
    "print (xs)  "
   ]
  },
  {
   "cell_type": "code",
   "execution_count": null,
   "metadata": {
    "id": "NMNTqO-DYKqb"
   },
   "outputs": [],
   "source": [
    "x = xs.pop()     # Remove and return the last element of the list\n",
    "print (x, xs) "
   ]
  },
  {
   "cell_type": "markdown",
   "metadata": {
    "id": "nwZID8jNYKqd"
   },
   "source": [
    "As usual, you can find all the details about lists in the [documentation](https://docs.python.org/2/tutorial/datastructures.html#more-on-lists)."
   ]
  },
  {
   "cell_type": "markdown",
   "metadata": {
    "id": "jfpk1M68YKqd"
   },
   "source": [
    "#### Slicing"
   ]
  },
  {
   "cell_type": "markdown",
   "metadata": {
    "id": "Tanf0OgNYKqd"
   },
   "source": [
    "In addition to accessing list elements one at a time, Python provides concise syntax to access sublists; this is known as slicing:"
   ]
  },
  {
   "cell_type": "code",
   "execution_count": null,
   "metadata": {
    "id": "linn-p-WYKqe"
   },
   "outputs": [],
   "source": [
    "nums = range(5)    # range is a built-in function that creates a list of integers\n",
    "print(list (nums))   # Prints \"[0, 1, 2, 3, 4]\"\n",
    "print (list(nums[2:4]))    # Get a slice from index 2 to 4 (exclusive); prints \"[2, 3]\"\n",
    "print (list(nums[2:]))     # Get a slice from index 2 to the end; prints \"[2, 3, 4]\"\n",
    "print (list(nums[:2]))     # Get a slice from the start to index 2 (exclusive); prints \"[0, 1]\"\n",
    "print (list(nums[:]))      # Get a slice of the whole list; prints [\"0, 1, 2, 3, 4]\"\n",
    "print (list(nums[:-1]))    # Slice indices can be negative; prints [\"0, 1, 2, 3]\"\n",
    "numlist = list(nums)\n",
    "numlist[2:4] = [8, 9]   # Assign a new sublist to a slice\n",
    "print (numlist)         # Prints \"[0, 1, 8, 9, 4]\""
   ]
  },
  {
   "cell_type": "markdown",
   "metadata": {
    "id": "ARCHFTKBYKqf"
   },
   "source": [
    "#### Revisiting Loops"
   ]
  },
  {
   "cell_type": "markdown",
   "metadata": {
    "id": "gZoTpzLIYKqg"
   },
   "source": [
    "You can do loops like how you did in other languages:"
   ]
  },
  {
   "cell_type": "code",
   "execution_count": null,
   "metadata": {
    "id": "bOOWb9LxYKqg"
   },
   "outputs": [],
   "source": [
    "for i in range(5):\n",
    "    print(i)"
   ]
  },
  {
   "cell_type": "markdown",
   "metadata": {
    "id": "6stqsIqHYKqj"
   },
   "source": [
    "Oh yes, Python counts from 0, not 1.\n",
    "\n",
    "This is more useful. You can loop over the elements of a list like this:"
   ]
  },
  {
   "cell_type": "code",
   "execution_count": null,
   "metadata": {
    "id": "XxWorm95YKqj"
   },
   "outputs": [],
   "source": [
    "animals = ['cat', 'dog', 'monkey']\n",
    "for animal in animals:\n",
    "    print (animal)"
   ]
  },
  {
   "cell_type": "markdown",
   "metadata": {
    "id": "PZtt2Y5xYKql"
   },
   "source": [
    "If you want access to the index of each element within the body of a loop, use the built-in `enumerate` function:"
   ]
  },
  {
   "cell_type": "code",
   "execution_count": null,
   "metadata": {
    "id": "ai-PkAMCYKqm"
   },
   "outputs": [],
   "source": [
    "animals = ['cat', 'dog', 'monkey']\n",
    "for idx, animal in enumerate(animals):\n",
    "    print ('#%d: %s' % (idx + 1, animal))"
   ]
  },
  {
   "cell_type": "markdown",
   "metadata": {
    "id": "F5B59AL2YKqo"
   },
   "source": [
    "#### List comprehensions:"
   ]
  },
  {
   "cell_type": "markdown",
   "metadata": {
    "id": "JtoDHl6hYKqo"
   },
   "source": [
    "When programming, frequently we want to transform one type of data into another. As a simple example, consider the following code that computes square numbers:"
   ]
  },
  {
   "cell_type": "code",
   "execution_count": null,
   "metadata": {
    "id": "_jI8Z4mzYKqo"
   },
   "outputs": [],
   "source": [
    "nums = [0, 1, 2, 3, 4]\n",
    "squares = []\n",
    "for x in nums:\n",
    "    squares.append(x ** 2)\n",
    "print (squares)"
   ]
  },
  {
   "cell_type": "markdown",
   "metadata": {
    "id": "w27ZCDVNYKqt"
   },
   "source": [
    "You can make this code simpler using a **list comprehension**, a powerful feature that Python has:"
   ]
  },
  {
   "cell_type": "code",
   "execution_count": null,
   "metadata": {
    "id": "Bdgr29ymYKqt"
   },
   "outputs": [],
   "source": [
    "nums = [0, 1, 2, 3, 4]\n",
    "squares = [x ** 2 for x in nums]\n",
    "print (squares)"
   ]
  },
  {
   "cell_type": "markdown",
   "metadata": {
    "id": "v3BXtnEIYKqw"
   },
   "source": [
    "List comprehensions can also contain conditions:"
   ]
  },
  {
   "cell_type": "code",
   "execution_count": null,
   "metadata": {
    "id": "IAfndn5FYKqw"
   },
   "outputs": [],
   "source": [
    "nums = [0, 1, 2, 3, 4]\n",
    "even_squares = [x ** 2 for x in nums if x % 2 == 0]\n",
    "print (even_squares)"
   ]
  },
  {
   "cell_type": "markdown",
   "metadata": {
    "id": "gPkXNXwLYKq3"
   },
   "source": [
    "### Dictionaries"
   ]
  },
  {
   "cell_type": "markdown",
   "metadata": {
    "id": "kcoYPZezYKq3"
   },
   "source": [
    "A dictionary stores (key, value) pairs, similar to a `Map` in Java or an object in Javascript. You can use it like this:"
   ]
  },
  {
   "cell_type": "code",
   "execution_count": null,
   "metadata": {
    "id": "ij2oKBnLYKq4"
   },
   "outputs": [],
   "source": [
    "d = {'cat': 'cute', 'dog': 'furry'}  # Create a new dictionary with some data\n",
    "print (d['cat'])       # Get an entry from a dictionary; prints \"cute\"\n",
    "print ('cat' in d)     # Check if a dictionary has a given key; prints \"True\""
   ]
  },
  {
   "cell_type": "code",
   "execution_count": null,
   "metadata": {
    "id": "1BAMzk8_YKq5"
   },
   "outputs": [],
   "source": [
    "d['fish'] = 'wet'    # Set an entry in a dictionary\n",
    "print (d['fish'])      # Prints \"wet\""
   ]
  },
  {
   "cell_type": "code",
   "execution_count": null,
   "metadata": {
    "id": "YR99BrNcYKq7"
   },
   "outputs": [],
   "source": [
    "print (d['monkey'])  # KeyError: 'monkey' not a key of d"
   ]
  },
  {
   "cell_type": "code",
   "execution_count": null,
   "metadata": {
    "id": "2J1dt2zKYKq9"
   },
   "outputs": [],
   "source": [
    "print (d.get('monkey', 'N/A'))  # Get an element with a default; prints \"N/A\"\n",
    "print (d.get('fish', 'N/A'))    # Get an element with a default; prints \"wet\""
   ]
  },
  {
   "cell_type": "code",
   "execution_count": null,
   "metadata": {
    "id": "8fqn9otDYKq_"
   },
   "outputs": [],
   "source": [
    "del d['fish']        # Remove an element from a dictionary\n",
    "print (d.get('fish', 'N/A')) # \"fish\" is no longer a key; prints \"N/A\""
   ]
  },
  {
   "cell_type": "markdown",
   "metadata": {
    "id": "fCptHQ9ZYKrD"
   },
   "source": [
    "We can use dictionaries as a simple way to represent structured data:"
   ]
  },
  {
   "cell_type": "code",
   "execution_count": null,
   "metadata": {
    "id": "HaOgK9KlYKrD"
   },
   "outputs": [],
   "source": [
    "tweet = {\n",
    "    \"user\" : \"joelgrus\",\n",
    "    \"text\" : \"Data Science is Awesome\",\n",
    "    \"retweet_count\" : 100,\n",
    "    \"hashtags\" : [\"#data\", \"#science\", \"#datascience\", \"#awesome\", \"#yolo\"]\n",
    "}"
   ]
  },
  {
   "cell_type": "markdown",
   "metadata": {
    "id": "nv4dsdzQYKrF"
   },
   "source": [
    "Some nifty functions can help us list down all keys and/or values:"
   ]
  },
  {
   "cell_type": "code",
   "execution_count": null,
   "metadata": {
    "id": "1VeygphLYKrF"
   },
   "outputs": [],
   "source": [
    "tweet_keys =tweet.keys()\n",
    "tweet_values = tweet.values()\n",
    "tweet_items = tweet.items()\n",
    "print(tweet_keys)\n",
    "print(tweet_values)\n",
    "print(tweet_items)"
   ]
  },
  {
   "cell_type": "markdown",
   "metadata": {
    "id": "eyHvlPSKYKrI"
   },
   "source": [
    "It is easy to iterate over the keys in a dictionary:"
   ]
  },
  {
   "cell_type": "code",
   "execution_count": null,
   "metadata": {
    "id": "dihzIP27YKrI"
   },
   "outputs": [],
   "source": [
    "d = {'person': 2, 'cat': 4, 'spider': 8}\n",
    "for animal in d:\n",
    "    legs = d[animal]\n",
    "    print ('A %s has %d legs' % (animal, legs))"
   ]
  },
  {
   "cell_type": "markdown",
   "metadata": {
    "id": "PlOURgsUYKrL"
   },
   "source": [
    "If you want access to keys and their corresponding values, use the iteritems method:"
   ]
  },
  {
   "cell_type": "code",
   "execution_count": null,
   "metadata": {
    "id": "c2UFyQrfYKrL"
   },
   "outputs": [],
   "source": [
    "d = {'person': 2, 'cat': 4, 'spider': 8}\n",
    "for animal, legs in d.items():\n",
    "    print ('A %s has %d legs' % (animal, legs))"
   ]
  },
  {
   "cell_type": "markdown",
   "metadata": {
    "id": "LdyhP146YKrO"
   },
   "source": [
    "Dictionary comprehensions: These are similar to list comprehensions, but allow you to easily construct dictionaries. For example:"
   ]
  },
  {
   "cell_type": "code",
   "execution_count": null,
   "metadata": {
    "id": "I4cMsgujYKrO"
   },
   "outputs": [],
   "source": [
    "nums = [0, 1, 2, 3, 4]\n",
    "even_num_to_square = {x: x ** 2 for x in nums if x % 2 == 0}\n",
    "print (even_num_to_square)"
   ]
  },
  {
   "cell_type": "markdown",
   "metadata": {
    "id": "reKni__9YKrQ"
   },
   "source": [
    "You can find all you need to know about dictionaries in the [documentation](https://docs.python.org/3.8/library/stdtypes.html#dict).\n",
    "\n",
    "**Note**: List and dictionaries are most crucial if you are to work with Numpy and Pandas, two very powerful Python libraries."
   ]
  },
  {
   "cell_type": "markdown",
   "metadata": {
    "id": "Hp0RKZSFYKrQ"
   },
   "source": [
    "### Tuples"
   ]
  },
  {
   "cell_type": "markdown",
   "metadata": {
    "id": "JCkOAEmrYKrQ"
   },
   "source": [
    "A tuple is an (immutable) ordered list of values. You specify a tuple by using parentheses (or nothing) instead of square brackets. A tuple is in many ways similar to a list; one of the most important differences is that tuples can be used as keys in dictionaries, while lists cannot. Here is a trivial example:"
   ]
  },
  {
   "cell_type": "code",
   "execution_count": null,
   "metadata": {
    "id": "hvFMMT1TYKrR"
   },
   "outputs": [],
   "source": [
    "d = {(x, x + 1): x for x in range(10)}  # Create a dictionary with tuple keys\n",
    "t = (5, 6)       # Create a tuple\n",
    "print(type(t))\n",
    "print (d[t])       \n",
    "print (d[(1, 2)])"
   ]
  },
  {
   "cell_type": "markdown",
   "metadata": {
    "id": "uXuIovKKYKrS"
   },
   "source": [
    "You cannot modify a tuple."
   ]
  },
  {
   "cell_type": "code",
   "execution_count": null,
   "metadata": {
    "id": "EguEPiwsYKrS"
   },
   "outputs": [],
   "source": [
    "t[0] = 1"
   ]
  },
  {
   "cell_type": "markdown",
   "metadata": {
    "id": "NnYL8kD_YKrU"
   },
   "source": [
    "Tuples are a convenient way to return multiple values from functions:"
   ]
  },
  {
   "cell_type": "code",
   "execution_count": null,
   "metadata": {
    "id": "Qoum237KYKrU"
   },
   "outputs": [],
   "source": [
    "def sum_and_product(x, y):\n",
    "    return (x + y),(x * y)\n",
    "\n",
    "sp = sum_and_product(2, 3)\n",
    "s, p = sum_and_product(5, 10)\n",
    "print(sp)\n",
    "print(s)\n",
    "print(p)"
   ]
  },
  {
   "cell_type": "markdown",
   "metadata": {
    "id": "AATV1WpsYKrV"
   },
   "source": [
    "### Other features\n",
    "\n",
    "Jupyter notebooks are kinda cool. You can easily embed YouTube videos."
   ]
  },
  {
   "cell_type": "code",
   "execution_count": null,
   "metadata": {},
   "outputs": [],
   "source": [
    "from IPython.display import YouTubeVideo\n",
    "\n",
    "YouTubeVideo('5_Z7vAl3zfE', width=800, height=300)"
   ]
  },
  {
   "cell_type": "markdown",
   "metadata": {
    "id": "awDFUzgWYKrY"
   },
   "source": [
    "## 4. Additional Exercises"
   ]
  },
  {
   "cell_type": "markdown",
   "metadata": {
    "id": "u6UVw0MfYKrY"
   },
   "source": [
    "**AE1**: Print a string a number of times equal to the length of the string."
   ]
  },
  {
   "cell_type": "code",
   "execution_count": 9,
   "metadata": {
    "id": "KzLZ5be8YKrZ"
   },
   "outputs": [
    {
     "name": "stdout",
     "output_type": "stream",
     "text": [
      "Hello World\n",
      "Hello World\n",
      "Hello World\n",
      "Hello World\n",
      "Hello World\n",
      "Hello World\n",
      "Hello World\n",
      "Hello World\n",
      "Hello World\n",
      "Hello World\n",
      "Hello World\n"
     ]
    }
   ],
   "source": [
    "def loop_string(s):\n",
    "    #TODO:\n",
    "    \n",
    "loop_string('Hello World')"
   ]
  },
  {
   "cell_type": "markdown",
   "metadata": {
    "id": "jGiA40DtYKrb"
   },
   "source": [
    "**AE2**: Write a function **`Rome2Now`** that converts a Roman numeral (e.g. IV, XVII, MMXIX) to its decimal number form (corresponding e.g. 4, 17, 2019). "
   ]
  },
  {
   "cell_type": "code",
   "execution_count": 16,
   "metadata": {
    "id": "js36W5j3YKrf"
   },
   "outputs": [
    {
     "data": {
      "text/plain": [
       "17"
      ]
     },
     "execution_count": 16,
     "metadata": {},
     "output_type": "execute_result"
    }
   ],
   "source": [
    "def Rome2Now(roman):\n",
    "    #TODO:\n",
    "    \n",
    "print(Rome2Now('IV'))\n",
    "print(Rome2Now('XVII'))\n",
    "print(Rome2Now('MMXIX'))"
   ]
  },
  {
   "cell_type": "markdown",
   "metadata": {
    "id": "rjCfWgwNYKri"
   },
   "source": [
    "**AE3**: Write two functions to compute the factorial of an integer number: one uses a normal loop, another uses recursive function calls."
   ]
  },
  {
   "cell_type": "code",
   "execution_count": 22,
   "metadata": {
    "id": "iD5P62RgYKrj"
   },
   "outputs": [
    {
     "name": "stdout",
     "output_type": "stream",
     "text": [
      "120\n",
      "120\n"
     ]
    }
   ],
   "source": [
    "# Define a function called factorial(n)\n",
    "def factorial(n):\n",
    "    #TODO:\n",
    "    \n",
    "def recursive_factorial(n):\n",
    "    # TODO:\n",
    "    \n",
    "answer = factorial(5)\n",
    "print(answer)\n",
    "\n",
    "answer2 = recursive_factorial(5)\n",
    "print(answer2)"
   ]
  },
  {
   "cell_type": "markdown",
   "metadata": {
    "id": "wcvj78bLYKrm"
   },
   "source": [
    "**AE4**: Define a function that print the list of a specified list after removing even numbers from it."
   ]
  },
  {
   "cell_type": "code",
   "execution_count": 27,
   "metadata": {
    "id": "yru_joxgYKrn"
   },
   "outputs": [
    {
     "data": {
      "text/plain": [
       "[8, 120, 44, 20]"
      ]
     },
     "execution_count": 27,
     "metadata": {},
     "output_type": "execute_result"
    }
   ],
   "source": [
    "# Note: this function will not return any values\n",
    "num = [7, 8, 120, 25, 44, 20, 27]\n",
    "def remove_even(n):\n",
    "    # TODO:\n",
    "\n",
    "    \n",
    "remove_even(num)"
   ]
  }
 ],
 "metadata": {
  "colab": {
   "collapsed_sections": [
    "wRbbyaMUYKp3"
   ],
   "name": "Lab01.ipynb",
   "provenance": []
  },
  "kernelspec": {
   "display_name": "Python 3 (ipykernel)",
   "language": "python",
   "name": "python3"
  },
  "language_info": {
   "codemirror_mode": {
    "name": "ipython",
    "version": 3
   },
   "file_extension": ".py",
   "mimetype": "text/x-python",
   "name": "python",
   "nbconvert_exporter": "python",
   "pygments_lexer": "ipython3",
   "version": "3.10.9"
  }
 },
 "nbformat": 4,
 "nbformat_minor": 4
}
