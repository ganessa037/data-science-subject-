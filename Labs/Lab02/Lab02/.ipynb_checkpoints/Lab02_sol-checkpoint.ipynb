{
 "cells": [
  {
   "cell_type": "markdown",
   "metadata": {
    "id": "LVa95QlIoNpG"
   },
   "source": [
    "# **Lab 2**\n",
    "\n",
    "## Handling Data in Python"
   ]
  },
  {
   "cell_type": "markdown",
   "metadata": {
    "id": "tnvt4L7XoNsW"
   },
   "source": [
    "**Q1**: Write some code:\n",
    "<ol type=\"a\">\n",
    "<li>to extract all the names of the clinics from the data into another new list. (You can use list comprehension!)</li> \n",
    "<li>to count the total number of clinics</li>\n",
    "</ol>"
   ]
  },
  {
   "cell_type": "code",
   "execution_count": 2,
   "metadata": {
    "colab": {
     "base_uri": "https://localhost:8080/"
    },
    "id": "Km285jSgoNsX",
    "outputId": "9d04eba1-b80a-418a-a35b-1fbf7baa815e"
   },
   "outputs": [
    {
     "name": "stdout",
     "output_type": "stream",
     "text": [
      "['Klinik 1 Malaysia Alma Jaya', 'Klinik 1 Malaysia Aulong', 'Klinik 1 Malaysia Bandar Lela', 'Klinik 1 Malaysia Bandar Puteri Jaya', 'Klinik 1 Malaysia Bandar seri Iskandar', 'Klinik 1 Malaysia Bandar Sri Alam', 'Klinik 1 Malaysia Bandar Sri Indah', 'Klinik 1 Malaysia Batu Berendam', 'Klinik 1 Malaysia Seremban Jaya', 'Klinik 1 Malaysia Seri Pengkalan', 'Klinik 1 Malaysia Sri Stulang', 'Klinik 1 Malaysia Batu Kawan', 'Klinik 1 Malaysia Batu Melintang', 'Klinik 1 Malaysia Bercham', 'Klinik 1 Malaysia Binjai', 'Klinik 1 Malaysia Bukit Beruntung', 'Klinik 1 Malaysia Bukit Katil', 'Klinik 1 Malaysia Bukit Payong', 'Klinik 1 Malaysia Bukit Sentosa', 'Klinik 1 Malaysia Bundusan Square', 'Klinik 1 Malaysia Cakerapurnama', 'Klinik 1 Malaysia Desa Rejang', 'Klinik 1 Malaysia Kg Padang Jaya', 'Klinik 1 Malaysia Kota Bharu', 'Klinik 1 Malaysia Bandar seri Iskandar', 'Klinik 1 Malaysia Intan Baiduri', 'Klinik 1 Malaysia Jalan Teku', 'Klinik 1 Malaysia Jelawat', 'Klinik 1 Malaysia Jelutong', 'Klinik 1 Malaysia Kangar', 'Klinik 1 Malaysia Kg Padang Jaya', 'Klinik 1 Malaysia Kota Bharu', 'Klinik 1 Malaysia Kota Kenari', 'Klinik 1 Malaysia Lembah Subang', 'Klinik 1 Malaysia Matang Jaya', 'Klinik 1 Malaysia Pengkalan Batu', 'Klinik 1 Malaysia Perkasa', 'Klinik 1 Malaysia PJS 6', 'Klinik 1 Malaysia Seremban Jaya', 'Klinik 1 Malaysia Seri Pengkalan', 'Klinik 1 Malaysia Sri Stulang', 'Klinik 1 Malaysia Kg Padang Jaya', 'Klinik 1 Malaysia Sulaman Sentral', 'Klinik 1 Malaysia Sungai Ara', 'Klinik 1 Malaysia Sungai Plan', 'Klinik 1 Malaysia Taman Gombak Permai', 'Klinik 1 Malaysia Taman Kempadang Makmur', 'Klinik 1 Malaysia Taman Manis', 'Klinik 1 Malaysia Taman Megah Ria', 'Klinik 1 Malaysia Taman Melati', 'Klinik 1 Malaysia Taman Pagoh Jaya', 'Klinik 1 Malaysia Taman Rasah Jaya', 'Klinik 1 Malaysia Taman Semarak 2', 'Klinik 1 Malaysia Taman Seri Lambak', 'Klinik 1 Malaysia Taman Tunku', 'Klinik 1 Malaysia Teluk Air Tawar', 'Klinik 1 Malaysia Teluk Intan', 'Klinik 1 Malaysia Temerloh', 'Klinik 1 Malaysia Wakaf Baru', 'Klinik 1Malaysia Kerinchi']\n",
      "60\n"
     ]
    }
   ],
   "source": [
    "import csv\n",
    "with open('clinic1M.csv') as csv_file:\n",
    "    csv_reader = list(csv.reader(csv_file, delimiter=','))\n",
    "    # fill in your code\n",
    "    clinic_names = [x[1] for x in csv_reader] ###select column and read rows\n",
    "    clinic_names.pop(0) ###make sure is starts from correct row\n",
    "    n = len(clinic_names) ###quick way to find out total\n",
    "\n",
    "print(clinic_names)\n",
    "print(n)    "
   ]
  },
  {
   "cell_type": "markdown",
   "metadata": {},
   "source": [
    "## Alternative solution to Q1"
   ]
  },
  {
   "cell_type": "code",
   "execution_count": null,
   "metadata": {},
   "outputs": [],
   "source": [
    "with open('clinic1M.csv') as csv_file:\n",
    "    csv_reader = list(csv.reader(csv_file, delimiter=','))\n",
    "    # fill in your code\n",
    "    clinic_names = [col[1] for col in csv_reader][1:]    # using list comprehension\n",
    "    \n",
    "    # for loop way\n",
    "    clinic_names = []   # empty list\n",
    "    for i in csv_reader[1:]:\n",
    "       clinic_names.append(i[1])\n",
    "\n",
    "print(clinic_names)\n",
    "print(\"Total number of 1M clinics: \", len(clinic_names))\n"
   ]
  },
  {
   "cell_type": "markdown",
   "metadata": {
    "id": "MTYHgOXEoNu-"
   },
   "source": [
    "If you ever need <font color='red'>to make permanent changes (overwriting the original data)</font>, you can use the parameter `inplace=True` to perform this [drop](https://pandas.pydata.org/pandas-docs/stable/reference/api/pandas.DataFrame.drop.html) operation \"in place\", in the original dataframe.\n",
    "\n",
    "**Q2**: Write the code (one line only!) to drop the \"patients\" column from DataFrame `fr2`. Ensure that the modification is done on the original dataframe. "
   ]
  },
  {
   "cell_type": "code",
   "execution_count": null,
   "metadata": {
    "id": "pD6Tk_76oNu-"
   },
   "outputs": [],
   "source": [
    "# fill in here\n",
    "fr2.drop(columns='patients',inplace=True)\n"
   ]
  },
  {
   "cell_type": "markdown",
   "metadata": {
    "id": "7Jv5Ln70A86Y"
   },
   "source": [
    "## Additional Exercises:\n",
    "\n",
    "**AE1**: Multiply A with B, and then multiply A with C. Observe the outcome of two multiplication of Numpy arrays."
   ]
  },
  {
   "cell_type": "code",
   "execution_count": null,
   "metadata": {
    "colab": {
     "base_uri": "https://localhost:8080/"
    },
    "id": "oLhN4s3iC8YH",
    "outputId": "bb387501-4432-4fce-a06e-00c2a4e8e4f1"
   },
   "outputs": [],
   "source": [
    "A = np.array([[1,3,5],[2,4,6]])\n",
    "B = np.array([9, 8, 7])\n",
    "C = np.array([[0,1],[1,0]])\n",
    "print(A.shape)\n",
    "print(B.shape)\n",
    "print(C.shape)\n",
    "# more codes to add\n",
    "\n",
    "A_B = A*B\n",
    "#A_C = A*C\n",
    "\n",
    "print(A_B)\n",
    "#print(A_C)"
   ]
  },
  {
   "cell_type": "markdown",
   "metadata": {
    "id": "hFdWkzfiEnpm"
   },
   "source": [
    "**AE2**: Using the \"clinic1M.csv\" data file, count the number of clinics in each state. "
   ]
  },
  {
   "cell_type": "code",
   "execution_count": null,
   "metadata": {
    "colab": {
     "base_uri": "https://localhost:8080/",
     "height": 1000
    },
    "id": "_V7CsHvVGzQY",
    "outputId": "f93003ea-d6dd-4a12-9d57-4407d17977e2"
   },
   "outputs": [],
   "source": [
    "df"
   ]
  },
  {
   "cell_type": "code",
   "execution_count": null,
   "metadata": {
    "colab": {
     "base_uri": "https://localhost:8080/",
     "height": 531
    },
    "id": "aMX24jaIUMz3",
    "outputId": "2596e25d-3c47-41d5-a15b-b666a4940ad1"
   },
   "outputs": [],
   "source": [
    "places = pd.DataFrame(df['address2']) ###extract address with states\n",
    "places[['district','state']] = places['address2'].str.split(',',expand=True) ###split the district and states into own columns, Q: why the commas doesn't work like others?\n",
    "places['state'].replace(np.nan,'N/A',inplace=True) \n",
    "states = places['state'].unique() ###get unique states\n",
    "states_total = [len(places[x == places['state']]) for x in states]###get the count for each state by comparing with unique list\n",
    "#print(states)\n",
    "#print(states_total)\n",
    "###optional: place answers in a dataframe\n",
    "state_clinics = pd.DataFrame(states,columns=['states'])\n",
    "state_clinics['total'] = pd.Series(states_total)\n",
    "print(state_clinics['total'].sum())\n",
    "state_clinics"
   ]
  },
  {
   "cell_type": "code",
   "execution_count": null,
   "metadata": {
    "id": "0OhfJbtvUbZL"
   },
   "outputs": [],
   "source": []
  }
 ],
 "metadata": {
  "colab": {
   "collapsed_sections": [],
   "name": "lab02_sol.ipynb",
   "provenance": [],
   "toc_visible": true
  },
  "kernelspec": {
   "display_name": "Python 3 (ipykernel)",
   "language": "python",
   "name": "python3"
  },
  "language_info": {
   "codemirror_mode": {
    "name": "ipython",
    "version": 3
   },
   "file_extension": ".py",
   "mimetype": "text/x-python",
   "name": "python",
   "nbconvert_exporter": "python",
   "pygments_lexer": "ipython3",
   "version": "3.10.9"
  }
 },
 "nbformat": 4,
 "nbformat_minor": 4
}
