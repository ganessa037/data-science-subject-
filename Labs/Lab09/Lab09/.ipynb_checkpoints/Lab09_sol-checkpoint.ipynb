{
 "cells": [
  {
   "cell_type": "markdown",
   "metadata": {
    "id": "vz6t4Si_HWBr"
   },
   "source": [
    "# **Lab 9**"
   ]
  },
  {
   "cell_type": "markdown",
   "metadata": {
    "id": "YG2QJf6KayBZ"
   },
   "source": [
    "**Q1**: What do you think `r*-` or `b--` mean? It's related to the colour and line patterns."
   ]
  },
  {
   "cell_type": "markdown",
   "metadata": {},
   "source": [
    " r means red, * means a star marker, - is a solid line\n",
    " b means blue, -- is a dashed line"
   ]
  },
  {
   "cell_type": "markdown",
   "metadata": {
    "id": "ETw_mJ4MLVJJ"
   },
   "source": [
    "**Q2.** Create 5 subplots in a row. Each subplot contains a line of a function $y=x^n$ and that $n$ increases from 1 to 5."
   ]
  },
  {
   "cell_type": "code",
   "execution_count": null,
   "metadata": {
    "id": "b18Z9e-_LVJJ"
   },
   "outputs": [],
   "source": [
    "x = np.arange(-20,20,1)\n",
    "# write your code here\n",
    "plt.subplot(1,5,1)   \n",
    "plt.plot(x, x, 'r') \n",
    "plt.subplot(1,5,2)   \n",
    "plt.plot(x, x**2, 'b') \n",
    "plt.subplot(1,5,3)   \n",
    "plt.plot(x, x**3, 'g') \n",
    "plt.subplot(1,5,4)   \n",
    "plt.plot(x, x**4, 'm')\n",
    "plt.subplot(1,5,5)   \n",
    "plt.plot(x, x**2, 'c') \n",
    "\n",
    "\n"
   ]
  },
  {
   "cell_type": "markdown",
   "metadata": {
    "id": "9g72kYBZLVKu"
   },
   "source": [
    "**Q3.** Given a simple dataset below:\n",
    "\n",
    "Time (decade): 0, 1, 2, 3, 4, 5, 6.<br />\n",
    "CO2 concentration (ppm): 250, 265, 272, 260, 300, 320, 389\n",
    "\n",
    "a) Create a line graph of CO2 versus time. View the plot.\n",
    "\n",
    "b) Re-draw the graph with a blue dashed line.\n",
    "\n",
    "c) Add a title and axis titles to the plot."
   ]
  },
  {
   "cell_type": "code",
   "execution_count": null,
   "metadata": {
    "id": "S1IgXWrSLVKv"
   },
   "outputs": [],
   "source": [
    "# write your codes here\n",
    "\n",
    "fig, ax = plt.subplots()\n",
    "\n",
    "\n",
    "xx = [0, 1, 2, 3, 4, 5, 6]\n",
    "yy = [250, 265, 272, 260, 300, 320, 389]\n",
    "ax.plot(xx, yy, color='blue', linestyle='--');\n",
    "\n",
    "ax.set_ylabel(\"CO2 concentration (ppm)\", fontsize=18, color=\"blue\")\n",
    "ax.set_xlabel(\"Time (decade)\", fontsize=18, color=\"blue\")\n",
    "for label in ax.get_yticklabels():\n",
    "    label.set_color(\"red\")\n",
    "ax.set_title(\"CO2 by time\");  "
   ]
  },
  {
   "cell_type": "markdown",
   "metadata": {
    "id": "yNAYJTBlLVKz"
   },
   "source": [
    "**Q4.** Continuing with the same data plot above, re-plot again by adding a second line using the following data:\n",
    "\n",
    "Temp (°c): 14.1, 15.5, 16.3, 18.1, 17.3, 19.1, 20.2\n",
    "\n",
    "Then, save the output figure (using Python code) to a PDF file."
   ]
  },
  {
   "cell_type": "code",
   "execution_count": null,
   "metadata": {
    "id": "17wyEqa_LVKz"
   },
   "outputs": [],
   "source": [
    "# write your codes here\n",
    "\n",
    "\n",
    "fig, ax = plt.subplots()\n",
    "\n",
    "\n",
    "xx = [0, 1, 2, 3, 4, 5, 6]\n",
    "yy = [250, 265, 272, 260, 300, 320, 389]\n",
    "xy = [14.1, 15.5, 16.3, 18.1, 17.3, 19.1, 20.2]\n",
    "ax.plot(xx, yy, color='blue', linestyle='--');\n",
    "\n",
    "ax.set_ylabel(\"CO2 concentration (ppm)\", fontsize=18, color=\"blue\")\n",
    "ax.set_xlabel(\"Time (decade)\", fontsize=18, color=\"blue\")\n",
    "for label in ax.get_yticklabels():\n",
    "    label.set_color(\"red\")\n",
    "ax.set_title(\"CO2 by time\");  \n",
    "\n",
    "    \n",
    "ax2 = ax.twinx()\n",
    "ax2.plot(x, y, color='green', linestyle='--')\n",
    "ax2.set_ylabel(\"Temp (°c)\", fontsize=18, color=\"green\")\n",
    "for label in ax2.get_yticklabels():\n",
    "    label.set_color(\"green\")\n",
    "\n",
    "fig.savefig(\"Q4.pdf\")\n"
   ]
  }
 ],
 "metadata": {
  "colab": {
   "collapsed_sections": [
    "QmtsMr3PLVKN"
   ],
   "name": "lab09_sol.ipynb",
   "provenance": []
  },
  "kernelspec": {
   "display_name": "Python 3 (ipykernel)",
   "language": "python",
   "name": "python3"
  },
  "language_info": {
   "codemirror_mode": {
    "name": "ipython",
    "version": 3
   },
   "file_extension": ".py",
   "mimetype": "text/x-python",
   "name": "python",
   "nbconvert_exporter": "python",
   "pygments_lexer": "ipython3",
   "version": "3.11.2"
  }
 },
 "nbformat": 4,
 "nbformat_minor": 1
}
