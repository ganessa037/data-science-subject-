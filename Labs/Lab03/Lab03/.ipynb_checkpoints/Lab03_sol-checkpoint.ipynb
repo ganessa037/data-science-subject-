{
 "cells": [
  {
   "cell_type": "markdown",
   "metadata": {
    "id": "v3GTmeUdqzA0"
   },
   "source": [
    "# **Lab 3**\n"
   ]
  },
  {
   "cell_type": "markdown",
   "metadata": {
    "id": "at6dCOYJtaDr"
   },
   "source": [
    "## Tabular Data with Pandas"
   ]
  },
  {
   "cell_type": "markdown",
   "metadata": {
    "id": "oMg8kOkVqzA1"
   },
   "source": [
    "> **Credit note**: A portion of this lab tutorial was motivated by the nice examples from https://github.com/guipsamora and University of Berkeley's [Data 100](https://github.com/DS-100/su19/) (Summer 2019 version) lecture notebooks.\n"
   ]
  },
  {
   "cell_type": "markdown",
   "metadata": {
    "id": "YWqqjS7JqzDn"
   },
   "source": [
    "**Q1**: Which movie of the Drama genre, released after 2010, managed to obtain a rating of more than 8.5 on IMDB? "
   ]
  },
  {
   "cell_type": "code",
   "execution_count": null,
   "metadata": {
    "id": "O6tIFDPOqzDn",
    "scrolled": true
   },
   "outputs": [],
   "source": [
    "# complete the code\n",
    "dramas = movies[\"Genre\"].str.split(', ',expand=True)\n",
    "dramas_filter = (dramas[0]==\"Drama\") | (dramas[1]==\"Drama\") | (dramas[2]==\"Drama\")\n",
    "#filter2 = (list(movies[\"Year\"] > 2010) and list(movies[\"Genre\"] == \"Drama\") and list(movies[\"imdbRating\"] > 8.5))\n",
    "filter2 = (movies[\"Year\"] > 2010) & (movies[\"imdbRating\"] > 8.5) & dramas_filter \n",
    "#filter2 = movies[\"Genre\"] == \"Drama\"\n",
    "#filter2 = list(movies[\"imdbRating\"] > 8.5)\n",
    "movies.loc[filter2,[\"Year\",\"Genre\",\"imdbRating\"]]\n",
    "movies[filter2]"
   ]
  },
  {
   "cell_type": "markdown",
   "metadata": {
    "id": "MPWMj0PaqzER"
   },
   "source": [
    "**Q2**: Based on IMDB's top-250 list of movies, who is the most successful director? <font color='red'>The one with the most movies in top 250 </font>"
   ]
  },
  {
   "cell_type": "code",
   "execution_count": null,
   "metadata": {
    "id": "1vOpxZLoqzER"
   },
   "outputs": [],
   "source": [
    "# fill in code\n",
    "movies.value_counts('Director')\n",
    "movies['Director'].value_counts().to_frame().idxmax()"
   ]
  },
  {
   "cell_type": "markdown",
   "metadata": {
    "id": "_ipv-pIuqzEU"
   },
   "source": [
    "**Q3**: In which movies in the top-250 list, did the following actors/actresses appear? \n",
    "* Morgan Freeman\n",
    "* Emma Stone\n",
    "* Russell Crowe"
   ]
  },
  {
   "cell_type": "code",
   "execution_count": null,
   "metadata": {
    "id": "50jMljc3qzEU",
    "scrolled": true
   },
   "outputs": [],
   "source": [
    "# fill in code\n",
    "actors = movies[\"Actors\"].str.split(', ',expand=True)\n",
    "actors_filter = pd.DataFrame([])\n",
    "actors_movies = {}\n",
    "for act in ['Morgan Freeman','Emma Stone','Russell Crowe']:\n",
    "  actors_filter[act] = actors[0]==act\n",
    "  for i in np.arange(len(actors.columns)-1):\n",
    "    actors_filter[act] =  actors_filter[act] | (actors[i+1]==act)\n",
    "  actors_movies[act] = movies.loc[actors_filter[act],[\"Title\"]].values.tolist()\n",
    "\n",
    "actors_movies"
   ]
  },
  {
   "cell_type": "markdown",
   "metadata": {},
   "source": [
    "## If you want to display it nicely in dataframe format"
   ]
  },
  {
   "cell_type": "code",
   "execution_count": null,
   "metadata": {
    "id": "3tpqudsxaxHa"
   },
   "outputs": [],
   "source": [
    "actors = movies[\"Actors\"].str.split(', ',expand=True)\n",
    "actors_filter = pd.DataFrame([])\n",
    "actors_only = pd.DataFrame([])\n",
    "actors_movies = {}\n",
    "for act in ['Morgan Freeman','Emma Stone','Russell Crowe']:\n",
    "  actors_filter[act] = actors[0]==act\n",
    "  for i in np.arange(len(actors.columns)-1):\n",
    "    actors_filter[act] =  actors_filter[act] | (actors[i+1]==act)\n",
    "\n",
    "actors_only = actors_filter.iloc[:,0]\n",
    "for i in np.arange(len(actors_filter.columns)-1):\n",
    "    actors_only =  actors_only| actors_filter.iloc[:,i+1]\n",
    "actors_only_movies = movies[actors_only]\n",
    "actors_filter = actors_filter[actors_only]\n",
    "actors_filter.index = actors_only_movies['Title']\n",
    "\n",
    "actors_filter"
   ]
  },
  {
   "cell_type": "markdown",
   "metadata": {
    "id": "vMhfPm60qzEo"
   },
   "source": [
    "## Additional Exercises\n",
    "\n",
    "**AE1**: Going back to the IMDB data, notice there there is quite a bit of text information in the table that we did not use? Processing and understanding text data is a whole topic by itself, we will not attempt to do very sophisticated interpretations of the text data. However, we can use some simple text parsing to process and extract some valuable information for these movies. \n",
    "\n",
    "If you observe the *Awards* column, we can find text such as \"Nominated for 7 Oscars\", \"Won 7 Oscars\", etc. on a quite consistent format. Write some code to process these text. Extract out \n",
    "* Number of Oscar wins\n",
    "* Number of Oscar nominations (did not win)\n",
    "and create two new columns in this table containing these values. Some movies won many other awards, but we have to ignore them due to limited information of what awards are those."
   ]
  },
  {
   "cell_type": "code",
   "execution_count": null,
   "metadata": {
    "id": "U6TDHnlsploV"
   },
   "outputs": [],
   "source": [
    "import numpy as np\n",
    "import pandas as pd\n",
    "x1 = pd.read_csv(\"IMDB_top250.csv\")\n",
    "award_idx = x1[\"Awards\"].astype(str).str.contains('Oscars')\n",
    "columns = [\"Title\",\"Awards\"]\n",
    "x2 = x1[award_idx][columns]\n",
    "x3 = x2[\"Awards\"].str.split('.', expand=True) ###Split\n",
    "won_idx = x3[0].astype(str).str.contains('Won')\n",
    "nom_idx = x3[0].astype(str).str.contains('Nominated')\n",
    "x2.drop([\"Awards\"],axis=1,inplace=True)\n",
    "x2[\"Won\"] = x3[0][won_idx].str.extract('(\\d+)')\n",
    "x2[\"Nominated\"] = x3[0][nom_idx].str.extract('(\\d+)')\n",
    "results = x2.fillna(0)\n",
    "results"
   ]
  }
 ],
 "metadata": {
  "colab": {
   "collapsed_sections": [],
   "name": "lab03_sol.ipynb",
   "provenance": []
  },
  "kernelspec": {
   "display_name": "Python 3 (ipykernel)",
   "language": "python",
   "name": "python3"
  },
  "language_info": {
   "codemirror_mode": {
    "name": "ipython",
    "version": 3
   },
   "file_extension": ".py",
   "mimetype": "text/x-python",
   "name": "python",
   "nbconvert_exporter": "python",
   "pygments_lexer": "ipython3",
   "version": "3.11.2"
  }
 },
 "nbformat": 4,
 "nbformat_minor": 1
}
