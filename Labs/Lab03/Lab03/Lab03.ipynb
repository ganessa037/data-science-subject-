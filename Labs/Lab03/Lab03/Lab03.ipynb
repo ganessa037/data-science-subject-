{
 "cells": [
  {
   "cell_type": "markdown",
   "metadata": {
    "colab_type": "text",
    "id": "v3GTmeUdqzA0"
   },
   "source": [
    "# **Lab 3**\n"
   ]
  },
  {
   "cell_type": "markdown",
   "metadata": {
    "colab_type": "text",
    "id": "at6dCOYJtaDr"
   },
   "source": [
    "## Tabular Data with Pandas"
   ]
  },
  {
   "cell_type": "markdown",
   "metadata": {
    "colab_type": "text",
    "id": "oMg8kOkVqzA1"
   },
   "source": [
    "> **Credit note**: A portion of this lab tutorial was motivated by the nice examples from https://github.com/guipsamora and University of Berkeley's [Data 100](https://github.com/DS-100/su19/) (Summer 2019 version) lecture notebooks.\n"
   ]
  },
  {
   "cell_type": "markdown",
   "metadata": {
    "colab_type": "text",
    "id": "FN916_UoqzA4"
   },
   "source": [
    "Last week, we had our first attempt at using **Pandas**, a powerful Python library written for the purpose of data manipulation and analysis. This week, we revisit Pandas in a more detailed manner, particularly on some basic concepts in handling and accessing Dataframes, how to perform sorting and counting of values in the Dataframe and also grouping data based on selected criteria. \n",
    "\n",
    "OK, let's import some important packages that we may need later."
   ]
  },
  {
   "cell_type": "code",
   "execution_count": null,
   "metadata": {
    "colab": {},
    "colab_type": "code",
    "id": "b5TZD5XaqzA5"
   },
   "outputs": [],
   "source": [
    "import numpy as np\n",
    "import pandas as pd"
   ]
  },
  {
   "cell_type": "markdown",
   "metadata": {
    "colab_type": "text",
    "id": "bMkh63FpqzBA"
   },
   "source": [
    "### Preamble\n",
    "\n",
    "First, let's learn a few interesting commands and functions in Python that could come in handy sometimes. The command `%whos` allows us to see what are the active variables loaded in the memory. "
   ]
  },
  {
   "cell_type": "code",
   "execution_count": null,
   "metadata": {
    "colab": {},
    "colab_type": "code",
    "id": "b2VKVzoqqzBB"
   },
   "outputs": [],
   "source": [
    "pi = 3.142\n",
    "twopi = 2*3.142\n",
    "a_tray_of_pi = np.array([twopi, pi, twopi, pi], dtype='int64')  # dtype fixes the data type of choice"
   ]
  },
  {
   "cell_type": "code",
   "execution_count": null,
   "metadata": {
    "colab": {},
    "colab_type": "code",
    "id": "jw_DoQIvqzBJ"
   },
   "outputs": [],
   "source": [
    "%whos"
   ]
  },
  {
   "cell_type": "markdown",
   "metadata": {
    "colab_type": "text",
    "id": "-L3nsgXwqzBP"
   },
   "source": [
    "Use `del` to delete variables of your choice:"
   ]
  },
  {
   "cell_type": "code",
   "execution_count": null,
   "metadata": {
    "colab": {},
    "colab_type": "code",
    "id": "7Bl6XCL6qzBQ"
   },
   "outputs": [],
   "source": [
    "del twopi"
   ]
  },
  {
   "cell_type": "code",
   "execution_count": null,
   "metadata": {
    "colab": {},
    "colab_type": "code",
    "id": "yQOSmLNYqzBV"
   },
   "outputs": [],
   "source": [
    "%whos"
   ]
  },
  {
   "cell_type": "markdown",
   "metadata": {
    "colab_type": "text",
    "id": "9s-GALJkqzBh"
   },
   "source": [
    "You can also erase all variables from memory using another magic function `%reset`. *Magic* functions are exclusive to the IPython kernel (note: not Python) and they perform special functions that usually involve the IPython kernel or to interact with the operating system."
   ]
  },
  {
   "cell_type": "code",
   "execution_count": null,
   "metadata": {
    "colab": {},
    "colab_type": "code",
    "id": "g6keN8RVqzBh"
   },
   "outputs": [],
   "source": [
    "%reset"
   ]
  },
  {
   "cell_type": "markdown",
   "metadata": {
    "colab_type": "text",
    "id": "he6md3bMqzBo"
   },
   "source": [
    "IPython's `%timeit` magic function is useful to perform speed benchmarking of Python codes. It runs an operation in $N$ number of loops for $T$ number of times, then takes the best of the $T$ rounds. It reports back how much time was consumed per loop. \n",
    "\n",
    "Let's create 30 million integers and put them into a list and dictionary."
   ]
  },
  {
   "cell_type": "code",
   "execution_count": null,
   "metadata": {
    "colab": {},
    "colab_type": "code",
    "id": "zxq9TjFIqzBo"
   },
   "outputs": [],
   "source": [
    "biglist = []\n",
    "bigdict = {}\n",
    "for j in range(30000000):\n",
    "    biglist.append(j)     # recall: this is how you add to a list\n",
    "    bigdict[j]=j          # this is how you add to a dictionary"
   ]
  },
  {
   "cell_type": "code",
   "execution_count": null,
   "metadata": {
    "colab": {},
    "colab_type": "code",
    "id": "lbiOdub3qzBr"
   },
   "outputs": [],
   "source": [
    "%timeit 9999999 in biglist"
   ]
  },
  {
   "cell_type": "code",
   "execution_count": null,
   "metadata": {
    "colab": {},
    "colab_type": "code",
    "id": "GvvcATfZqzBu"
   },
   "outputs": [],
   "source": [
    "%timeit 9999999 in bigdict"
   ]
  },
  {
   "cell_type": "markdown",
   "metadata": {
    "colab_type": "text",
    "id": "C85u-eV5qzBx"
   },
   "source": [
    "Which data structure is quicker to access?\n",
    "\n",
    "<br />\n",
    "\n",
    "To know the package versions, call the common method `__version__`:"
   ]
  },
  {
   "cell_type": "code",
   "execution_count": null,
   "metadata": {
    "colab": {},
    "colab_type": "code",
    "id": "bGgUHBfrCOrg"
   },
   "outputs": [],
   "source": [
    "import numpy as np\n",
    "import pandas as pd"
   ]
  },
  {
   "cell_type": "code",
   "execution_count": null,
   "metadata": {
    "colab": {},
    "colab_type": "code",
    "id": "d6y9AcbTqzBx"
   },
   "outputs": [],
   "source": [
    "pd.__version__       # double underscore on both sides"
   ]
  },
  {
   "cell_type": "code",
   "execution_count": null,
   "metadata": {
    "colab": {},
    "colab_type": "code",
    "id": "juRROqWXqzB0"
   },
   "outputs": [],
   "source": [
    "np.__version__"
   ]
  },
  {
   "cell_type": "markdown",
   "metadata": {
    "colab_type": "text",
    "id": "V4kYupqxqzB2"
   },
   "source": [
    "### Working with tabular data"
   ]
  },
  {
   "cell_type": "markdown",
   "metadata": {
    "colab_type": "text",
    "id": "pUzUjnMlqzB3"
   },
   "source": [
    "Let's use another dataset (something more substantial and informative than hospital locations) to put Pandas to some practice. The [Internet Movie DataBase (IMDB)](https://www.imdb.com/) is a treasure trove of all kinds of movies, which comes with a large range of metadata (year of release, actors, description) as well as critic ratings. The data which was taken from [**data.world**](https://data.world/studentoflife/imdb-top-250-lists-and-5000-or-so-data-records) has been provided. \n",
    "\n",
    "To start, load the dataset using pandas' nifty `read_csv` function. It's a really powerful function which is also easy to use:"
   ]
  },
  {
   "cell_type": "code",
   "execution_count": null,
   "metadata": {
    "colab": {},
    "colab_type": "code",
    "id": "EY3Y8EuAqzB3"
   },
   "outputs": [],
   "source": [
    "movies = pd.read_csv(\"IMDB_top250.csv\")\n",
    "movies"
   ]
  },
  {
   "cell_type": "markdown",
   "metadata": {
    "colab_type": "text",
    "id": "PLeUeE9bqzB6"
   },
   "source": [
    "IPython displays the contents of the read dataframe in brief form. \n",
    "\n",
    "If you are using Jupyter Notebook, you will notice that there are a lot more columns not displayed here (double-check this with the data opened in spreadsheet). The three dots, \"...\" in the column name area shows that there are some column data suppressed from being shown. \n",
    "\n",
    "Commonly known properties such as `shape` and `size` still work \n",
    "\n",
    "**Tip**: Sometimes you can make a wild guess and still get the function or property correct! "
   ]
  },
  {
   "cell_type": "code",
   "execution_count": null,
   "metadata": {
    "colab": {},
    "colab_type": "code",
    "id": "zzxjcTaIqzB7"
   },
   "outputs": [],
   "source": [
    "movies.shape"
   ]
  },
  {
   "cell_type": "code",
   "execution_count": null,
   "metadata": {
    "colab": {},
    "colab_type": "code",
    "id": "GJe7k5kcqzB9"
   },
   "outputs": [],
   "source": [
    "movies.size"
   ]
  },
  {
   "cell_type": "code",
   "execution_count": null,
   "metadata": {
    "colab": {},
    "colab_type": "code",
    "id": "c4Yt5gTHqzCB"
   },
   "outputs": [],
   "source": [
    "movies.columns"
   ]
  },
  {
   "cell_type": "markdown",
   "metadata": {
    "colab_type": "text",
    "id": "I2dObajNqzCF"
   },
   "source": [
    "The function `describe` performs some statistical analysis over all numeric columns (noticed that the non-numeric values are left out). Note that this is can look really easy to use, but it can also be quite misleading if you do not know what's going on.\n"
   ]
  },
  {
   "cell_type": "code",
   "execution_count": null,
   "metadata": {
    "colab": {},
    "colab_type": "code",
    "id": "r547rqyWqzCF"
   },
   "outputs": [],
   "source": [
    "movies.describe()"
   ]
  },
  {
   "cell_type": "markdown",
   "metadata": {
    "colab_type": "text",
    "id": "Z-jwfFp-qzCI"
   },
   "source": [
    "For example, what is the \"mean\" of the Year column? Does it mean anything? What about the \"mean\" of the imdbRating column?\n",
    "\n",
    "The `head` and `tail` command shows only a few lines near the top or bottom of the data. This is kinda useful if you only want a glimpse of the data and not show everything at once."
   ]
  },
  {
   "cell_type": "code",
   "execution_count": null,
   "metadata": {
    "colab": {},
    "colab_type": "code",
    "id": "RxpoTt74qzCJ"
   },
   "outputs": [],
   "source": [
    "movies.head(7)   # first 7 rows"
   ]
  },
  {
   "cell_type": "code",
   "execution_count": null,
   "metadata": {
    "colab": {},
    "colab_type": "code",
    "id": "4vfjAC4MqzCM"
   },
   "outputs": [],
   "source": [
    "movies.tail()  # 5 by default"
   ]
  },
  {
   "cell_type": "markdown",
   "metadata": {
    "colab_type": "text",
    "id": "CKwQ9H9KqzCO"
   },
   "source": [
    "If you examine the data, it appears that the first column (which is unnamed) could be redundant if you already can have the index number. It is also some kind of rank number for the top 250 movies which have already been sorted based on imDBRating. However, if there's a tie in imDBRating, it is not clear what other criteria is used to sort thereafter. So, using this number as the rank is also not accurate. Let's drop that column."
   ]
  },
  {
   "cell_type": "code",
   "execution_count": null,
   "metadata": {
    "colab": {},
    "colab_type": "code",
    "id": "2jkxPrcxqzCO"
   },
   "outputs": [],
   "source": [
    "movies.drop(columns=['Unnamed: 0'], inplace=True)"
   ]
  },
  {
   "cell_type": "markdown",
   "metadata": {
    "colab_type": "text",
    "id": "nmXe79pHqzCR"
   },
   "source": [
    "Many functions in pandas come with the flag `inplace` that has been set to False. This prevents you from making costly mistakes or errors. Setting `inplace=True` ensures that the change is made on the dataframe itself."
   ]
  },
  {
   "cell_type": "code",
   "execution_count": null,
   "metadata": {
    "colab": {},
    "colab_type": "code",
    "id": "GU9Icl1KqzCR"
   },
   "outputs": [],
   "source": [
    "movies.head()"
   ]
  },
  {
   "cell_type": "markdown",
   "metadata": {
    "colab_type": "text",
    "id": "xaKW56U-qzCV"
   },
   "source": [
    "To change the index of the the dataframe to the imdbID (ID of the movie entry), you can either re-read the entire dataset:"
   ]
  },
  {
   "cell_type": "code",
   "execution_count": null,
   "metadata": {
    "colab": {},
    "colab_type": "code",
    "id": "6gxvxPCrqzCW"
   },
   "outputs": [],
   "source": [
    "movies2 = pd.read_csv(\"IMDB_top250.csv\", index_col=\"imdbID\")\n",
    "movies2.head()"
   ]
  },
  {
   "cell_type": "markdown",
   "metadata": {
    "colab_type": "text",
    "id": "VWWfGF_XqzCb"
   },
   "source": [
    "Or, you can just use `set_index` anytime, if you had already read the data earlier"
   ]
  },
  {
   "cell_type": "code",
   "execution_count": null,
   "metadata": {
    "colab": {},
    "colab_type": "code",
    "id": "C4D1qk5YqzCd",
    "scrolled": true
   },
   "outputs": [],
   "source": [
    "movies3 = movies.set_index(\"imdbID\")\n",
    "movies3.head()"
   ]
  },
  {
   "cell_type": "markdown",
   "metadata": {
    "colab_type": "text",
    "id": "TiNF1c3PqzCg"
   },
   "source": [
    "The original dataframe `movies` did not change because `inplace` was not set to True. So, we have modified the index in the new dataframe `movies3`."
   ]
  },
  {
   "cell_type": "code",
   "execution_count": null,
   "metadata": {
    "colab": {},
    "colab_type": "code",
    "id": "D8GFb6OFqzCh",
    "scrolled": true
   },
   "outputs": [],
   "source": [
    "movies.head()"
   ]
  },
  {
   "cell_type": "code",
   "execution_count": null,
   "metadata": {
    "colab": {},
    "colab_type": "code",
    "id": "z-3VY6FbqzCk"
   },
   "outputs": [],
   "source": [
    "movies3.index"
   ]
  },
  {
   "cell_type": "markdown",
   "metadata": {
    "colab_type": "text",
    "id": "hJATq5CjqzCn"
   },
   "source": [
    "Indices can have names. Since the new index for `movies3` came from an existing column read earlier, the index now has a name."
   ]
  },
  {
   "cell_type": "code",
   "execution_count": null,
   "metadata": {
    "colab": {},
    "colab_type": "code",
    "id": "DigNDYr3qzCn",
    "scrolled": true
   },
   "outputs": [],
   "source": [
    "movies3.index.name"
   ]
  },
  {
   "cell_type": "markdown",
   "metadata": {
    "colab_type": "text",
    "id": "2R094CHsqzCk"
   },
   "source": [
    "> **Note**: Column names must be unique. If we try to read in a file for which the column names are not unique, Pandas will automatically remove any duplicates."
   ]
  },
  {
   "cell_type": "markdown",
   "metadata": {
    "colab_type": "text",
    "id": "U3IO_3qyqzCr"
   },
   "source": [
    "### Dataframe indexing\n",
    "\n",
    "The DataFrame class has an indexing operator [] that lets you do a variety of different things. If your provide a String to the [] operator, you get back a Series corresponding to the requested label."
   ]
  },
  {
   "cell_type": "code",
   "execution_count": null,
   "metadata": {
    "colab": {},
    "colab_type": "code",
    "id": "MwH4UNmJqzCs"
   },
   "outputs": [],
   "source": [
    "movies[\"Title\"].head(6)"
   ]
  },
  {
   "cell_type": "markdown",
   "metadata": {
    "colab_type": "text",
    "id": "5jUJrwyFqzCv"
   },
   "source": [
    "If you want the data to be retained in a Dataframe form instead of Series, add the `to_frame()` function:"
   ]
  },
  {
   "cell_type": "code",
   "execution_count": null,
   "metadata": {
    "colab": {},
    "colab_type": "code",
    "id": "4z2yPToPqzCw"
   },
   "outputs": [],
   "source": [
    "movies[\"Title\"].head(6).to_frame()"
   ]
  },
  {
   "cell_type": "markdown",
   "metadata": {
    "colab_type": "text",
    "id": "T-sCseRjqzCy"
   },
   "source": [
    "If you want the movie titles in an array, you can use the property `values` which extracts out the exact value in that column, without all the dataframe frills like indices or other information like Name and dtype."
   ]
  },
  {
   "cell_type": "code",
   "execution_count": null,
   "metadata": {
    "colab": {},
    "colab_type": "code",
    "id": "2-xfEgGuqzCy",
    "scrolled": true
   },
   "outputs": [],
   "source": [
    "movies[\"Title\"].values"
   ]
  },
  {
   "cell_type": "markdown",
   "metadata": {
    "colab_type": "text",
    "id": "JR8OHmOCqzC0"
   },
   "source": [
    "The [] operator also accepts a list of Strings which in that case, you will be getting back a dataframe containing the columns that you specify:"
   ]
  },
  {
   "cell_type": "code",
   "execution_count": null,
   "metadata": {
    "colab": {},
    "colab_type": "code",
    "id": "M8F1geedqzC0",
    "scrolled": true
   },
   "outputs": [],
   "source": [
    "movies[[\"Title\",\"imdbRating\"]]"
   ]
  },
  {
   "cell_type": "markdown",
   "metadata": {
    "colab_type": "text",
    "id": "DjxRwbzFqzC2"
   },
   "source": [
    "Print it again with the `values` property. Notice how the multi-column data is now organized in the array..."
   ]
  },
  {
   "cell_type": "code",
   "execution_count": null,
   "metadata": {
    "colab": {},
    "colab_type": "code",
    "id": "SRaF4agDqzC3"
   },
   "outputs": [],
   "source": [
    "movies[[\"Title\",\"imdbRating\"]].values"
   ]
  },
  {
   "cell_type": "markdown",
   "metadata": {
    "colab_type": "text",
    "id": "Ma8u3cc3qzC5"
   },
   "source": [
    "The [] operator also accepts numerical slices as arguments. In this case, we are indexing by row, not column!"
   ]
  },
  {
   "cell_type": "code",
   "execution_count": null,
   "metadata": {
    "colab": {},
    "colab_type": "code",
    "id": "Q9wAKcmUqzC6"
   },
   "outputs": [],
   "source": [
    "movies[0:3]"
   ]
  },
  {
   "cell_type": "markdown",
   "metadata": {
    "colab_type": "text",
    "id": "v1VEaTS7qzC-"
   },
   "source": [
    "An interesting behavior happens if you try to give it a single integer index instead of a slice. It doesn't work because it tries to use it like a name instead..."
   ]
  },
  {
   "cell_type": "code",
   "execution_count": null,
   "metadata": {
    "colab": {},
    "colab_type": "code",
    "id": "faUAGNUgqzC-"
   },
   "outputs": [],
   "source": [
    "movies[3]"
   ]
  },
  {
   "cell_type": "code",
   "execution_count": null,
   "metadata": {
    "colab": {},
    "colab_type": "code",
    "id": "UfsKpf9BqzDB"
   },
   "outputs": [],
   "source": [
    "movies[[\"3\"]]"
   ]
  },
  {
   "cell_type": "markdown",
   "metadata": {
    "colab_type": "text",
    "id": "Ck8rP0UJqzDD"
   },
   "source": [
    "### Accessing cells with loc and iloc\n",
    "\n",
    "To access cells, the function `loc` is most handy. \n",
    "\n",
    "You can access a particular row by name (that is, by the index). So, using `movies3` which we had replaced the original index with the imdbID, we can now extract based on these IDs."
   ]
  },
  {
   "cell_type": "code",
   "execution_count": null,
   "metadata": {
    "colab": {},
    "colab_type": "code",
    "id": "GoIwXBi1qzDD"
   },
   "outputs": [],
   "source": [
    "movies3.loc[\"tt0068646\"]"
   ]
  },
  {
   "cell_type": "code",
   "execution_count": null,
   "metadata": {
    "colab": {},
    "colab_type": "code",
    "id": "KhX_7SukqzDG"
   },
   "outputs": [],
   "source": [
    "movies.loc[1]"
   ]
  },
  {
   "cell_type": "markdown",
   "metadata": {
    "colab_type": "text",
    "id": "dT315Lw8qzDK"
   },
   "source": [
    "`loc` also supports slicing (for all types, including numerics and string labels!). Note that slicing for `loc` is inclusive even for numeric slices. "
   ]
  },
  {
   "cell_type": "code",
   "execution_count": null,
   "metadata": {
    "colab": {},
    "colab_type": "code",
    "id": "HWfG0urdqzDL"
   },
   "outputs": [],
   "source": [
    "movies.loc[0:4, 'Title':'Director']"
   ]
  },
  {
   "cell_type": "markdown",
   "metadata": {
    "colab_type": "text",
    "id": "YUJWdy47qzDQ"
   },
   "source": [
    "You can make specific row or column selections, by doing it in a list way."
   ]
  },
  {
   "cell_type": "code",
   "execution_count": null,
   "metadata": {
    "colab": {},
    "colab_type": "code",
    "id": "y9YPA5UGqzDR"
   },
   "outputs": [],
   "source": [
    "movies.loc[[0, 1, 2, 3, 4], ['Title','Year', 'Runtime']]"
   ]
  },
  {
   "cell_type": "markdown",
   "metadata": {
    "colab_type": "text",
    "id": "9GPPwfIHqzDV"
   },
   "source": [
    "If we provide only a single label for the row or column argument, we get back a Series."
   ]
  },
  {
   "cell_type": "code",
   "execution_count": null,
   "metadata": {
    "colab": {},
    "colab_type": "code",
    "id": "Tmk9aACOqzDV"
   },
   "outputs": [],
   "source": [
    "movies.loc[0:4, \"Title\"]"
   ]
  },
  {
   "cell_type": "code",
   "execution_count": null,
   "metadata": {
    "colab": {},
    "colab_type": "code",
    "id": "TYyDiiYhqzDa"
   },
   "outputs": [],
   "source": [
    "movies.loc[4, \"Title\":\"Runtime\"]"
   ]
  },
  {
   "cell_type": "markdown",
   "metadata": {
    "colab_type": "text",
    "id": "alCOQSJvqzDe"
   },
   "source": [
    "`iloc` is very similar, but it is used to access *numerical positions* instead of label names. So this is similar to what we are familiar with when accessing arrays. For example, to access to the top 3 rows and top 3 columns of a table, we can use [0:3, 0:3]. `iloc` slicing is therefore exclusive, just like standard Python slicing of numerical values."
   ]
  },
  {
   "cell_type": "code",
   "execution_count": null,
   "metadata": {
    "colab": {},
    "colab_type": "code",
    "id": "fAwJYhmGqzDe"
   },
   "outputs": [],
   "source": [
    "movies.iloc[0:3, 0:3]"
   ]
  },
  {
   "cell_type": "markdown",
   "metadata": {
    "colab_type": "text",
    "id": "QrNF_Q07qzDh"
   },
   "source": [
    "This could be more intuitive at a glance, but generally, `loc` is preferred for a number of reasons:\n",
    "1. It is harder to make mistakes since you have to literally write out what you want to get.\n",
    "2. Code is easier to read, because the reader doesn't have to know e.g. what column #31 represents.\n",
    "3. It is robust against permutations of the data, e.g. the order of two columns are switched at the data source.\n",
    "\n",
    "However, if necessary, using `iloc` is OK as well."
   ]
  },
  {
   "cell_type": "markdown",
   "metadata": {
    "colab_type": "text",
    "id": "ytpQXsaJqzDh"
   },
   "source": [
    "### \"Filters\" with Boolean indexing\n",
    "\n",
    "Just like arrays, Boolean indexing is also possible. In fact, they can be quite powerful as boolean values can be generated using expressions that evaluate to True/False. In this sense, we are creating \"filters\", which can be used to extract only specific data (rows) that fulfills the criteria set.\n",
    "\n",
    "Let's create a filter, which we want to obtain movies that were released later than year 2010."
   ]
  },
  {
   "cell_type": "code",
   "execution_count": null,
   "metadata": {
    "colab": {},
    "colab_type": "code",
    "id": "doc2GT2jqzDi"
   },
   "outputs": [],
   "source": [
    "movies[\"Year\"] > 2010"
   ]
  },
  {
   "cell_type": "markdown",
   "metadata": {
    "colab_type": "text",
    "id": "CrlUVJc6qzDj"
   },
   "source": [
    "We can pass this filter as a list of indices (or a slice if you wish) of the DataFrame."
   ]
  },
  {
   "cell_type": "code",
   "execution_count": null,
   "metadata": {
    "colab": {},
    "colab_type": "code",
    "id": "oXi2nRcGqzDk"
   },
   "outputs": [],
   "source": [
    "filter1 = movies[\"Year\"] > 2010\n",
    "movies[filter1]"
   ]
  },
  {
   "cell_type": "markdown",
   "metadata": {
    "colab_type": "text",
    "id": "YWqqjS7JqzDn"
   },
   "source": [
    "**Q1**: Which movie of the Drama genre, released after 2010, managed to obtain a rating of more than 8.5 on IMDB? "
   ]
  },
  {
   "cell_type": "code",
   "execution_count": null,
   "metadata": {
    "colab": {},
    "colab_type": "code",
    "id": "O6tIFDPOqzDn",
    "scrolled": true
   },
   "outputs": [],
   "source": [
    "# complete the code\n",
    "filter2 = \n"
   ]
  },
  {
   "cell_type": "markdown",
   "metadata": {
    "colab_type": "text",
    "id": "-7ZNIolrqzDq"
   },
   "source": [
    "### Sorting data\n",
    "\n",
    "Sorting data is one of the most meaningful things that we need do when it comes to data. Without sorting, it may be difficult to perform ranking on the data (or specific columns of the data) and a whole lot of other tasks.\n",
    "\n",
    "Let's now create a copy of the Dataframe sorted by a specific column using `sort_values` function."
   ]
  },
  {
   "cell_type": "code",
   "execution_count": null,
   "metadata": {
    "colab": {},
    "colab_type": "code",
    "id": "HEk6TYxhqzDq"
   },
   "outputs": [],
   "source": [
    "movies.sort_values('Year')"
   ]
  },
  {
   "cell_type": "markdown",
   "metadata": {
    "colab_type": "text",
    "id": "YuQF8JWGqzDz"
   },
   "source": [
    "What if we want to see the latest years first? To sort by descending order, set `ascending=False`:  "
   ]
  },
  {
   "cell_type": "code",
   "execution_count": null,
   "metadata": {
    "colab": {},
    "colab_type": "code",
    "id": "v69WeeHbqzD0"
   },
   "outputs": [],
   "source": [
    "movies.sort_values('Year', ascending=False)"
   ]
  },
  {
   "cell_type": "code",
   "execution_count": null,
   "metadata": {
    "colab": {},
    "colab_type": "code",
    "id": "oo6cNIiMqzD2"
   },
   "outputs": [],
   "source": [
    "movies4 = movies[[\"Title\", \"Year\", \"imdbRating\"]]   #  take only these 3 columns\n",
    "movies4.sort_values(['Year', 'imdbRating'], ascending=[False, False])    # sort by two criteria: Year, then imdbRating"
   ]
  },
  {
   "cell_type": "markdown",
   "metadata": {
    "colab_type": "text",
    "id": "5NMl9YGxqzD5"
   },
   "source": [
    "Note: If you have extracted the data out from the DataFrame into *Series* object, you can still use `sort_values`.\n",
    "\n",
    "### Counting unique values\n",
    "\n",
    "Another useful function is `value_counts`. It gives the total count of specific unique values of a column. This is good if we intend to construct [histograms](https://en.wikipedia.org/wiki/Histogram) to represent the distribution of data."
   ]
  },
  {
   "cell_type": "code",
   "execution_count": null,
   "metadata": {
    "colab": {},
    "colab_type": "code",
    "id": "ze38ywn2qzD5"
   },
   "outputs": [],
   "source": [
    "vc = movies[\"Year\"].value_counts()\n",
    "vc"
   ]
  },
  {
   "cell_type": "markdown",
   "metadata": {
    "colab_type": "text",
    "id": "0jxASzmdqzD9"
   },
   "source": [
    "Indices can be sorted as well. If you look at the Series created above, the values are the number of movies by the year. We cannot use `sort_values` which is only applicable to values. To sort indices, use `sort_index` instead:"
   ]
  },
  {
   "cell_type": "code",
   "execution_count": null,
   "metadata": {
    "colab": {},
    "colab_type": "code",
    "id": "rv-Ph2ILqzD-"
   },
   "outputs": [],
   "source": [
    "vcis = vc.sort_index()\n",
    "vcis"
   ]
  },
  {
   "cell_type": "markdown",
   "metadata": {
    "colab_type": "text",
    "id": "d2BhhMlFqzEA"
   },
   "source": [
    "### Simple charts \n",
    "\n",
    "Let's try to plot the information above. A bar chart would be a good choice, since we want to show the spread of all-time top 250 movies (as far as IMDB is concerned) in chronological order, i.e. according to year. \n",
    "\n",
    "Python has a classic plotting library called [**matplotlib**](https://matplotlib.org/) which was adapted from Matlab's plotting tools and functions. It is versatile, and highly customisable, but can also be a little too \"low-level\" for some peoples' liking. Some data scientists use this to have greater control over plots, although many also prefer more modern visualization libraries such as [**seaborn**](https://seaborn.pydata.org/) and [**bokeh**](https://docs.bokeh.org/en/latest/index.html).\n",
    "\n",
    "In this lab, you will explore a little on **matplotlib**. We will use **seaborn** in some upcoming labs later.\n",
    "\n",
    "To use matplotlib, import the package as follows:"
   ]
  },
  {
   "cell_type": "code",
   "execution_count": null,
   "metadata": {
    "colab": {},
    "colab_type": "code",
    "id": "Tj96yRqRqzEB"
   },
   "outputs": [],
   "source": [
    "import matplotlib.pyplot as plt\n",
    "import seaborn as sns"
   ]
  },
  {
   "cell_type": "code",
   "execution_count": null,
   "metadata": {
    "colab": {},
    "colab_type": "code",
    "id": "ANg_Wf26qzEE"
   },
   "outputs": [],
   "source": [
    "import matplotlib as mpl            # import main library to\n",
    "mpl.style.use('default')            # set visualization style"
   ]
  },
  {
   "cell_type": "markdown",
   "metadata": {
    "colab_type": "text",
    "id": "iNSd2xFTqzEH"
   },
   "source": [
    "To plot in matplotlib, a few lines of code are needed. "
   ]
  },
  {
   "cell_type": "code",
   "execution_count": null,
   "metadata": {
    "colab": {},
    "colab_type": "code",
    "id": "2QNJNaF5qzEH",
    "scrolled": true
   },
   "outputs": [],
   "source": [
    "plt.figure(figsize=(15,3))                 # this adjusts the size of the figure displayed\n",
    "plt.bar(vcis.index, vcis)         # this plots the bar plot, first parameter: x-axis values, second: y-axis values\n",
    "plt.xlabel('Year')                         # label on x axis \n",
    "plt.ylabel('# of movies')                  # label on y axis\n",
    "plt.title('Number of Top-250 movies in IMDB by Year')      # title of figure\n",
    "plt.show()                                 # this line is necessary to display out the entire figure"
   ]
  },
  {
   "cell_type": "markdown",
   "metadata": {
    "colab_type": "text",
    "id": "MPWMj0PaqzER"
   },
   "source": [
    "**Q2**: Based on IMDB's top-250 list of movies, who is the most successful director?"
   ]
  },
  {
   "cell_type": "code",
   "execution_count": null,
   "metadata": {
    "colab": {},
    "colab_type": "code",
    "id": "1vOpxZLoqzER"
   },
   "outputs": [],
   "source": [
    "# fill in code\n"
   ]
  },
  {
   "cell_type": "markdown",
   "metadata": {
    "colab_type": "text",
    "id": "_ipv-pIuqzEU"
   },
   "source": [
    "**Q3**: In which movies in the top-250 list, did the following actors/actresses appear? \n",
    "* Morgan Freeman\n",
    "* Emma Stone\n",
    "* Russell Crowe"
   ]
  },
  {
   "cell_type": "code",
   "execution_count": null,
   "metadata": {
    "colab": {},
    "colab_type": "code",
    "id": "50jMljc3qzEU",
    "scrolled": true
   },
   "outputs": [],
   "source": [
    "# fill in code\n"
   ]
  },
  {
   "cell_type": "markdown",
   "metadata": {
    "colab_type": "text",
    "id": "7V1pTFyop3c3"
   },
   "source": [
    "> **Note**: You may think that it would be easier to just search for these answers directly from the data file (csv), but think of the case where the data would be very large and it may be challenging to search manually. Doing this in code also allows us to write scripts or interfaces with applications and services."
   ]
  },
  {
   "cell_type": "markdown",
   "metadata": {
    "colab_type": "text",
    "id": "u80d0EGjqzEW"
   },
   "source": [
    "### Grouping\n",
    "\n",
    "Grouping is the next concept that we can apply to data. It is intuitive (almost human nature) to put ideas and concepts into groups when there is an 'overload' of data that we can digest at one go. When data is big, it is difficult to examine it thoroughly to form conclusions based on the entire data. For example, even when describing data with statistics, it can sometimes be misleading or inaccurate to simply take the mean of the entire data, unless of course we intend to take the mean for some purpose/task such as normalization. It gives a better context if we were to take the mean of smaller, distinct groups so that we can summarise the behavior of different groups within the same data. \n",
    "\n",
    "Pandas has a powerful `groupby` function to do just that."
   ]
  },
  {
   "cell_type": "raw",
   "metadata": {
    "colab": {},
    "colab_type": "code",
    "id": "Ol03SKprqzEX"
   },
   "source": [
    "movies.groupby('Production')"
   ]
  },
  {
   "cell_type": "markdown",
   "metadata": {
    "colab_type": "text",
    "id": "CeCsiq6JqzEY"
   },
   "source": [
    "Now, this is incomplete. The object has been created but we also need to specify *how* the grouping is to be executed. Think of it this way: If a group contains 10 data entries, the 10 data entries should be summarised into a single value so that the new DataFrame contains this value representing that particular group.\n",
    "\n",
    "Let's choose the action to be the mean or average."
   ]
  },
  {
   "cell_type": "code",
   "execution_count": null,
   "metadata": {
    "colab": {},
    "colab_type": "code",
    "id": "IhJm5kQbqzEZ"
   },
   "outputs": [],
   "source": [
    "movies.groupby('Production').mean(numeric_only=True)"
   ]
  },
  {
   "cell_type": "markdown",
   "metadata": {
    "colab_type": "text",
    "id": "9d1Wh2-nqzEb"
   },
   "source": [
    "And so we have applied mean on these groups. Some columns make sense after applying mean, some don't. The mean year does not really give us anything informative. The mean ratings do. Notice that when we applied `mean()`, again only the numeric data is left. Let's trim the Dataframe further..."
   ]
  },
  {
   "cell_type": "code",
   "execution_count": null,
   "metadata": {
    "colab": {},
    "colab_type": "code",
    "id": "oH5FEi1xqzEb"
   },
   "outputs": [],
   "source": [
    "gbp = movies.groupby('Production').mean(numeric_only=True)\n",
    "gbp[[\"Metascore\", \"imdbRating\"]]         # take only these 2 columns"
   ]
  },
  {
   "cell_type": "markdown",
   "metadata": {
    "colab_type": "text",
    "id": "q60y5M80qzEd"
   },
   "source": [
    "To get it sorted, append some code *after* it...   \n",
    "\n",
    "> Pandas is very powerful, if you want to do something after your existing line of code, keep adding code behind it. Most of the time, it works!"
   ]
  },
  {
   "cell_type": "code",
   "execution_count": null,
   "metadata": {
    "colab": {},
    "colab_type": "code",
    "id": "zaOt3M1pqzEd"
   },
   "outputs": [],
   "source": [
    "gbp[[\"Metascore\", \"imdbRating\"]].sort_values('imdbRating', ascending=False)"
   ]
  },
  {
   "cell_type": "markdown",
   "metadata": {
    "colab_type": "text",
    "id": "L0kF0_CBqzEf"
   },
   "source": [
    "We can also calculate more than one type of value per group. For instance, we can calculate the min and max of each group:"
   ]
  },
  {
   "cell_type": "code",
   "execution_count": null,
   "metadata": {
    "colab": {},
    "colab_type": "code",
    "id": "XLyiKnQtqzEg"
   },
   "outputs": [],
   "source": [
    "movies1 = movies.drop(['Released', 'Writer', 'Awards', 'DVD', 'BoxOffice', 'Website'], axis=1)\n",
    "movies1.groupby('Production').agg(['min', 'max'])"
   ]
  },
  {
   "cell_type": "markdown",
   "metadata": {
    "colab_type": "text",
    "id": "wU_nepMKqzEk"
   },
   "source": [
    "Oh well, it did what we ask it to do! Each column has now min and max calculated. Now, this is looking a bit silly and off track. We are only interested in the min and max of imdbRating, not everything. \n",
    "\n",
    "Pandas allows *column names* to be used as property fields. Watch how `imdbRating` is used as a property field."
   ]
  },
  {
   "cell_type": "code",
   "execution_count": null,
   "metadata": {
    "colab": {},
    "colab_type": "code",
    "id": "vLQe080lqzEk"
   },
   "outputs": [],
   "source": [
    "movies.groupby('Production').imdbRating.agg(['min', 'max'])"
   ]
  },
  {
   "cell_type": "markdown",
   "metadata": {
    "colab_type": "text",
    "id": "dPQPgEELqzEm"
   },
   "source": [
    "`groupby` can also perform multi-level grouping, where we can first group by one criteria (column), and then for each of these groups, further group based on another criteria (column)."
   ]
  },
  {
   "cell_type": "code",
   "execution_count": null,
   "metadata": {
    "colab": {},
    "colab_type": "code",
    "id": "wvAcQtmDqzEm"
   },
   "outputs": [],
   "source": [
    "gbpr = movies.groupby(['Production', 'Rated']).imdbRating.agg('mean')\n",
    "gbpr"
   ]
  },
  {
   "cell_type": "markdown",
   "metadata": {
    "colab_type": "text",
    "id": "vMhfPm60qzEo"
   },
   "source": [
    "## Additional Exercises\n",
    "\n",
    "**AE1**: Going back to the IMDB data, notice there there is quite a bit of text information in the table that we did not use? Processing and understanding text data is a whole topic by itself, we will not attempt to do very sophisticated interpretations of the text data. However, we can use some simple text parsing to process and extract some valuable information for these movies. \n",
    "\n",
    "If you observe the *Awards* column, we can find text such as \"Nominated for 7 Oscars\", \"Won 7 Oscars\", etc. on a quite consistent format. Write some code to process these text. Extract out \n",
    "* Number of Oscar wins\n",
    "* Number of Oscar nominations (did not win)\n",
    "and create two new columns in this table containing these values. Some movies won many other awards, but we have to ignore them due to limited information of what awards are those."
   ]
  },
  {
   "cell_type": "code",
   "execution_count": null,
   "metadata": {
    "colab": {},
    "colab_type": "code",
    "id": "UpgvkKtxqzEp"
   },
   "outputs": [],
   "source": [
    "# work on it here\n"
   ]
  },
  {
   "cell_type": "code",
   "execution_count": null,
   "metadata": {},
   "outputs": [],
   "source": []
  }
 ],
 "metadata": {
  "colab": {
   "collapsed_sections": [],
   "name": "lab03.ipynb",
   "provenance": []
  },
  "kernelspec": {
   "display_name": "Python 3 (ipykernel)",
   "language": "python",
   "name": "python3"
  },
  "language_info": {
   "codemirror_mode": {
    "name": "ipython",
    "version": 3
   },
   "file_extension": ".py",
   "mimetype": "text/x-python",
   "name": "python",
   "nbconvert_exporter": "python",
   "pygments_lexer": "ipython3",
   "version": "3.10.9"
  }
 },
 "nbformat": 4,
 "nbformat_minor": 4
}
