{
 "cells": [
  {
   "cell_type": "markdown",
   "metadata": {
    "colab_type": "text",
    "id": "DPlDDFMH-vYk"
   },
   "source": [
    "# **Lab 4**"
   ]
  },
  {
   "cell_type": "markdown",
   "metadata": {
    "colab_type": "text",
    "id": "EQj7TOt5-KZm"
   },
   "source": [
    "## Data Wrangling\n",
    "\n",
    "In this lab, you will learn various ways of manipulating (including some cleaning) data such as merging data, duplicate removal, addressing missing data and transformation functions and mappings. You will also go through two sample use cases using car price data and minimum wage data, and proceed to apply some of these techniques learned earlier. Finally, the processed data is turned into some simple descriptive analytics to churn out meaningful insights from visualizations.\n",
    "\n",
    "> **Credit note:** A portion of this lab was adapted from [this fantastic tutorial](https://lectures.quantecon.org/py/pandas_panel.html) from QuantEcon and `prakharrathi25`'s [Kaggle kernel](https://www.kaggle.com/prakharrathi25/data-wrangling/) on data wrangling."
   ]
  },
  {
   "cell_type": "code",
   "execution_count": 10,
   "metadata": {
    "colab": {},
    "colab_type": "code",
    "id": "X5r5FM4R-KZp"
   },
   "outputs": [],
   "source": [
    "import numpy as np\n",
    "import pandas as pd"
   ]
  },
  {
   "cell_type": "markdown",
   "metadata": {
    "colab_type": "text",
    "id": "IkqwYf5v-KZ2"
   },
   "source": [
    "<hr>\n",
    "\n",
    "Let's have a look at a classic dataset from UCI Machine Learning called the [Automobile Dataset](https://archive.ics.uci.edu/ml/datasets/automobile) which was later re-shared at Kaggle [here](https://www.kaggle.com/rickyrrii/old-car-price-data). This dataset is notoriously famous for being incomplete and noisy at best. In order for this data to be used for building a decent regression model (that is, a model that can predict car prices given a bunch of attributes), the data needs to be properly cleaned.\n",
    "\n",
    "The dataset is in the `.txt` file while the other `.names` file (open in any text editor) contains information of what are the attributes (columns) of the dataset."
   ]
  },
  {
   "cell_type": "code",
   "execution_count": 14,
   "metadata": {
    "colab": {},
    "colab_type": "code",
    "id": "z4OhB28R-KZ4",
    "scrolled": true
   },
   "outputs": [
    {
     "name": "stdout",
     "output_type": "stream",
     "text": [
      "(205, 26)\n"
     ]
    },
    {
     "data": {
      "text/html": [
       "<div>\n",
       "<style scoped>\n",
       "    .dataframe tbody tr th:only-of-type {\n",
       "        vertical-align: middle;\n",
       "    }\n",
       "\n",
       "    .dataframe tbody tr th {\n",
       "        vertical-align: top;\n",
       "    }\n",
       "\n",
       "    .dataframe thead th {\n",
       "        text-align: right;\n",
       "    }\n",
       "</style>\n",
       "<table border=\"1\" class=\"dataframe\">\n",
       "  <thead>\n",
       "    <tr style=\"text-align: right;\">\n",
       "      <th></th>\n",
       "      <th>symboling</th>\n",
       "      <th>normalized-losses</th>\n",
       "      <th>make</th>\n",
       "      <th>fuel-type</th>\n",
       "      <th>aspiration</th>\n",
       "      <th>num-of-doors</th>\n",
       "      <th>body-style</th>\n",
       "      <th>drive-wheels</th>\n",
       "      <th>engine-location</th>\n",
       "      <th>wheel-base</th>\n",
       "      <th>...</th>\n",
       "      <th>engine-size</th>\n",
       "      <th>fuel-system</th>\n",
       "      <th>bore</th>\n",
       "      <th>stroke</th>\n",
       "      <th>compression-ratio</th>\n",
       "      <th>horsepower</th>\n",
       "      <th>peak-rpm</th>\n",
       "      <th>city-mpg</th>\n",
       "      <th>highway-mpg</th>\n",
       "      <th>price</th>\n",
       "    </tr>\n",
       "  </thead>\n",
       "  <tbody>\n",
       "    <tr>\n",
       "      <th>0</th>\n",
       "      <td>3</td>\n",
       "      <td>?</td>\n",
       "      <td>alfa-romero</td>\n",
       "      <td>gas</td>\n",
       "      <td>std</td>\n",
       "      <td>two</td>\n",
       "      <td>convertible</td>\n",
       "      <td>rwd</td>\n",
       "      <td>front</td>\n",
       "      <td>88.6</td>\n",
       "      <td>...</td>\n",
       "      <td>130</td>\n",
       "      <td>mpfi</td>\n",
       "      <td>3.47</td>\n",
       "      <td>2.68</td>\n",
       "      <td>9.0</td>\n",
       "      <td>111</td>\n",
       "      <td>5000</td>\n",
       "      <td>21</td>\n",
       "      <td>27</td>\n",
       "      <td>13495</td>\n",
       "    </tr>\n",
       "    <tr>\n",
       "      <th>1</th>\n",
       "      <td>3</td>\n",
       "      <td>?</td>\n",
       "      <td>alfa-romero</td>\n",
       "      <td>gas</td>\n",
       "      <td>std</td>\n",
       "      <td>two</td>\n",
       "      <td>convertible</td>\n",
       "      <td>rwd</td>\n",
       "      <td>front</td>\n",
       "      <td>88.6</td>\n",
       "      <td>...</td>\n",
       "      <td>130</td>\n",
       "      <td>mpfi</td>\n",
       "      <td>3.47</td>\n",
       "      <td>2.68</td>\n",
       "      <td>9.0</td>\n",
       "      <td>111</td>\n",
       "      <td>5000</td>\n",
       "      <td>21</td>\n",
       "      <td>27</td>\n",
       "      <td>16500</td>\n",
       "    </tr>\n",
       "    <tr>\n",
       "      <th>2</th>\n",
       "      <td>1</td>\n",
       "      <td>?</td>\n",
       "      <td>alfa-romero</td>\n",
       "      <td>gas</td>\n",
       "      <td>std</td>\n",
       "      <td>two</td>\n",
       "      <td>hatchback</td>\n",
       "      <td>rwd</td>\n",
       "      <td>front</td>\n",
       "      <td>94.5</td>\n",
       "      <td>...</td>\n",
       "      <td>152</td>\n",
       "      <td>mpfi</td>\n",
       "      <td>2.68</td>\n",
       "      <td>3.47</td>\n",
       "      <td>9.0</td>\n",
       "      <td>154</td>\n",
       "      <td>5000</td>\n",
       "      <td>19</td>\n",
       "      <td>26</td>\n",
       "      <td>16500</td>\n",
       "    </tr>\n",
       "    <tr>\n",
       "      <th>3</th>\n",
       "      <td>2</td>\n",
       "      <td>164</td>\n",
       "      <td>audi</td>\n",
       "      <td>gas</td>\n",
       "      <td>std</td>\n",
       "      <td>four</td>\n",
       "      <td>sedan</td>\n",
       "      <td>fwd</td>\n",
       "      <td>front</td>\n",
       "      <td>99.8</td>\n",
       "      <td>...</td>\n",
       "      <td>109</td>\n",
       "      <td>mpfi</td>\n",
       "      <td>3.19</td>\n",
       "      <td>3.40</td>\n",
       "      <td>10.0</td>\n",
       "      <td>102</td>\n",
       "      <td>5500</td>\n",
       "      <td>24</td>\n",
       "      <td>30</td>\n",
       "      <td>13950</td>\n",
       "    </tr>\n",
       "    <tr>\n",
       "      <th>4</th>\n",
       "      <td>2</td>\n",
       "      <td>164</td>\n",
       "      <td>audi</td>\n",
       "      <td>gas</td>\n",
       "      <td>std</td>\n",
       "      <td>four</td>\n",
       "      <td>sedan</td>\n",
       "      <td>4wd</td>\n",
       "      <td>front</td>\n",
       "      <td>99.4</td>\n",
       "      <td>...</td>\n",
       "      <td>136</td>\n",
       "      <td>mpfi</td>\n",
       "      <td>3.19</td>\n",
       "      <td>3.40</td>\n",
       "      <td>8.0</td>\n",
       "      <td>115</td>\n",
       "      <td>5500</td>\n",
       "      <td>18</td>\n",
       "      <td>22</td>\n",
       "      <td>17450</td>\n",
       "    </tr>\n",
       "  </tbody>\n",
       "</table>\n",
       "<p>5 rows × 26 columns</p>\n",
       "</div>"
      ],
      "text/plain": [
       "   symboling normalized-losses         make fuel-type aspiration num-of-doors  \\\n",
       "0          3                 ?  alfa-romero       gas        std          two   \n",
       "1          3                 ?  alfa-romero       gas        std          two   \n",
       "2          1                 ?  alfa-romero       gas        std          two   \n",
       "3          2               164         audi       gas        std         four   \n",
       "4          2               164         audi       gas        std         four   \n",
       "\n",
       "    body-style drive-wheels engine-location  wheel-base  ...  engine-size  \\\n",
       "0  convertible          rwd           front        88.6  ...          130   \n",
       "1  convertible          rwd           front        88.6  ...          130   \n",
       "2    hatchback          rwd           front        94.5  ...          152   \n",
       "3        sedan          fwd           front        99.8  ...          109   \n",
       "4        sedan          4wd           front        99.4  ...          136   \n",
       "\n",
       "   fuel-system  bore  stroke compression-ratio horsepower  peak-rpm city-mpg  \\\n",
       "0         mpfi  3.47    2.68               9.0        111      5000       21   \n",
       "1         mpfi  3.47    2.68               9.0        111      5000       21   \n",
       "2         mpfi  2.68    3.47               9.0        154      5000       19   \n",
       "3         mpfi  3.19    3.40              10.0        102      5500       24   \n",
       "4         mpfi  3.19    3.40               8.0        115      5500       18   \n",
       "\n",
       "  highway-mpg  price  \n",
       "0          27  13495  \n",
       "1          27  16500  \n",
       "2          26  16500  \n",
       "3          30  13950  \n",
       "4          22  17450  \n",
       "\n",
       "[5 rows x 26 columns]"
      ]
     },
     "execution_count": 14,
     "metadata": {},
     "output_type": "execute_result"
    }
   ],
   "source": [
    "cols = ['symboling', 'normalized-losses', 'make', 'fuel-type', \\\n",
    "        'aspiration', 'num-of-doors', 'body-style', 'drive-wheels', \\\n",
    "        'engine-location', 'wheel-base', 'length', 'width', 'height', \\\n",
    "        'curb-weight', 'engine-type', 'num-of-cylinders', 'engine-size', \\\n",
    "        'fuel-system', 'bore', 'stroke', 'compression-ratio', 'horsepower', \\\n",
    "        'peak-rpm', 'city-mpg', 'highway-mpg', 'price']\n",
    "cars = pd.read_csv('imports-85.data.txt', names=cols)\n",
    "print(cars.shape)\n",
    "cars.head()"
   ]
  },
  {
   "cell_type": "markdown",
   "metadata": {
    "colab_type": "text",
    "id": "7QCCae9d-KaA"
   },
   "source": [
    "As we can see, there are some question marks appearing in the dataframe, and those are basically missing data that may hinder our further analysis."
   ]
  },
  {
   "cell_type": "markdown",
   "metadata": {
    "colab_type": "text",
    "id": "ragSDiM9-KaD"
   },
   "source": [
    "### Cleaning Missing Data\n",
    "\n",
    "Pandas uses the floating point value '**NaN**' (Not a Number) to represent missing data in both floating and non-floating point arrays. It also has its use as a sentinel that can be easily detected:"
   ]
  },
  {
   "cell_type": "markdown",
   "metadata": {
    "colab_type": "text",
    "id": "3t1aFvHc-KaM"
   },
   "source": [
    "Here are some NaN handling methods: `dropna`, `fillna`, `isnull`, `notnull`\n",
    "\n",
    "On a Series, it returns the Series with only the non-null data and index values:"
   ]
  },
  {
   "cell_type": "code",
   "execution_count": 15,
   "metadata": {
    "colab": {},
    "colab_type": "code",
    "id": "bDeIXnTC-KaN"
   },
   "outputs": [
    {
     "name": "stdout",
     "output_type": "stream",
     "text": [
      "0    1.0\n",
      "1    NaN\n",
      "2    3.5\n",
      "3    NaN\n",
      "4    7.0\n",
      "dtype: float64\n"
     ]
    }
   ],
   "source": [
    "data = pd.Series([1, np.nan, 3.5, np.nan, 7])\n",
    "print(data)"
   ]
  },
  {
   "cell_type": "markdown",
   "metadata": {
    "colab_type": "text",
    "id": "K-pHyLTq-KaV"
   },
   "source": [
    "To simplify the use of `np.nan`, we can fix an alias `NA` for easy use:"
   ]
  },
  {
   "cell_type": "code",
   "execution_count": 16,
   "metadata": {
    "colab": {},
    "colab_type": "code",
    "id": "qQSjscLU-KaX"
   },
   "outputs": [
    {
     "name": "stdout",
     "output_type": "stream",
     "text": [
      "0    1.0\n",
      "1    NaN\n",
      "2    3.5\n",
      "3    NaN\n",
      "4    7.0\n",
      "dtype: float64\n"
     ]
    }
   ],
   "source": [
    "from numpy import nan as NA\n",
    "\n",
    "data = pd.Series([1, NA, 3.5, NA, 7])\n",
    "print(data)"
   ]
  },
  {
   "cell_type": "markdown",
   "metadata": {
    "colab_type": "text",
    "id": "HW8eYjW7-Ka3"
   },
   "source": [
    "With DataFrames, you may want to drop rows or columns which are all NA or just those containing any NAs. `dropna` by default drops any row containing a missing value:"
   ]
  },
  {
   "cell_type": "code",
   "execution_count": 17,
   "metadata": {
    "colab": {},
    "colab_type": "code",
    "id": "P4r6uQyq-Ka4"
   },
   "outputs": [
    {
     "name": "stdout",
     "output_type": "stream",
     "text": [
      "     0    1    2\n",
      "0  1.0  6.5  3.0\n",
      "1  1.0  NaN  NaN\n",
      "2  NaN  NaN  NaN\n",
      "3  NaN  6.5  3.0\n"
     ]
    }
   ],
   "source": [
    "data = pd.DataFrame([[1., 6.5, 3.], [1., NA, NA], [NA, NA, NA], [NA, 6.5, 3.]])\n",
    "print(data)"
   ]
  },
  {
   "cell_type": "code",
   "execution_count": 18,
   "metadata": {
    "colab": {},
    "colab_type": "code",
    "id": "4J3LLWtI-Ka-"
   },
   "outputs": [
    {
     "name": "stdout",
     "output_type": "stream",
     "text": [
      "     0    1    2\n",
      "0  1.0  6.5  3.0\n"
     ]
    }
   ],
   "source": [
    "print(data.dropna()) "
   ]
  },
  {
   "cell_type": "markdown",
   "metadata": {
    "colab_type": "text",
    "id": "RJKxHQ2V-KbH"
   },
   "source": [
    "This seems so \"strict\"... As long as there is a single NaN, the row will be dropped.\n",
    "\n",
    "Passing `how='all'` will only drop rows that are all NA (watch row 2):"
   ]
  },
  {
   "cell_type": "code",
   "execution_count": 19,
   "metadata": {
    "colab": {},
    "colab_type": "code",
    "id": "dgroIR7s-KbI"
   },
   "outputs": [
    {
     "name": "stdout",
     "output_type": "stream",
     "text": [
      "     0    1    2\n",
      "0  1.0  6.5  3.0\n",
      "1  1.0  NaN  NaN\n",
      "3  NaN  6.5  3.0\n"
     ]
    }
   ],
   "source": [
    "print(data.dropna(how='all'))"
   ]
  },
  {
   "cell_type": "markdown",
   "metadata": {
    "colab_type": "text",
    "id": "BFMaHaCF-KbO"
   },
   "source": [
    "> **Note**: `axis=0` is default, that is row-wise, using `axis=1` indicate column-wise. Dropping columns in the same way is only a matter of passing `axis=1`. "
   ]
  },
  {
   "cell_type": "code",
   "execution_count": 20,
   "metadata": {
    "colab": {},
    "colab_type": "code",
    "id": "WZ-_QJRL-KbP"
   },
   "outputs": [
    {
     "name": "stdout",
     "output_type": "stream",
     "text": [
      "     0    1    2   4\n",
      "0  1.0  6.5  3.0 NaN\n",
      "1  1.0  NaN  NaN NaN\n",
      "2  NaN  NaN  NaN NaN\n",
      "3  NaN  6.5  3.0 NaN\n"
     ]
    }
   ],
   "source": [
    "data[4] = NA\n",
    "print(data)"
   ]
  },
  {
   "cell_type": "code",
   "execution_count": 23,
   "metadata": {
    "colab": {},
    "colab_type": "code",
    "id": "NJFEhUfU-Kbd"
   },
   "outputs": [
    {
     "name": "stdout",
     "output_type": "stream",
     "text": [
      "     0    1    2\n",
      "0  1.0  6.5  3.0\n",
      "1  1.0  NaN  NaN\n",
      "2  NaN  NaN  NaN\n",
      "3  NaN  6.5  3.0\n"
     ]
    }
   ],
   "source": [
    "print(data.dropna(axis=1, how='all'))"
   ]
  },
  {
   "cell_type": "markdown",
   "metadata": {
    "colab_type": "text",
    "id": "h9-QnxsL-Kbr"
   },
   "source": [
    "Rather than filtering out missing data (and potentially discarding other data along with it), you may want to fill in the \"holes\" in several ways.\n",
    "\n",
    "Calling `fillna` with a constant replaces missing values with that value:"
   ]
  },
  {
   "cell_type": "code",
   "execution_count": 24,
   "metadata": {
    "colab": {},
    "colab_type": "code",
    "id": "3GSD7pLq-Kbu"
   },
   "outputs": [
    {
     "name": "stdout",
     "output_type": "stream",
     "text": [
      "     0    1    2\n",
      "0  1.0  6.5  3.0\n",
      "1  1.0  NaN  NaN\n",
      "2  NaN  NaN  NaN\n",
      "3  NaN  6.5  3.0\n",
      "\n",
      "     0    1    2\n",
      "0  1.0  6.5  3.0\n",
      "1  1.0  0.0  0.0\n",
      "2  0.0  0.0  0.0\n",
      "3  0.0  6.5  3.0\n"
     ]
    }
   ],
   "source": [
    "data = pd.DataFrame([[1., 6.5, 3.], [1., NA, NA], [NA, NA, NA], [NA, 6.5, 3.]])\n",
    "print(data)\n",
    "print()\n",
    "print(data.fillna(0))   # fill with 0"
   ]
  },
  {
   "cell_type": "markdown",
   "metadata": {
    "colab_type": "text",
    "id": "bX6HPCF4-Kb3"
   },
   "source": [
    "Calling `fillna` with a dict, you can use a different fill value for each column. The keys in the dict denotes the column index, while its corresponding value denotes the replacement value."
   ]
  },
  {
   "cell_type": "code",
   "execution_count": 25,
   "metadata": {
    "colab": {},
    "colab_type": "code",
    "id": "1Xp4SxAw-Kb3"
   },
   "outputs": [
    {
     "name": "stdout",
     "output_type": "stream",
     "text": [
      "     0    1    2\n",
      "0  1.0  6.5  3.0\n",
      "1  1.0  NaN  NaN\n",
      "2  NaN  NaN  NaN\n",
      "3  NaN  6.5  3.0\n",
      "\n",
      "     0    1    2\n",
      "0  1.0  6.5  3.0\n",
      "1  1.0  0.5 -1.0\n",
      "2  NaN  0.5 -1.0\n",
      "3  NaN  6.5  3.0\n"
     ]
    }
   ],
   "source": [
    "data = pd.DataFrame([[1., 6.5, 3.], [1., NA, NA], [NA, NA, NA], [NA, 6.5, 3.]])\n",
    "print(data)\n",
    "print()\n",
    "print(data.fillna({1: 0.5, 2: -1}))   # fill in column 1 with 0.5 and column 2 with -1"
   ]
  },
  {
   "cell_type": "markdown",
   "metadata": {
    "colab_type": "text",
    "id": "ZYY__sMk-Kb9"
   },
   "source": [
    "You can fill NA with the mean value of the data (can be either a good intuitive approach or a totally bad approach sometimes...)"
   ]
  },
  {
   "cell_type": "code",
   "execution_count": 26,
   "metadata": {
    "colab": {},
    "colab_type": "code",
    "id": "XRy8jwzr-Kb-"
   },
   "outputs": [
    {
     "name": "stdout",
     "output_type": "stream",
     "text": [
      "0    1.000000\n",
      "1    3.833333\n",
      "2    3.500000\n",
      "3    3.833333\n",
      "4    7.000000\n",
      "dtype: float64\n"
     ]
    }
   ],
   "source": [
    "data = pd.Series([1., NA, 3.5, NA, 7])\n",
    "print(data.fillna(data.mean()))"
   ]
  },
  {
   "cell_type": "markdown",
   "metadata": {
    "colab_type": "text",
    "id": "SQdEsbfm-KcO"
   },
   "source": [
    "### Cleaning Duplicated Data\n",
    "\n",
    "The DataFrame method `duplicated()` returns a boolean Series indicating whether each row is a duplicate or not. Relatedly, `drop_duplicates()` returns a DataFrame without the duplicated entries (which are True)."
   ]
  },
  {
   "cell_type": "code",
   "execution_count": 27,
   "metadata": {
    "colab": {},
    "colab_type": "code",
    "id": "T8vHlPck-KcO"
   },
   "outputs": [
    {
     "name": "stdout",
     "output_type": "stream",
     "text": [
      "    k1  k2\n",
      "0  one   1\n",
      "1  one   1\n",
      "2  one   2\n",
      "3  two   3\n",
      "4  two   3\n",
      "5  two   4\n",
      "6  two   4\n",
      "0    False\n",
      "1     True\n",
      "2    False\n",
      "3    False\n",
      "4     True\n",
      "5    False\n",
      "6     True\n",
      "dtype: bool\n",
      "\n",
      "    k1  k2\n",
      "0  one   1\n",
      "2  one   2\n",
      "3  two   3\n",
      "5  two   4\n"
     ]
    }
   ],
   "source": [
    "#remove duplicates\n",
    "data = pd.DataFrame({'k1': ['one'] * 3 + ['two'] * 4,\n",
    "'k2': [1, 1, 2, 3, 3, 4, 4]})\n",
    "\n",
    "print(data)\n",
    "print(data.duplicated())\n",
    "print()\n",
    "print(data.drop_duplicates())"
   ]
  },
  {
   "cell_type": "markdown",
   "metadata": {
    "colab_type": "text",
    "id": "8C7Dbcap-KcV"
   },
   "source": [
    "---\n",
    "OK. Going back to the Automobile data, you can choose to convert the \"?\" symbols to NaN (which allow us to use those functions just now)"
   ]
  },
  {
   "cell_type": "code",
   "execution_count": 28,
   "metadata": {
    "colab": {},
    "colab_type": "code",
    "id": "tEr8WtF7-KcW"
   },
   "outputs": [
    {
     "data": {
      "text/html": [
       "<div>\n",
       "<style scoped>\n",
       "    .dataframe tbody tr th:only-of-type {\n",
       "        vertical-align: middle;\n",
       "    }\n",
       "\n",
       "    .dataframe tbody tr th {\n",
       "        vertical-align: top;\n",
       "    }\n",
       "\n",
       "    .dataframe thead th {\n",
       "        text-align: right;\n",
       "    }\n",
       "</style>\n",
       "<table border=\"1\" class=\"dataframe\">\n",
       "  <thead>\n",
       "    <tr style=\"text-align: right;\">\n",
       "      <th></th>\n",
       "      <th>symboling</th>\n",
       "      <th>normalized-losses</th>\n",
       "      <th>make</th>\n",
       "      <th>fuel-type</th>\n",
       "      <th>aspiration</th>\n",
       "      <th>num-of-doors</th>\n",
       "      <th>body-style</th>\n",
       "      <th>drive-wheels</th>\n",
       "      <th>engine-location</th>\n",
       "      <th>wheel-base</th>\n",
       "      <th>...</th>\n",
       "      <th>engine-size</th>\n",
       "      <th>fuel-system</th>\n",
       "      <th>bore</th>\n",
       "      <th>stroke</th>\n",
       "      <th>compression-ratio</th>\n",
       "      <th>horsepower</th>\n",
       "      <th>peak-rpm</th>\n",
       "      <th>city-mpg</th>\n",
       "      <th>highway-mpg</th>\n",
       "      <th>price</th>\n",
       "    </tr>\n",
       "  </thead>\n",
       "  <tbody>\n",
       "    <tr>\n",
       "      <th>0</th>\n",
       "      <td>3</td>\n",
       "      <td>NaN</td>\n",
       "      <td>alfa-romero</td>\n",
       "      <td>gas</td>\n",
       "      <td>std</td>\n",
       "      <td>two</td>\n",
       "      <td>convertible</td>\n",
       "      <td>rwd</td>\n",
       "      <td>front</td>\n",
       "      <td>88.6</td>\n",
       "      <td>...</td>\n",
       "      <td>130</td>\n",
       "      <td>mpfi</td>\n",
       "      <td>3.47</td>\n",
       "      <td>2.68</td>\n",
       "      <td>9.0</td>\n",
       "      <td>111</td>\n",
       "      <td>5000</td>\n",
       "      <td>21</td>\n",
       "      <td>27</td>\n",
       "      <td>13495</td>\n",
       "    </tr>\n",
       "    <tr>\n",
       "      <th>1</th>\n",
       "      <td>3</td>\n",
       "      <td>NaN</td>\n",
       "      <td>alfa-romero</td>\n",
       "      <td>gas</td>\n",
       "      <td>std</td>\n",
       "      <td>two</td>\n",
       "      <td>convertible</td>\n",
       "      <td>rwd</td>\n",
       "      <td>front</td>\n",
       "      <td>88.6</td>\n",
       "      <td>...</td>\n",
       "      <td>130</td>\n",
       "      <td>mpfi</td>\n",
       "      <td>3.47</td>\n",
       "      <td>2.68</td>\n",
       "      <td>9.0</td>\n",
       "      <td>111</td>\n",
       "      <td>5000</td>\n",
       "      <td>21</td>\n",
       "      <td>27</td>\n",
       "      <td>16500</td>\n",
       "    </tr>\n",
       "    <tr>\n",
       "      <th>2</th>\n",
       "      <td>1</td>\n",
       "      <td>NaN</td>\n",
       "      <td>alfa-romero</td>\n",
       "      <td>gas</td>\n",
       "      <td>std</td>\n",
       "      <td>two</td>\n",
       "      <td>hatchback</td>\n",
       "      <td>rwd</td>\n",
       "      <td>front</td>\n",
       "      <td>94.5</td>\n",
       "      <td>...</td>\n",
       "      <td>152</td>\n",
       "      <td>mpfi</td>\n",
       "      <td>2.68</td>\n",
       "      <td>3.47</td>\n",
       "      <td>9.0</td>\n",
       "      <td>154</td>\n",
       "      <td>5000</td>\n",
       "      <td>19</td>\n",
       "      <td>26</td>\n",
       "      <td>16500</td>\n",
       "    </tr>\n",
       "    <tr>\n",
       "      <th>3</th>\n",
       "      <td>2</td>\n",
       "      <td>164</td>\n",
       "      <td>audi</td>\n",
       "      <td>gas</td>\n",
       "      <td>std</td>\n",
       "      <td>four</td>\n",
       "      <td>sedan</td>\n",
       "      <td>fwd</td>\n",
       "      <td>front</td>\n",
       "      <td>99.8</td>\n",
       "      <td>...</td>\n",
       "      <td>109</td>\n",
       "      <td>mpfi</td>\n",
       "      <td>3.19</td>\n",
       "      <td>3.40</td>\n",
       "      <td>10.0</td>\n",
       "      <td>102</td>\n",
       "      <td>5500</td>\n",
       "      <td>24</td>\n",
       "      <td>30</td>\n",
       "      <td>13950</td>\n",
       "    </tr>\n",
       "    <tr>\n",
       "      <th>4</th>\n",
       "      <td>2</td>\n",
       "      <td>164</td>\n",
       "      <td>audi</td>\n",
       "      <td>gas</td>\n",
       "      <td>std</td>\n",
       "      <td>four</td>\n",
       "      <td>sedan</td>\n",
       "      <td>4wd</td>\n",
       "      <td>front</td>\n",
       "      <td>99.4</td>\n",
       "      <td>...</td>\n",
       "      <td>136</td>\n",
       "      <td>mpfi</td>\n",
       "      <td>3.19</td>\n",
       "      <td>3.40</td>\n",
       "      <td>8.0</td>\n",
       "      <td>115</td>\n",
       "      <td>5500</td>\n",
       "      <td>18</td>\n",
       "      <td>22</td>\n",
       "      <td>17450</td>\n",
       "    </tr>\n",
       "  </tbody>\n",
       "</table>\n",
       "<p>5 rows × 26 columns</p>\n",
       "</div>"
      ],
      "text/plain": [
       "   symboling normalized-losses         make fuel-type aspiration num-of-doors  \\\n",
       "0          3               NaN  alfa-romero       gas        std          two   \n",
       "1          3               NaN  alfa-romero       gas        std          two   \n",
       "2          1               NaN  alfa-romero       gas        std          two   \n",
       "3          2               164         audi       gas        std         four   \n",
       "4          2               164         audi       gas        std         four   \n",
       "\n",
       "    body-style drive-wheels engine-location  wheel-base  ...  engine-size  \\\n",
       "0  convertible          rwd           front        88.6  ...          130   \n",
       "1  convertible          rwd           front        88.6  ...          130   \n",
       "2    hatchback          rwd           front        94.5  ...          152   \n",
       "3        sedan          fwd           front        99.8  ...          109   \n",
       "4        sedan          4wd           front        99.4  ...          136   \n",
       "\n",
       "   fuel-system  bore  stroke compression-ratio horsepower  peak-rpm city-mpg  \\\n",
       "0         mpfi  3.47    2.68               9.0        111      5000       21   \n",
       "1         mpfi  3.47    2.68               9.0        111      5000       21   \n",
       "2         mpfi  2.68    3.47               9.0        154      5000       19   \n",
       "3         mpfi  3.19    3.40              10.0        102      5500       24   \n",
       "4         mpfi  3.19    3.40               8.0        115      5500       18   \n",
       "\n",
       "  highway-mpg  price  \n",
       "0          27  13495  \n",
       "1          27  16500  \n",
       "2          26  16500  \n",
       "3          30  13950  \n",
       "4          22  17450  \n",
       "\n",
       "[5 rows x 26 columns]"
      ]
     },
     "execution_count": 28,
     "metadata": {},
     "output_type": "execute_result"
    }
   ],
   "source": [
    "cars = cars.replace(\"?\", NA)\n",
    "cars.head()"
   ]
  },
  {
   "cell_type": "markdown",
   "metadata": {
    "colab_type": "text",
    "id": "Rtl97XDq-Kcb"
   },
   "source": [
    "Now, to quickly get the big picture of the condition of the data, we can try to find out how many NaNs are there in each of these columns. Remember: indices of a dataframe refer to the columns, so applying a function to a dataframe will be effective on the columns first."
   ]
  },
  {
   "cell_type": "code",
   "execution_count": 29,
   "metadata": {
    "colab": {},
    "colab_type": "code",
    "id": "6MVTJkuF-Kcc"
   },
   "outputs": [
    {
     "data": {
      "text/plain": [
       "symboling             0\n",
       "normalized-losses    41\n",
       "make                  0\n",
       "fuel-type             0\n",
       "aspiration            0\n",
       "num-of-doors          2\n",
       "body-style            0\n",
       "drive-wheels          0\n",
       "engine-location       0\n",
       "wheel-base            0\n",
       "length                0\n",
       "width                 0\n",
       "height                0\n",
       "curb-weight           0\n",
       "engine-type           0\n",
       "num-of-cylinders      0\n",
       "engine-size           0\n",
       "fuel-system           0\n",
       "bore                  4\n",
       "stroke                4\n",
       "compression-ratio     0\n",
       "horsepower            2\n",
       "peak-rpm              2\n",
       "city-mpg              0\n",
       "highway-mpg           0\n",
       "price                 4\n",
       "dtype: int64"
      ]
     },
     "execution_count": 29,
     "metadata": {},
     "output_type": "execute_result"
    }
   ],
   "source": [
    "cars.isnull().sum()"
   ]
  },
  {
   "cell_type": "markdown",
   "metadata": {
    "colab_type": "text",
    "id": "4Ja1VDBV3lc3"
   },
   "source": [
    "Based on this summary, we can see that `normalized-loss` attribute has the most NaN values, while there are a few others also have incomplete data."
   ]
  },
  {
   "cell_type": "code",
   "execution_count": 30,
   "metadata": {
    "colab": {},
    "colab_type": "code",
    "id": "lpZBpGJ83S_h"
   },
   "outputs": [
    {
     "data": {
      "text/plain": [
       "symboling              int64\n",
       "normalized-losses     object\n",
       "make                  object\n",
       "fuel-type             object\n",
       "aspiration            object\n",
       "num-of-doors          object\n",
       "body-style            object\n",
       "drive-wheels          object\n",
       "engine-location       object\n",
       "wheel-base           float64\n",
       "length               float64\n",
       "width                float64\n",
       "height               float64\n",
       "curb-weight            int64\n",
       "engine-type           object\n",
       "num-of-cylinders      object\n",
       "engine-size            int64\n",
       "fuel-system           object\n",
       "bore                  object\n",
       "stroke                object\n",
       "compression-ratio    float64\n",
       "horsepower            object\n",
       "peak-rpm              object\n",
       "city-mpg               int64\n",
       "highway-mpg            int64\n",
       "price                 object\n",
       "dtype: object"
      ]
     },
     "execution_count": 30,
     "metadata": {},
     "output_type": "execute_result"
    }
   ],
   "source": [
    "cars.dtypes     # this shows all the data types within the dataframe"
   ]
  },
  {
   "cell_type": "markdown",
   "metadata": {
    "colab_type": "text",
    "id": "ulpmzD_g-Kce"
   },
   "source": [
    "Numeric operations such as mean or max cannot be applied to object types. Take this example:"
   ]
  },
  {
   "cell_type": "code",
   "execution_count": 31,
   "metadata": {
    "colab": {},
    "colab_type": "code",
    "id": "h4dotaeQ3CYj"
   },
   "outputs": [
    {
     "ename": "TypeError",
     "evalue": "can only concatenate str (not \"int\") to str",
     "output_type": "error",
     "traceback": [
      "\u001b[0;31m---------------------------------------------------------------------------\u001b[0m",
      "\u001b[0;31mTypeError\u001b[0m                                 Traceback (most recent call last)",
      "Cell \u001b[0;32mIn[31], line 1\u001b[0m\n\u001b[0;32m----> 1\u001b[0m \u001b[43mcars\u001b[49m\u001b[43m[\u001b[49m\u001b[38;5;124;43m\"\u001b[39;49m\u001b[38;5;124;43mhorsepower\u001b[39;49m\u001b[38;5;124;43m\"\u001b[39;49m\u001b[43m]\u001b[49m\u001b[38;5;241;43m.\u001b[39;49m\u001b[43mmean\u001b[49m\u001b[43m(\u001b[49m\u001b[43m)\u001b[49m\n\u001b[1;32m      2\u001b[0m \u001b[38;5;66;03m# try this as well:\u001b[39;00m\n\u001b[1;32m      3\u001b[0m \u001b[38;5;66;03m# cars[\"horsepower\"].max()\u001b[39;00m\n",
      "File \u001b[0;32m~/miniconda3/envs/sklearn/lib/python3.10/site-packages/pandas/core/generic.py:11847\u001b[0m, in \u001b[0;36mNDFrame._add_numeric_operations.<locals>.mean\u001b[0;34m(self, axis, skipna, level, numeric_only, **kwargs)\u001b[0m\n\u001b[1;32m  11829\u001b[0m \u001b[38;5;129m@doc\u001b[39m(\n\u001b[1;32m  11830\u001b[0m     _num_doc,\n\u001b[1;32m  11831\u001b[0m     desc\u001b[38;5;241m=\u001b[39m\u001b[38;5;124m\"\u001b[39m\u001b[38;5;124mReturn the mean of the values over the requested axis.\u001b[39m\u001b[38;5;124m\"\u001b[39m,\n\u001b[0;32m   (...)\u001b[0m\n\u001b[1;32m  11845\u001b[0m     \u001b[38;5;241m*\u001b[39m\u001b[38;5;241m*\u001b[39mkwargs,\n\u001b[1;32m  11846\u001b[0m ):\n\u001b[0;32m> 11847\u001b[0m     \u001b[38;5;28;01mreturn\u001b[39;00m \u001b[43mNDFrame\u001b[49m\u001b[38;5;241;43m.\u001b[39;49m\u001b[43mmean\u001b[49m\u001b[43m(\u001b[49m\u001b[38;5;28;43mself\u001b[39;49m\u001b[43m,\u001b[49m\u001b[43m \u001b[49m\u001b[43maxis\u001b[49m\u001b[43m,\u001b[49m\u001b[43m \u001b[49m\u001b[43mskipna\u001b[49m\u001b[43m,\u001b[49m\u001b[43m \u001b[49m\u001b[43mlevel\u001b[49m\u001b[43m,\u001b[49m\u001b[43m \u001b[49m\u001b[43mnumeric_only\u001b[49m\u001b[43m,\u001b[49m\u001b[43m \u001b[49m\u001b[38;5;241;43m*\u001b[39;49m\u001b[38;5;241;43m*\u001b[39;49m\u001b[43mkwargs\u001b[49m\u001b[43m)\u001b[49m\n",
      "File \u001b[0;32m~/miniconda3/envs/sklearn/lib/python3.10/site-packages/pandas/core/generic.py:11401\u001b[0m, in \u001b[0;36mNDFrame.mean\u001b[0;34m(self, axis, skipna, level, numeric_only, **kwargs)\u001b[0m\n\u001b[1;32m  11393\u001b[0m \u001b[38;5;28;01mdef\u001b[39;00m \u001b[38;5;21mmean\u001b[39m(\n\u001b[1;32m  11394\u001b[0m     \u001b[38;5;28mself\u001b[39m,\n\u001b[1;32m  11395\u001b[0m     axis: Axis \u001b[38;5;241m|\u001b[39m \u001b[38;5;28;01mNone\u001b[39;00m \u001b[38;5;241m|\u001b[39m lib\u001b[38;5;241m.\u001b[39mNoDefault \u001b[38;5;241m=\u001b[39m lib\u001b[38;5;241m.\u001b[39mno_default,\n\u001b[0;32m   (...)\u001b[0m\n\u001b[1;32m  11399\u001b[0m     \u001b[38;5;241m*\u001b[39m\u001b[38;5;241m*\u001b[39mkwargs,\n\u001b[1;32m  11400\u001b[0m ) \u001b[38;5;241m-\u001b[39m\u001b[38;5;241m>\u001b[39m Series \u001b[38;5;241m|\u001b[39m \u001b[38;5;28mfloat\u001b[39m:\n\u001b[0;32m> 11401\u001b[0m     \u001b[38;5;28;01mreturn\u001b[39;00m \u001b[38;5;28;43mself\u001b[39;49m\u001b[38;5;241;43m.\u001b[39;49m\u001b[43m_stat_function\u001b[49m\u001b[43m(\u001b[49m\n\u001b[1;32m  11402\u001b[0m \u001b[43m        \u001b[49m\u001b[38;5;124;43m\"\u001b[39;49m\u001b[38;5;124;43mmean\u001b[39;49m\u001b[38;5;124;43m\"\u001b[39;49m\u001b[43m,\u001b[49m\u001b[43m \u001b[49m\u001b[43mnanops\u001b[49m\u001b[38;5;241;43m.\u001b[39;49m\u001b[43mnanmean\u001b[49m\u001b[43m,\u001b[49m\u001b[43m \u001b[49m\u001b[43maxis\u001b[49m\u001b[43m,\u001b[49m\u001b[43m \u001b[49m\u001b[43mskipna\u001b[49m\u001b[43m,\u001b[49m\u001b[43m \u001b[49m\u001b[43mlevel\u001b[49m\u001b[43m,\u001b[49m\u001b[43m \u001b[49m\u001b[43mnumeric_only\u001b[49m\u001b[43m,\u001b[49m\u001b[43m \u001b[49m\u001b[38;5;241;43m*\u001b[39;49m\u001b[38;5;241;43m*\u001b[39;49m\u001b[43mkwargs\u001b[49m\n\u001b[1;32m  11403\u001b[0m \u001b[43m    \u001b[49m\u001b[43m)\u001b[49m\n",
      "File \u001b[0;32m~/miniconda3/envs/sklearn/lib/python3.10/site-packages/pandas/core/generic.py:11353\u001b[0m, in \u001b[0;36mNDFrame._stat_function\u001b[0;34m(self, name, func, axis, skipna, level, numeric_only, **kwargs)\u001b[0m\n\u001b[1;32m  11343\u001b[0m     warnings\u001b[38;5;241m.\u001b[39mwarn(\n\u001b[1;32m  11344\u001b[0m         \u001b[38;5;124m\"\u001b[39m\u001b[38;5;124mUsing the level keyword in DataFrame and Series aggregations is \u001b[39m\u001b[38;5;124m\"\u001b[39m\n\u001b[1;32m  11345\u001b[0m         \u001b[38;5;124m\"\u001b[39m\u001b[38;5;124mdeprecated and will be removed in a future version. Use groupby \u001b[39m\u001b[38;5;124m\"\u001b[39m\n\u001b[0;32m   (...)\u001b[0m\n\u001b[1;32m  11348\u001b[0m         stacklevel\u001b[38;5;241m=\u001b[39mfind_stack_level(),\n\u001b[1;32m  11349\u001b[0m     )\n\u001b[1;32m  11350\u001b[0m     \u001b[38;5;28;01mreturn\u001b[39;00m \u001b[38;5;28mself\u001b[39m\u001b[38;5;241m.\u001b[39m_agg_by_level(\n\u001b[1;32m  11351\u001b[0m         name, axis\u001b[38;5;241m=\u001b[39maxis, level\u001b[38;5;241m=\u001b[39mlevel, skipna\u001b[38;5;241m=\u001b[39mskipna, numeric_only\u001b[38;5;241m=\u001b[39mnumeric_only\n\u001b[1;32m  11352\u001b[0m     )\n\u001b[0;32m> 11353\u001b[0m \u001b[38;5;28;01mreturn\u001b[39;00m \u001b[38;5;28;43mself\u001b[39;49m\u001b[38;5;241;43m.\u001b[39;49m\u001b[43m_reduce\u001b[49m\u001b[43m(\u001b[49m\n\u001b[1;32m  11354\u001b[0m \u001b[43m    \u001b[49m\u001b[43mfunc\u001b[49m\u001b[43m,\u001b[49m\u001b[43m \u001b[49m\u001b[43mname\u001b[49m\u001b[38;5;241;43m=\u001b[39;49m\u001b[43mname\u001b[49m\u001b[43m,\u001b[49m\u001b[43m \u001b[49m\u001b[43maxis\u001b[49m\u001b[38;5;241;43m=\u001b[39;49m\u001b[43maxis\u001b[49m\u001b[43m,\u001b[49m\u001b[43m \u001b[49m\u001b[43mskipna\u001b[49m\u001b[38;5;241;43m=\u001b[39;49m\u001b[43mskipna\u001b[49m\u001b[43m,\u001b[49m\u001b[43m \u001b[49m\u001b[43mnumeric_only\u001b[49m\u001b[38;5;241;43m=\u001b[39;49m\u001b[43mnumeric_only\u001b[49m\n\u001b[1;32m  11355\u001b[0m \u001b[43m\u001b[49m\u001b[43m)\u001b[49m\n",
      "File \u001b[0;32m~/miniconda3/envs/sklearn/lib/python3.10/site-packages/pandas/core/series.py:4816\u001b[0m, in \u001b[0;36mSeries._reduce\u001b[0;34m(self, op, name, axis, skipna, numeric_only, filter_type, **kwds)\u001b[0m\n\u001b[1;32m   4812\u001b[0m     \u001b[38;5;28;01mraise\u001b[39;00m \u001b[38;5;167;01mNotImplementedError\u001b[39;00m(\n\u001b[1;32m   4813\u001b[0m         \u001b[38;5;124mf\u001b[39m\u001b[38;5;124m\"\u001b[39m\u001b[38;5;124mSeries.\u001b[39m\u001b[38;5;132;01m{\u001b[39;00mname\u001b[38;5;132;01m}\u001b[39;00m\u001b[38;5;124m does not implement \u001b[39m\u001b[38;5;132;01m{\u001b[39;00mkwd_name\u001b[38;5;132;01m}\u001b[39;00m\u001b[38;5;124m.\u001b[39m\u001b[38;5;124m\"\u001b[39m\n\u001b[1;32m   4814\u001b[0m     )\n\u001b[1;32m   4815\u001b[0m \u001b[38;5;28;01mwith\u001b[39;00m np\u001b[38;5;241m.\u001b[39merrstate(\u001b[38;5;28mall\u001b[39m\u001b[38;5;241m=\u001b[39m\u001b[38;5;124m\"\u001b[39m\u001b[38;5;124mignore\u001b[39m\u001b[38;5;124m\"\u001b[39m):\n\u001b[0;32m-> 4816\u001b[0m     \u001b[38;5;28;01mreturn\u001b[39;00m \u001b[43mop\u001b[49m\u001b[43m(\u001b[49m\u001b[43mdelegate\u001b[49m\u001b[43m,\u001b[49m\u001b[43m \u001b[49m\u001b[43mskipna\u001b[49m\u001b[38;5;241;43m=\u001b[39;49m\u001b[43mskipna\u001b[49m\u001b[43m,\u001b[49m\u001b[43m \u001b[49m\u001b[38;5;241;43m*\u001b[39;49m\u001b[38;5;241;43m*\u001b[39;49m\u001b[43mkwds\u001b[49m\u001b[43m)\u001b[49m\n",
      "File \u001b[0;32m~/miniconda3/envs/sklearn/lib/python3.10/site-packages/pandas/core/nanops.py:93\u001b[0m, in \u001b[0;36mdisallow.__call__.<locals>._f\u001b[0;34m(*args, **kwargs)\u001b[0m\n\u001b[1;32m     91\u001b[0m \u001b[38;5;28;01mtry\u001b[39;00m:\n\u001b[1;32m     92\u001b[0m     \u001b[38;5;28;01mwith\u001b[39;00m np\u001b[38;5;241m.\u001b[39merrstate(invalid\u001b[38;5;241m=\u001b[39m\u001b[38;5;124m\"\u001b[39m\u001b[38;5;124mignore\u001b[39m\u001b[38;5;124m\"\u001b[39m):\n\u001b[0;32m---> 93\u001b[0m         \u001b[38;5;28;01mreturn\u001b[39;00m \u001b[43mf\u001b[49m\u001b[43m(\u001b[49m\u001b[38;5;241;43m*\u001b[39;49m\u001b[43margs\u001b[49m\u001b[43m,\u001b[49m\u001b[43m \u001b[49m\u001b[38;5;241;43m*\u001b[39;49m\u001b[38;5;241;43m*\u001b[39;49m\u001b[43mkwargs\u001b[49m\u001b[43m)\u001b[49m\n\u001b[1;32m     94\u001b[0m \u001b[38;5;28;01mexcept\u001b[39;00m \u001b[38;5;167;01mValueError\u001b[39;00m \u001b[38;5;28;01mas\u001b[39;00m e:\n\u001b[1;32m     95\u001b[0m     \u001b[38;5;66;03m# we want to transform an object array\u001b[39;00m\n\u001b[1;32m     96\u001b[0m     \u001b[38;5;66;03m# ValueError message to the more typical TypeError\u001b[39;00m\n\u001b[1;32m     97\u001b[0m     \u001b[38;5;66;03m# e.g. this is normally a disallowed function on\u001b[39;00m\n\u001b[1;32m     98\u001b[0m     \u001b[38;5;66;03m# object arrays that contain strings\u001b[39;00m\n\u001b[1;32m     99\u001b[0m     \u001b[38;5;28;01mif\u001b[39;00m is_object_dtype(args[\u001b[38;5;241m0\u001b[39m]):\n",
      "File \u001b[0;32m~/miniconda3/envs/sklearn/lib/python3.10/site-packages/pandas/core/nanops.py:155\u001b[0m, in \u001b[0;36mbottleneck_switch.__call__.<locals>.f\u001b[0;34m(values, axis, skipna, **kwds)\u001b[0m\n\u001b[1;32m    153\u001b[0m         result \u001b[38;5;241m=\u001b[39m alt(values, axis\u001b[38;5;241m=\u001b[39maxis, skipna\u001b[38;5;241m=\u001b[39mskipna, \u001b[38;5;241m*\u001b[39m\u001b[38;5;241m*\u001b[39mkwds)\n\u001b[1;32m    154\u001b[0m \u001b[38;5;28;01melse\u001b[39;00m:\n\u001b[0;32m--> 155\u001b[0m     result \u001b[38;5;241m=\u001b[39m \u001b[43malt\u001b[49m\u001b[43m(\u001b[49m\u001b[43mvalues\u001b[49m\u001b[43m,\u001b[49m\u001b[43m \u001b[49m\u001b[43maxis\u001b[49m\u001b[38;5;241;43m=\u001b[39;49m\u001b[43maxis\u001b[49m\u001b[43m,\u001b[49m\u001b[43m \u001b[49m\u001b[43mskipna\u001b[49m\u001b[38;5;241;43m=\u001b[39;49m\u001b[43mskipna\u001b[49m\u001b[43m,\u001b[49m\u001b[43m \u001b[49m\u001b[38;5;241;43m*\u001b[39;49m\u001b[38;5;241;43m*\u001b[39;49m\u001b[43mkwds\u001b[49m\u001b[43m)\u001b[49m\n\u001b[1;32m    157\u001b[0m \u001b[38;5;28;01mreturn\u001b[39;00m result\n",
      "File \u001b[0;32m~/miniconda3/envs/sklearn/lib/python3.10/site-packages/pandas/core/nanops.py:418\u001b[0m, in \u001b[0;36m_datetimelike_compat.<locals>.new_func\u001b[0;34m(values, axis, skipna, mask, **kwargs)\u001b[0m\n\u001b[1;32m    415\u001b[0m \u001b[38;5;28;01mif\u001b[39;00m datetimelike \u001b[38;5;129;01mand\u001b[39;00m mask \u001b[38;5;129;01mis\u001b[39;00m \u001b[38;5;28;01mNone\u001b[39;00m:\n\u001b[1;32m    416\u001b[0m     mask \u001b[38;5;241m=\u001b[39m isna(values)\n\u001b[0;32m--> 418\u001b[0m result \u001b[38;5;241m=\u001b[39m \u001b[43mfunc\u001b[49m\u001b[43m(\u001b[49m\u001b[43mvalues\u001b[49m\u001b[43m,\u001b[49m\u001b[43m \u001b[49m\u001b[43maxis\u001b[49m\u001b[38;5;241;43m=\u001b[39;49m\u001b[43maxis\u001b[49m\u001b[43m,\u001b[49m\u001b[43m \u001b[49m\u001b[43mskipna\u001b[49m\u001b[38;5;241;43m=\u001b[39;49m\u001b[43mskipna\u001b[49m\u001b[43m,\u001b[49m\u001b[43m \u001b[49m\u001b[43mmask\u001b[49m\u001b[38;5;241;43m=\u001b[39;49m\u001b[43mmask\u001b[49m\u001b[43m,\u001b[49m\u001b[43m \u001b[49m\u001b[38;5;241;43m*\u001b[39;49m\u001b[38;5;241;43m*\u001b[39;49m\u001b[43mkwargs\u001b[49m\u001b[43m)\u001b[49m\n\u001b[1;32m    420\u001b[0m \u001b[38;5;28;01mif\u001b[39;00m datetimelike:\n\u001b[1;32m    421\u001b[0m     result \u001b[38;5;241m=\u001b[39m _wrap_results(result, orig_values\u001b[38;5;241m.\u001b[39mdtype, fill_value\u001b[38;5;241m=\u001b[39miNaT)\n",
      "File \u001b[0;32m~/miniconda3/envs/sklearn/lib/python3.10/site-packages/pandas/core/nanops.py:706\u001b[0m, in \u001b[0;36mnanmean\u001b[0;34m(values, axis, skipna, mask)\u001b[0m\n\u001b[1;32m    703\u001b[0m     dtype_count \u001b[38;5;241m=\u001b[39m dtype\n\u001b[1;32m    705\u001b[0m count \u001b[38;5;241m=\u001b[39m _get_counts(values\u001b[38;5;241m.\u001b[39mshape, mask, axis, dtype\u001b[38;5;241m=\u001b[39mdtype_count)\n\u001b[0;32m--> 706\u001b[0m the_sum \u001b[38;5;241m=\u001b[39m _ensure_numeric(\u001b[43mvalues\u001b[49m\u001b[38;5;241;43m.\u001b[39;49m\u001b[43msum\u001b[49m\u001b[43m(\u001b[49m\u001b[43maxis\u001b[49m\u001b[43m,\u001b[49m\u001b[43m \u001b[49m\u001b[43mdtype\u001b[49m\u001b[38;5;241;43m=\u001b[39;49m\u001b[43mdtype_sum\u001b[49m\u001b[43m)\u001b[49m)\n\u001b[1;32m    708\u001b[0m \u001b[38;5;28;01mif\u001b[39;00m axis \u001b[38;5;129;01mis\u001b[39;00m \u001b[38;5;129;01mnot\u001b[39;00m \u001b[38;5;28;01mNone\u001b[39;00m \u001b[38;5;129;01mand\u001b[39;00m \u001b[38;5;28mgetattr\u001b[39m(the_sum, \u001b[38;5;124m\"\u001b[39m\u001b[38;5;124mndim\u001b[39m\u001b[38;5;124m\"\u001b[39m, \u001b[38;5;28;01mFalse\u001b[39;00m):\n\u001b[1;32m    709\u001b[0m     count \u001b[38;5;241m=\u001b[39m cast(np\u001b[38;5;241m.\u001b[39mndarray, count)\n",
      "File \u001b[0;32m~/miniconda3/envs/sklearn/lib/python3.10/site-packages/numpy/core/_methods.py:49\u001b[0m, in \u001b[0;36m_sum\u001b[0;34m(a, axis, dtype, out, keepdims, initial, where)\u001b[0m\n\u001b[1;32m     47\u001b[0m \u001b[38;5;28;01mdef\u001b[39;00m \u001b[38;5;21m_sum\u001b[39m(a, axis\u001b[38;5;241m=\u001b[39m\u001b[38;5;28;01mNone\u001b[39;00m, dtype\u001b[38;5;241m=\u001b[39m\u001b[38;5;28;01mNone\u001b[39;00m, out\u001b[38;5;241m=\u001b[39m\u001b[38;5;28;01mNone\u001b[39;00m, keepdims\u001b[38;5;241m=\u001b[39m\u001b[38;5;28;01mFalse\u001b[39;00m,\n\u001b[1;32m     48\u001b[0m          initial\u001b[38;5;241m=\u001b[39m_NoValue, where\u001b[38;5;241m=\u001b[39m\u001b[38;5;28;01mTrue\u001b[39;00m):\n\u001b[0;32m---> 49\u001b[0m     \u001b[38;5;28;01mreturn\u001b[39;00m \u001b[43mumr_sum\u001b[49m\u001b[43m(\u001b[49m\u001b[43ma\u001b[49m\u001b[43m,\u001b[49m\u001b[43m \u001b[49m\u001b[43maxis\u001b[49m\u001b[43m,\u001b[49m\u001b[43m \u001b[49m\u001b[43mdtype\u001b[49m\u001b[43m,\u001b[49m\u001b[43m \u001b[49m\u001b[43mout\u001b[49m\u001b[43m,\u001b[49m\u001b[43m \u001b[49m\u001b[43mkeepdims\u001b[49m\u001b[43m,\u001b[49m\u001b[43m \u001b[49m\u001b[43minitial\u001b[49m\u001b[43m,\u001b[49m\u001b[43m \u001b[49m\u001b[43mwhere\u001b[49m\u001b[43m)\u001b[49m\n",
      "\u001b[0;31mTypeError\u001b[0m: can only concatenate str (not \"int\") to str"
     ]
    }
   ],
   "source": [
    "cars[\"horsepower\"].mean()\n",
    "# try this as well:\n",
    "# cars[\"horsepower\"].max()"
   ]
  },
  {
   "cell_type": "markdown",
   "metadata": {
    "colab_type": "text",
    "id": "3451jkWZ36TR"
   },
   "source": [
    "The right way to handle this is to force the conversion to numeric on a specific series. "
   ]
  },
  {
   "cell_type": "code",
   "execution_count": 32,
   "metadata": {
    "colab": {},
    "colab_type": "code",
    "id": "l-1mxsdR33kU"
   },
   "outputs": [
    {
     "name": "stdout",
     "output_type": "stream",
     "text": [
      "object\n",
      "float64\n",
      "104.25615763546799\n"
     ]
    }
   ],
   "source": [
    "print(cars[\"horsepower\"].dtype)\n",
    "hp_num = pd.to_numeric(cars[\"horsepower\"], errors='coerce')\n",
    "print(hp_num.dtype)\n",
    "print(hp_num.mean())"
   ]
  },
  {
   "cell_type": "markdown",
   "metadata": {
    "colab_type": "text",
    "id": "zYUtvHIh3DVw"
   },
   "source": [
    "**Q1**: Replace the NaN data in `normalized-loss`, `peak-rpm`, `horsepower`, `bore`, `stroke` with their respective mean values."
   ]
  },
  {
   "cell_type": "code",
   "execution_count": 41,
   "metadata": {
    "colab": {},
    "colab_type": "code",
    "id": "yx1qnOSI-Kcf"
   },
   "outputs": [
    {
     "name": "stdout",
     "output_type": "stream",
     "text": [
      "symboling               0.834146\n",
      "normalized-losses     122.000000\n",
      "wheel-base             98.756585\n",
      "length                174.049268\n",
      "width                  65.907805\n",
      "height                 53.724878\n",
      "curb-weight          2555.565854\n",
      "engine-size           126.907317\n",
      "bore                    3.329751\n",
      "stroke                  3.255423\n",
      "compression-ratio      10.142537\n",
      "horsepower            104.256158\n",
      "peak-rpm             5125.369458\n",
      "city-mpg               25.219512\n",
      "highway-mpg            30.751220\n",
      "dtype: float64\n"
     ]
    },
    {
     "data": {
      "text/html": [
       "<div>\n",
       "<style scoped>\n",
       "    .dataframe tbody tr th:only-of-type {\n",
       "        vertical-align: middle;\n",
       "    }\n",
       "\n",
       "    .dataframe tbody tr th {\n",
       "        vertical-align: top;\n",
       "    }\n",
       "\n",
       "    .dataframe thead th {\n",
       "        text-align: right;\n",
       "    }\n",
       "</style>\n",
       "<table border=\"1\" class=\"dataframe\">\n",
       "  <thead>\n",
       "    <tr style=\"text-align: right;\">\n",
       "      <th></th>\n",
       "      <th>symboling</th>\n",
       "      <th>normalized-losses</th>\n",
       "      <th>make</th>\n",
       "      <th>fuel-type</th>\n",
       "      <th>aspiration</th>\n",
       "      <th>num-of-doors</th>\n",
       "      <th>body-style</th>\n",
       "      <th>drive-wheels</th>\n",
       "      <th>engine-location</th>\n",
       "      <th>wheel-base</th>\n",
       "      <th>...</th>\n",
       "      <th>engine-size</th>\n",
       "      <th>fuel-system</th>\n",
       "      <th>bore</th>\n",
       "      <th>stroke</th>\n",
       "      <th>compression-ratio</th>\n",
       "      <th>horsepower</th>\n",
       "      <th>peak-rpm</th>\n",
       "      <th>city-mpg</th>\n",
       "      <th>highway-mpg</th>\n",
       "      <th>price</th>\n",
       "    </tr>\n",
       "  </thead>\n",
       "  <tbody>\n",
       "    <tr>\n",
       "      <th>0</th>\n",
       "      <td>3</td>\n",
       "      <td>122.0</td>\n",
       "      <td>alfa-romero</td>\n",
       "      <td>gas</td>\n",
       "      <td>std</td>\n",
       "      <td>two</td>\n",
       "      <td>convertible</td>\n",
       "      <td>rwd</td>\n",
       "      <td>front</td>\n",
       "      <td>88.6</td>\n",
       "      <td>...</td>\n",
       "      <td>130</td>\n",
       "      <td>mpfi</td>\n",
       "      <td>3.47</td>\n",
       "      <td>2.68</td>\n",
       "      <td>9.0</td>\n",
       "      <td>111.0</td>\n",
       "      <td>5000.0</td>\n",
       "      <td>21</td>\n",
       "      <td>27</td>\n",
       "      <td>13495</td>\n",
       "    </tr>\n",
       "    <tr>\n",
       "      <th>1</th>\n",
       "      <td>3</td>\n",
       "      <td>122.0</td>\n",
       "      <td>alfa-romero</td>\n",
       "      <td>gas</td>\n",
       "      <td>std</td>\n",
       "      <td>two</td>\n",
       "      <td>convertible</td>\n",
       "      <td>rwd</td>\n",
       "      <td>front</td>\n",
       "      <td>88.6</td>\n",
       "      <td>...</td>\n",
       "      <td>130</td>\n",
       "      <td>mpfi</td>\n",
       "      <td>3.47</td>\n",
       "      <td>2.68</td>\n",
       "      <td>9.0</td>\n",
       "      <td>111.0</td>\n",
       "      <td>5000.0</td>\n",
       "      <td>21</td>\n",
       "      <td>27</td>\n",
       "      <td>16500</td>\n",
       "    </tr>\n",
       "    <tr>\n",
       "      <th>2</th>\n",
       "      <td>1</td>\n",
       "      <td>122.0</td>\n",
       "      <td>alfa-romero</td>\n",
       "      <td>gas</td>\n",
       "      <td>std</td>\n",
       "      <td>two</td>\n",
       "      <td>hatchback</td>\n",
       "      <td>rwd</td>\n",
       "      <td>front</td>\n",
       "      <td>94.5</td>\n",
       "      <td>...</td>\n",
       "      <td>152</td>\n",
       "      <td>mpfi</td>\n",
       "      <td>2.68</td>\n",
       "      <td>3.47</td>\n",
       "      <td>9.0</td>\n",
       "      <td>154.0</td>\n",
       "      <td>5000.0</td>\n",
       "      <td>19</td>\n",
       "      <td>26</td>\n",
       "      <td>16500</td>\n",
       "    </tr>\n",
       "    <tr>\n",
       "      <th>3</th>\n",
       "      <td>2</td>\n",
       "      <td>164.0</td>\n",
       "      <td>audi</td>\n",
       "      <td>gas</td>\n",
       "      <td>std</td>\n",
       "      <td>four</td>\n",
       "      <td>sedan</td>\n",
       "      <td>fwd</td>\n",
       "      <td>front</td>\n",
       "      <td>99.8</td>\n",
       "      <td>...</td>\n",
       "      <td>109</td>\n",
       "      <td>mpfi</td>\n",
       "      <td>3.19</td>\n",
       "      <td>3.40</td>\n",
       "      <td>10.0</td>\n",
       "      <td>102.0</td>\n",
       "      <td>5500.0</td>\n",
       "      <td>24</td>\n",
       "      <td>30</td>\n",
       "      <td>13950</td>\n",
       "    </tr>\n",
       "    <tr>\n",
       "      <th>4</th>\n",
       "      <td>2</td>\n",
       "      <td>164.0</td>\n",
       "      <td>audi</td>\n",
       "      <td>gas</td>\n",
       "      <td>std</td>\n",
       "      <td>four</td>\n",
       "      <td>sedan</td>\n",
       "      <td>4wd</td>\n",
       "      <td>front</td>\n",
       "      <td>99.4</td>\n",
       "      <td>...</td>\n",
       "      <td>136</td>\n",
       "      <td>mpfi</td>\n",
       "      <td>3.19</td>\n",
       "      <td>3.40</td>\n",
       "      <td>8.0</td>\n",
       "      <td>115.0</td>\n",
       "      <td>5500.0</td>\n",
       "      <td>18</td>\n",
       "      <td>22</td>\n",
       "      <td>17450</td>\n",
       "    </tr>\n",
       "    <tr>\n",
       "      <th>...</th>\n",
       "      <td>...</td>\n",
       "      <td>...</td>\n",
       "      <td>...</td>\n",
       "      <td>...</td>\n",
       "      <td>...</td>\n",
       "      <td>...</td>\n",
       "      <td>...</td>\n",
       "      <td>...</td>\n",
       "      <td>...</td>\n",
       "      <td>...</td>\n",
       "      <td>...</td>\n",
       "      <td>...</td>\n",
       "      <td>...</td>\n",
       "      <td>...</td>\n",
       "      <td>...</td>\n",
       "      <td>...</td>\n",
       "      <td>...</td>\n",
       "      <td>...</td>\n",
       "      <td>...</td>\n",
       "      <td>...</td>\n",
       "      <td>...</td>\n",
       "    </tr>\n",
       "    <tr>\n",
       "      <th>200</th>\n",
       "      <td>-1</td>\n",
       "      <td>95.0</td>\n",
       "      <td>volvo</td>\n",
       "      <td>gas</td>\n",
       "      <td>std</td>\n",
       "      <td>four</td>\n",
       "      <td>sedan</td>\n",
       "      <td>rwd</td>\n",
       "      <td>front</td>\n",
       "      <td>109.1</td>\n",
       "      <td>...</td>\n",
       "      <td>141</td>\n",
       "      <td>mpfi</td>\n",
       "      <td>3.78</td>\n",
       "      <td>3.15</td>\n",
       "      <td>9.5</td>\n",
       "      <td>114.0</td>\n",
       "      <td>5400.0</td>\n",
       "      <td>23</td>\n",
       "      <td>28</td>\n",
       "      <td>16845</td>\n",
       "    </tr>\n",
       "    <tr>\n",
       "      <th>201</th>\n",
       "      <td>-1</td>\n",
       "      <td>95.0</td>\n",
       "      <td>volvo</td>\n",
       "      <td>gas</td>\n",
       "      <td>turbo</td>\n",
       "      <td>four</td>\n",
       "      <td>sedan</td>\n",
       "      <td>rwd</td>\n",
       "      <td>front</td>\n",
       "      <td>109.1</td>\n",
       "      <td>...</td>\n",
       "      <td>141</td>\n",
       "      <td>mpfi</td>\n",
       "      <td>3.78</td>\n",
       "      <td>3.15</td>\n",
       "      <td>8.7</td>\n",
       "      <td>160.0</td>\n",
       "      <td>5300.0</td>\n",
       "      <td>19</td>\n",
       "      <td>25</td>\n",
       "      <td>19045</td>\n",
       "    </tr>\n",
       "    <tr>\n",
       "      <th>202</th>\n",
       "      <td>-1</td>\n",
       "      <td>95.0</td>\n",
       "      <td>volvo</td>\n",
       "      <td>gas</td>\n",
       "      <td>std</td>\n",
       "      <td>four</td>\n",
       "      <td>sedan</td>\n",
       "      <td>rwd</td>\n",
       "      <td>front</td>\n",
       "      <td>109.1</td>\n",
       "      <td>...</td>\n",
       "      <td>173</td>\n",
       "      <td>mpfi</td>\n",
       "      <td>3.58</td>\n",
       "      <td>2.87</td>\n",
       "      <td>8.8</td>\n",
       "      <td>134.0</td>\n",
       "      <td>5500.0</td>\n",
       "      <td>18</td>\n",
       "      <td>23</td>\n",
       "      <td>21485</td>\n",
       "    </tr>\n",
       "    <tr>\n",
       "      <th>203</th>\n",
       "      <td>-1</td>\n",
       "      <td>95.0</td>\n",
       "      <td>volvo</td>\n",
       "      <td>diesel</td>\n",
       "      <td>turbo</td>\n",
       "      <td>four</td>\n",
       "      <td>sedan</td>\n",
       "      <td>rwd</td>\n",
       "      <td>front</td>\n",
       "      <td>109.1</td>\n",
       "      <td>...</td>\n",
       "      <td>145</td>\n",
       "      <td>idi</td>\n",
       "      <td>3.01</td>\n",
       "      <td>3.40</td>\n",
       "      <td>23.0</td>\n",
       "      <td>106.0</td>\n",
       "      <td>4800.0</td>\n",
       "      <td>26</td>\n",
       "      <td>27</td>\n",
       "      <td>22470</td>\n",
       "    </tr>\n",
       "    <tr>\n",
       "      <th>204</th>\n",
       "      <td>-1</td>\n",
       "      <td>95.0</td>\n",
       "      <td>volvo</td>\n",
       "      <td>gas</td>\n",
       "      <td>turbo</td>\n",
       "      <td>four</td>\n",
       "      <td>sedan</td>\n",
       "      <td>rwd</td>\n",
       "      <td>front</td>\n",
       "      <td>109.1</td>\n",
       "      <td>...</td>\n",
       "      <td>141</td>\n",
       "      <td>mpfi</td>\n",
       "      <td>3.78</td>\n",
       "      <td>3.15</td>\n",
       "      <td>9.5</td>\n",
       "      <td>114.0</td>\n",
       "      <td>5400.0</td>\n",
       "      <td>19</td>\n",
       "      <td>25</td>\n",
       "      <td>22625</td>\n",
       "    </tr>\n",
       "  </tbody>\n",
       "</table>\n",
       "<p>205 rows × 26 columns</p>\n",
       "</div>"
      ],
      "text/plain": [
       "     symboling  normalized-losses         make fuel-type aspiration  \\\n",
       "0            3              122.0  alfa-romero       gas        std   \n",
       "1            3              122.0  alfa-romero       gas        std   \n",
       "2            1              122.0  alfa-romero       gas        std   \n",
       "3            2              164.0         audi       gas        std   \n",
       "4            2              164.0         audi       gas        std   \n",
       "..         ...                ...          ...       ...        ...   \n",
       "200         -1               95.0        volvo       gas        std   \n",
       "201         -1               95.0        volvo       gas      turbo   \n",
       "202         -1               95.0        volvo       gas        std   \n",
       "203         -1               95.0        volvo    diesel      turbo   \n",
       "204         -1               95.0        volvo       gas      turbo   \n",
       "\n",
       "    num-of-doors   body-style drive-wheels engine-location  wheel-base  ...  \\\n",
       "0            two  convertible          rwd           front        88.6  ...   \n",
       "1            two  convertible          rwd           front        88.6  ...   \n",
       "2            two    hatchback          rwd           front        94.5  ...   \n",
       "3           four        sedan          fwd           front        99.8  ...   \n",
       "4           four        sedan          4wd           front        99.4  ...   \n",
       "..           ...          ...          ...             ...         ...  ...   \n",
       "200         four        sedan          rwd           front       109.1  ...   \n",
       "201         four        sedan          rwd           front       109.1  ...   \n",
       "202         four        sedan          rwd           front       109.1  ...   \n",
       "203         four        sedan          rwd           front       109.1  ...   \n",
       "204         four        sedan          rwd           front       109.1  ...   \n",
       "\n",
       "     engine-size  fuel-system  bore  stroke compression-ratio horsepower  \\\n",
       "0            130         mpfi  3.47    2.68               9.0      111.0   \n",
       "1            130         mpfi  3.47    2.68               9.0      111.0   \n",
       "2            152         mpfi  2.68    3.47               9.0      154.0   \n",
       "3            109         mpfi  3.19    3.40              10.0      102.0   \n",
       "4            136         mpfi  3.19    3.40               8.0      115.0   \n",
       "..           ...          ...   ...     ...               ...        ...   \n",
       "200          141         mpfi  3.78    3.15               9.5      114.0   \n",
       "201          141         mpfi  3.78    3.15               8.7      160.0   \n",
       "202          173         mpfi  3.58    2.87               8.8      134.0   \n",
       "203          145          idi  3.01    3.40              23.0      106.0   \n",
       "204          141         mpfi  3.78    3.15               9.5      114.0   \n",
       "\n",
       "     peak-rpm city-mpg  highway-mpg  price  \n",
       "0      5000.0       21           27  13495  \n",
       "1      5000.0       21           27  16500  \n",
       "2      5000.0       19           26  16500  \n",
       "3      5500.0       24           30  13950  \n",
       "4      5500.0       18           22  17450  \n",
       "..        ...      ...          ...    ...  \n",
       "200    5400.0       23           28  16845  \n",
       "201    5300.0       19           25  19045  \n",
       "202    5500.0       18           23  21485  \n",
       "203    4800.0       26           27  22470  \n",
       "204    5400.0       19           25  22625  \n",
       "\n",
       "[205 rows x 26 columns]"
      ]
     },
     "execution_count": 41,
     "metadata": {},
     "output_type": "execute_result"
    }
   ],
   "source": [
    "# fill in here\n",
    "\n",
    "cars[['normalized-losses','peak-rpm','horsepower','bore','stroke']] = \\\n",
    "cars[['normalized-losses','peak-rpm','horsepower','bore','stroke']].apply(pd.to_numeric,errors='coerce')\n",
    "print(cars.mean(numeric_only=True))\n",
    "cars.fillna(cars.mean(numeric_only=True),inplace=True)\n",
    "cars\n",
    "# note: Pandas cannot convert NaN to integer or floats, so to solve this\n",
    "# we need to convert the dataframe to numeric with errors=coerce option\n",
    "# after that, we can safely compute the mean, ignoring those "
   ]
  },
  {
   "cell_type": "markdown",
   "metadata": {
    "colab_type": "text",
    "id": "qteUfEIy-Kcl"
   },
   "source": [
    "Check again..."
   ]
  },
  {
   "cell_type": "code",
   "execution_count": 42,
   "metadata": {
    "colab": {},
    "colab_type": "code",
    "id": "Su0XtpL2-Kco"
   },
   "outputs": [
    {
     "data": {
      "text/plain": [
       "symboling            0\n",
       "normalized-losses    0\n",
       "make                 0\n",
       "fuel-type            0\n",
       "aspiration           0\n",
       "num-of-doors         2\n",
       "body-style           0\n",
       "drive-wheels         0\n",
       "engine-location      0\n",
       "wheel-base           0\n",
       "length               0\n",
       "width                0\n",
       "height               0\n",
       "curb-weight          0\n",
       "engine-type          0\n",
       "num-of-cylinders     0\n",
       "engine-size          0\n",
       "fuel-system          0\n",
       "bore                 0\n",
       "stroke               0\n",
       "compression-ratio    0\n",
       "horsepower           0\n",
       "peak-rpm             0\n",
       "city-mpg             0\n",
       "highway-mpg          0\n",
       "price                4\n",
       "dtype: int64"
      ]
     },
     "execution_count": 42,
     "metadata": {},
     "output_type": "execute_result"
    }
   ],
   "source": [
    "cars.isnull().sum()"
   ]
  },
  {
   "cell_type": "markdown",
   "metadata": {
    "colab_type": "text",
    "id": "UibFgmkf-Kcx"
   },
   "source": [
    "So we have not tackled the missing values in `num-of-doors` which appears to be a category, which is a string.\n",
    "\n",
    "Naively, we can replace the missing values with the most frequently appearing category. "
   ]
  },
  {
   "cell_type": "code",
   "execution_count": 43,
   "metadata": {
    "colab": {},
    "colab_type": "code",
    "id": "PShBJChz-Kcy"
   },
   "outputs": [
    {
     "data": {
      "text/plain": [
       "four    114\n",
       "two      89\n",
       "Name: num-of-doors, dtype: int64"
      ]
     },
     "execution_count": 43,
     "metadata": {},
     "output_type": "execute_result"
    }
   ],
   "source": [
    "cars[\"num-of-doors\"].value_counts()"
   ]
  },
  {
   "cell_type": "markdown",
   "metadata": {
    "colab_type": "text",
    "id": "GmmrbFnK-Kc1"
   },
   "source": [
    "Use the `idxmax()` function to directly pull out the value that corresponds to the item with the max value count. "
   ]
  },
  {
   "cell_type": "code",
   "execution_count": 44,
   "metadata": {
    "colab": {},
    "colab_type": "code",
    "id": "LyXFaCuz-Kc1"
   },
   "outputs": [
    {
     "data": {
      "text/plain": [
       "'four'"
      ]
     },
     "execution_count": 44,
     "metadata": {},
     "output_type": "execute_result"
    }
   ],
   "source": [
    "cars[\"num-of-doors\"].value_counts().idxmax()"
   ]
  },
  {
   "cell_type": "markdown",
   "metadata": {
    "colab_type": "text",
    "id": "6QPQrmd3-Kc4"
   },
   "source": [
    "Then, go ahead and replace the missing `num-of-doors` value by the most frequent value \"four\"."
   ]
  },
  {
   "cell_type": "code",
   "execution_count": 45,
   "metadata": {
    "colab": {},
    "colab_type": "code",
    "id": "KkKzK3ZP-Kc4",
    "scrolled": true
   },
   "outputs": [
    {
     "data": {
      "text/plain": [
       "symboling            0\n",
       "normalized-losses    0\n",
       "make                 0\n",
       "fuel-type            0\n",
       "aspiration           0\n",
       "num-of-doors         0\n",
       "body-style           0\n",
       "drive-wheels         0\n",
       "engine-location      0\n",
       "wheel-base           0\n",
       "length               0\n",
       "width                0\n",
       "height               0\n",
       "curb-weight          0\n",
       "engine-type          0\n",
       "num-of-cylinders     0\n",
       "engine-size          0\n",
       "fuel-system          0\n",
       "bore                 0\n",
       "stroke               0\n",
       "compression-ratio    0\n",
       "horsepower           0\n",
       "peak-rpm             0\n",
       "city-mpg             0\n",
       "highway-mpg          0\n",
       "price                4\n",
       "dtype: int64"
      ]
     },
     "execution_count": 45,
     "metadata": {},
     "output_type": "execute_result"
    }
   ],
   "source": [
    "cars[\"num-of-doors\"].replace(NA, \"four\", inplace=True) \n",
    "# inplace=True allows replacement to take place in the dataframe itself\n",
    "\n",
    "cars.isnull().sum()    # check again"
   ]
  },
  {
   "cell_type": "markdown",
   "metadata": {
    "colab_type": "text",
    "id": "gUXRe8aK-Kc7"
   },
   "source": [
    "**Q2**: Drop all rows that do not have the price data. **Hint**: Use dropna(), specify which column to operate on with `subset` parameter"
   ]
  },
  {
   "cell_type": "code",
   "execution_count": 47,
   "metadata": {
    "colab": {},
    "colab_type": "code",
    "id": "qCSNmylM-Kc7"
   },
   "outputs": [
    {
     "data": {
      "text/plain": [
       "symboling            0\n",
       "normalized-losses    0\n",
       "make                 0\n",
       "fuel-type            0\n",
       "aspiration           0\n",
       "num-of-doors         0\n",
       "body-style           0\n",
       "drive-wheels         0\n",
       "engine-location      0\n",
       "wheel-base           0\n",
       "length               0\n",
       "width                0\n",
       "height               0\n",
       "curb-weight          0\n",
       "engine-type          0\n",
       "num-of-cylinders     0\n",
       "engine-size          0\n",
       "fuel-system          0\n",
       "bore                 0\n",
       "stroke               0\n",
       "compression-ratio    0\n",
       "horsepower           0\n",
       "peak-rpm             0\n",
       "city-mpg             0\n",
       "highway-mpg          0\n",
       "price                0\n",
       "dtype: int64"
      ]
     },
     "execution_count": 47,
     "metadata": {},
     "output_type": "execute_result"
    }
   ],
   "source": [
    "# fill in here\n",
    "cars.dropna(subset=['price'],inplace=True)\n",
    "cars.isnull().sum()"
   ]
  },
  {
   "cell_type": "markdown",
   "metadata": {
    "colab_type": "text",
    "id": "dxE-9R1w-Kc_"
   },
   "source": [
    "**Verify**: The data should have 201 rows after all the cleaning is done."
   ]
  },
  {
   "cell_type": "code",
   "execution_count": 48,
   "metadata": {
    "colab": {},
    "colab_type": "code",
    "id": "s0cp_0ie-Kc_"
   },
   "outputs": [
    {
     "data": {
      "text/plain": [
       "(201, 26)"
      ]
     },
     "execution_count": 48,
     "metadata": {},
     "output_type": "execute_result"
    }
   ],
   "source": [
    "cars.shape"
   ]
  },
  {
   "cell_type": "code",
   "execution_count": 49,
   "metadata": {
    "colab": {},
    "colab_type": "code",
    "id": "rJUojJbF-KdC"
   },
   "outputs": [
    {
     "data": {
      "text/plain": [
       "symboling              int64\n",
       "normalized-losses    float64\n",
       "make                  object\n",
       "fuel-type             object\n",
       "aspiration            object\n",
       "num-of-doors          object\n",
       "body-style            object\n",
       "drive-wheels          object\n",
       "engine-location       object\n",
       "wheel-base           float64\n",
       "length               float64\n",
       "width                float64\n",
       "height               float64\n",
       "curb-weight            int64\n",
       "engine-type           object\n",
       "num-of-cylinders      object\n",
       "engine-size            int64\n",
       "fuel-system           object\n",
       "bore                 float64\n",
       "stroke               float64\n",
       "compression-ratio    float64\n",
       "horsepower           float64\n",
       "peak-rpm             float64\n",
       "city-mpg               int64\n",
       "highway-mpg            int64\n",
       "price                 object\n",
       "dtype: object"
      ]
     },
     "execution_count": 49,
     "metadata": {},
     "output_type": "execute_result"
    }
   ],
   "source": [
    "cars.dtypes"
   ]
  },
  {
   "cell_type": "markdown",
   "metadata": {
    "colab_type": "text",
    "id": "Ovk9w0Bw-KdF"
   },
   "source": [
    "Notice from the data type printout above, some attributes have incorrect data types. This will cause problems in further processing that requires values to be numerical.To convert them into the appropriate data types:"
   ]
  },
  {
   "cell_type": "code",
   "execution_count": 50,
   "metadata": {
    "colab": {},
    "colab_type": "code",
    "id": "PYKR1RPc-KdF"
   },
   "outputs": [
    {
     "data": {
      "text/plain": [
       "symboling              int64\n",
       "normalized-losses      int64\n",
       "make                  object\n",
       "fuel-type             object\n",
       "aspiration            object\n",
       "num-of-doors          object\n",
       "body-style            object\n",
       "drive-wheels          object\n",
       "engine-location       object\n",
       "wheel-base           float64\n",
       "length               float64\n",
       "width                float64\n",
       "height               float64\n",
       "curb-weight            int64\n",
       "engine-type           object\n",
       "num-of-cylinders      object\n",
       "engine-size            int64\n",
       "fuel-system           object\n",
       "bore                 float64\n",
       "stroke               float64\n",
       "compression-ratio    float64\n",
       "horsepower             int64\n",
       "peak-rpm             float64\n",
       "city-mpg               int64\n",
       "highway-mpg            int64\n",
       "price                float64\n",
       "dtype: object"
      ]
     },
     "execution_count": 50,
     "metadata": {},
     "output_type": "execute_result"
    }
   ],
   "source": [
    "\n",
    "cars[[\"normalized-losses\"]] = cars[[\"normalized-losses\"]].astype(\"int\")\n",
    "cars[[\"price\"]] = cars[[\"price\"]].astype(\"float\")\n",
    "cars[[\"horsepower\"]] = cars[[\"horsepower\"]].astype(\"int\")\n",
    "\n",
    "cars.dtypes"
   ]
  },
  {
   "cell_type": "markdown",
   "metadata": {
    "colab_type": "text",
    "id": "3o672XML-KdI"
   },
   "source": [
    "With all these steps, the data should now be clean and ready for further processing!"
   ]
  },
  {
   "cell_type": "markdown",
   "metadata": {
    "colab_type": "text",
    "id": "_q23ytV7-KdJ"
   },
   "source": [
    "### Data Normalization\n",
    "\n",
    "Sometimes, you may want to normalize numeric data to reap its benefits during data modeling. Pandas does not have a normalize function, so you can either compute a normalization operation on the column itself, or you get Numpy's help to normalize values in the column. Typically, most normalizations want to scale the numeric values to a standard range (between 0 and 1 for e.g.), or to scale values according to the distribution such that the variance = 1 and average = 0.\n",
    "\n",
    "The car lengths looked like this:"
   ]
  },
  {
   "cell_type": "code",
   "execution_count": 51,
   "metadata": {
    "colab": {},
    "colab_type": "code",
    "id": "hwxR2x3q-KdJ"
   },
   "outputs": [
    {
     "data": {
      "text/plain": [
       "0      168.8\n",
       "1      168.8\n",
       "2      171.2\n",
       "3      176.6\n",
       "4      176.6\n",
       "       ...  \n",
       "200    188.8\n",
       "201    188.8\n",
       "202    188.8\n",
       "203    188.8\n",
       "204    188.8\n",
       "Name: length, Length: 201, dtype: float64"
      ]
     },
     "execution_count": 51,
     "metadata": {},
     "output_type": "execute_result"
    }
   ],
   "source": [
    "cars['length'] "
   ]
  },
  {
   "cell_type": "markdown",
   "metadata": {
    "colab_type": "text",
    "id": "ZL-BdgQm-KdP"
   },
   "source": [
    "Normalizing by the maximum value is quite easy. Just divide all values by the max!"
   ]
  },
  {
   "cell_type": "code",
   "execution_count": 52,
   "metadata": {
    "colab": {},
    "colab_type": "code",
    "id": "UEfppit9-KdQ"
   },
   "outputs": [
    {
     "data": {
      "text/plain": [
       "0      0.811148\n",
       "1      0.811148\n",
       "2      0.822681\n",
       "3      0.848630\n",
       "4      0.848630\n",
       "         ...   \n",
       "200    0.907256\n",
       "201    0.907256\n",
       "202    0.907256\n",
       "203    0.907256\n",
       "204    0.907256\n",
       "Name: length, Length: 201, dtype: float64"
      ]
     },
     "execution_count": 52,
     "metadata": {},
     "output_type": "execute_result"
    }
   ],
   "source": [
    "cars['length']/cars['length'].max()"
   ]
  },
  {
   "cell_type": "markdown",
   "metadata": {
    "colab_type": "text",
    "id": "KtLzE1ro-KdT"
   },
   "source": [
    "This gives us an idea of how far is the relative length of each car from the length of the longest car.\n",
    "\n",
    "To directly replace the values in that column and also in the `width` and `height` columns:"
   ]
  },
  {
   "cell_type": "code",
   "execution_count": 53,
   "metadata": {
    "colab": {},
    "colab_type": "code",
    "id": "aHk5Hd5l-KdT"
   },
   "outputs": [],
   "source": [
    "# make a deep copy - separate copy from the original cars2 = cars would not work, it's a shallow copy\n",
    "cars2 = cars.copy()"
   ]
  },
  {
   "cell_type": "code",
   "execution_count": 54,
   "metadata": {
    "colab": {},
    "colab_type": "code",
    "id": "SvHpdOWA-KdX"
   },
   "outputs": [],
   "source": [
    "cars2['length'] = cars['length']/cars['length'].max()\n",
    "cars2['width'] = cars['width']/cars['width'].max()\n",
    "cars2['height'] = cars['height']/cars['height'].max()"
   ]
  },
  {
   "cell_type": "code",
   "execution_count": 55,
   "metadata": {
    "colab": {},
    "colab_type": "code",
    "id": "UeJShJWK-Kdb"
   },
   "outputs": [
    {
     "data": {
      "text/html": [
       "<div>\n",
       "<style scoped>\n",
       "    .dataframe tbody tr th:only-of-type {\n",
       "        vertical-align: middle;\n",
       "    }\n",
       "\n",
       "    .dataframe tbody tr th {\n",
       "        vertical-align: top;\n",
       "    }\n",
       "\n",
       "    .dataframe thead th {\n",
       "        text-align: right;\n",
       "    }\n",
       "</style>\n",
       "<table border=\"1\" class=\"dataframe\">\n",
       "  <thead>\n",
       "    <tr style=\"text-align: right;\">\n",
       "      <th></th>\n",
       "      <th>length</th>\n",
       "      <th>width</th>\n",
       "      <th>height</th>\n",
       "    </tr>\n",
       "  </thead>\n",
       "  <tbody>\n",
       "    <tr>\n",
       "      <th>0</th>\n",
       "      <td>0.811148</td>\n",
       "      <td>0.890278</td>\n",
       "      <td>0.816054</td>\n",
       "    </tr>\n",
       "    <tr>\n",
       "      <th>1</th>\n",
       "      <td>0.811148</td>\n",
       "      <td>0.890278</td>\n",
       "      <td>0.816054</td>\n",
       "    </tr>\n",
       "    <tr>\n",
       "      <th>2</th>\n",
       "      <td>0.822681</td>\n",
       "      <td>0.909722</td>\n",
       "      <td>0.876254</td>\n",
       "    </tr>\n",
       "    <tr>\n",
       "      <th>3</th>\n",
       "      <td>0.848630</td>\n",
       "      <td>0.919444</td>\n",
       "      <td>0.908027</td>\n",
       "    </tr>\n",
       "    <tr>\n",
       "      <th>4</th>\n",
       "      <td>0.848630</td>\n",
       "      <td>0.922222</td>\n",
       "      <td>0.908027</td>\n",
       "    </tr>\n",
       "    <tr>\n",
       "      <th>...</th>\n",
       "      <td>...</td>\n",
       "      <td>...</td>\n",
       "      <td>...</td>\n",
       "    </tr>\n",
       "    <tr>\n",
       "      <th>200</th>\n",
       "      <td>0.907256</td>\n",
       "      <td>0.956944</td>\n",
       "      <td>0.928094</td>\n",
       "    </tr>\n",
       "    <tr>\n",
       "      <th>201</th>\n",
       "      <td>0.907256</td>\n",
       "      <td>0.955556</td>\n",
       "      <td>0.928094</td>\n",
       "    </tr>\n",
       "    <tr>\n",
       "      <th>202</th>\n",
       "      <td>0.907256</td>\n",
       "      <td>0.956944</td>\n",
       "      <td>0.928094</td>\n",
       "    </tr>\n",
       "    <tr>\n",
       "      <th>203</th>\n",
       "      <td>0.907256</td>\n",
       "      <td>0.956944</td>\n",
       "      <td>0.928094</td>\n",
       "    </tr>\n",
       "    <tr>\n",
       "      <th>204</th>\n",
       "      <td>0.907256</td>\n",
       "      <td>0.956944</td>\n",
       "      <td>0.928094</td>\n",
       "    </tr>\n",
       "  </tbody>\n",
       "</table>\n",
       "<p>201 rows × 3 columns</p>\n",
       "</div>"
      ],
      "text/plain": [
       "       length     width    height\n",
       "0    0.811148  0.890278  0.816054\n",
       "1    0.811148  0.890278  0.816054\n",
       "2    0.822681  0.909722  0.876254\n",
       "3    0.848630  0.919444  0.908027\n",
       "4    0.848630  0.922222  0.908027\n",
       "..        ...       ...       ...\n",
       "200  0.907256  0.956944  0.928094\n",
       "201  0.907256  0.955556  0.928094\n",
       "202  0.907256  0.956944  0.928094\n",
       "203  0.907256  0.956944  0.928094\n",
       "204  0.907256  0.956944  0.928094\n",
       "\n",
       "[201 rows x 3 columns]"
      ]
     },
     "execution_count": 55,
     "metadata": {},
     "output_type": "execute_result"
    }
   ],
   "source": [
    "# check\n",
    "cars2[[\"length\", \"width\", \"height\"]] "
   ]
  },
  {
   "cell_type": "markdown",
   "metadata": {
    "colab_type": "text",
    "id": "pJI1HGFDKtvQ"
   },
   "source": [
    "A more common way of normalizing is to use both the minimum and maximum to adjust the values. This is called a min-max normalization.\n",
    "\n",
    "$$\\hat{x} = \\frac{x-x_{min}}{x_{max}-x_{min}}$$ "
   ]
  },
  {
   "cell_type": "markdown",
   "metadata": {
    "colab_type": "text",
    "id": "0YCLt2mR-Kdh"
   },
   "source": [
    "**Q3**: Compute the z-normalized value for `engine-size` and replace its values in `cars2` dataframe.\n",
    "\n",
    "$$\\hat{x} = \\frac{x-\\mu}{\\sigma}$$ "
   ]
  },
  {
   "cell_type": "code",
   "execution_count": 59,
   "metadata": {
    "colab": {},
    "colab_type": "code",
    "id": "gquYXFps-Kdi"
   },
   "outputs": [
    {
     "name": "stdout",
     "output_type": "stream",
     "text": [
      "     symboling  normalized-losses  wheel-base    length     width    height  \\\n",
      "0     1.720753           0.000000   -1.680910 -0.438315 -0.851335 -2.029015   \n",
      "1     1.720753           0.000000   -1.680910 -0.438315 -0.851335 -2.029015   \n",
      "2     0.126876           0.000000   -0.708334 -0.243544 -0.185134 -0.558319   \n",
      "3     0.923814           1.312654    0.165335  0.194690  0.147966  0.217881   \n",
      "4     0.923814           1.312654    0.099398  0.194690  0.243137  0.217881   \n",
      "..         ...                ...         ...       ...       ...       ...   \n",
      "200  -1.467002          -0.843849    1.698379  1.184775  1.432780  0.708112   \n",
      "201  -1.467002          -0.843849    1.698379  1.184775  1.385194  0.708112   \n",
      "202  -1.467002          -0.843849    1.698379  1.184775  1.432780  0.708112   \n",
      "203  -1.467002          -0.843849    1.698379  1.184775  1.432780  0.708112   \n",
      "204  -1.467002          -0.843849    1.698379  1.184775  1.432780  0.708112   \n",
      "\n",
      "     curb-weight  engine-size      bore    stroke  compression-ratio  \\\n",
      "0      -0.014821     0.075201  0.519668 -1.825276          -0.290709   \n",
      "1      -0.014821     0.075201  0.519668 -1.825276          -0.290709   \n",
      "2       0.516789     0.604724 -2.427303  0.674347          -0.290709   \n",
      "3      -0.422710    -0.430252 -0.524828  0.452862          -0.041019   \n",
      "4       0.518722     0.219617 -0.524828  0.452862          -0.540399   \n",
      "..           ...          ...       ...       ...                ...   \n",
      "200     0.766162     0.339963  1.676075 -0.338158          -0.165864   \n",
      "201     0.953676     0.339963  1.676075 -0.338158          -0.365616   \n",
      "202     0.882150     1.110178  0.930006 -1.224101          -0.340647   \n",
      "203     1.278441     0.436240 -1.196290  0.452862           3.204952   \n",
      "204     0.978806     0.339963  1.676075 -0.338158          -0.165864   \n",
      "\n",
      "     horsepower  peak-rpm  city-mpg  highway-mpg     price  \n",
      "0      0.203315 -0.246103 -0.650624    -0.540937  0.036224  \n",
      "1      0.203315 -0.246103 -0.650624    -0.540937  0.414350  \n",
      "2      1.354105 -0.246103 -0.961995    -0.687669  0.414350  \n",
      "3     -0.037547  0.799673 -0.183569    -0.100741  0.093477  \n",
      "4      0.310366  0.799673 -1.117680    -1.274597  0.533891  \n",
      "..          ...       ...       ...          ...       ...  \n",
      "200    0.283603  0.590518 -0.339254    -0.394205  0.457763  \n",
      "201    1.514680  0.381362 -0.961995    -0.834401  0.734594  \n",
      "202    0.818854  0.799673 -1.117680    -1.127865  1.041626  \n",
      "203    0.069503 -0.664414  0.127801    -0.540937  1.165571  \n",
      "204    0.283603  0.590518 -0.961995    -0.834401  1.185075  \n",
      "\n",
      "[201 rows x 16 columns]\n",
      "     symboling  normalized-losses  wheel-base    length     width    height  \\\n",
      "0     1.725050           0.000000   -1.685107 -0.439409 -0.853460 -2.034081   \n",
      "1     1.725050           0.000000   -1.685107 -0.439409 -0.853460 -2.034081   \n",
      "2     0.127193           0.000000   -0.710103 -0.244152 -0.185597 -0.559713   \n",
      "3     0.926121           1.315931    0.165748  0.195176  0.148335  0.218425   \n",
      "4     0.926121           1.315931    0.099646  0.195176  0.243744  0.218425   \n",
      "..         ...                ...         ...       ...       ...       ...   \n",
      "200  -1.470664          -0.845956    1.702619  1.187733  1.436357  0.709881   \n",
      "201  -1.470664          -0.845956    1.702619  1.187733  1.388653  0.709881   \n",
      "202  -1.470664          -0.845956    1.702619  1.187733  1.436357  0.709881   \n",
      "203  -1.470664          -0.845956    1.702619  1.187733  1.436357  0.709881   \n",
      "204  -1.470664          -0.845956    1.702619  1.187733  1.436357  0.709881   \n",
      "\n",
      "     curb-weight  engine-size      bore    stroke  compression-ratio  \\\n",
      "0      -0.014858     0.075389  0.520966 -1.829833          -0.291435   \n",
      "1      -0.014858     0.075389  0.520966 -1.829833          -0.291435   \n",
      "2       0.518080     0.606234 -2.433363  0.676031          -0.291435   \n",
      "3      -0.423766    -0.431327 -0.526138  0.453993          -0.041121   \n",
      "4       0.520017     0.220165 -0.526138  0.453993          -0.541748   \n",
      "..           ...          ...       ...       ...                ...   \n",
      "200     0.768075     0.340812  1.680260 -0.339003          -0.166278   \n",
      "201     0.956057     0.340812  1.680260 -0.339003          -0.366529   \n",
      "202     0.884353     1.112950  0.932328 -1.227157          -0.341497   \n",
      "203     1.281633     0.437329 -1.199277  0.453993           3.212954   \n",
      "204     0.981250     0.340812  1.680260 -0.339003          -0.166278   \n",
      "\n",
      "     horsepower  peak-rpm  city-mpg  highway-mpg     price  \n",
      "0      0.203823 -0.246718 -0.652249    -0.542288  0.036314  \n",
      "1      0.203823 -0.246718 -0.652249    -0.542288  0.415385  \n",
      "2      1.357486 -0.246718 -0.964397    -0.689386  0.415385  \n",
      "3     -0.037641  0.801670 -0.184027    -0.100993  0.093711  \n",
      "4      0.311141  0.801670 -1.120471    -1.277779  0.535224  \n",
      "..          ...       ...       ...          ...       ...  \n",
      "200    0.284311  0.591992 -0.340101    -0.395189  0.458906  \n",
      "201    1.518462  0.382315 -0.964397    -0.836484  0.736429  \n",
      "202    0.820899  0.801670 -1.120471    -1.130681  1.044227  \n",
      "203    0.069676 -0.666073  0.128120    -0.542288  1.168481  \n",
      "204    0.284311  0.591992 -0.964397    -0.836484  1.188034  \n",
      "\n",
      "[201 rows x 16 columns]\n"
     ]
    }
   ],
   "source": [
    "# fill in here\n",
    "#print(cars2.mean())\n",
    "#print(cars2.std())\n",
    "numeric_cols = cars2.select_dtypes(include=[np.number]).columns\n",
    "cars3 = cars.copy()\n",
    "cars3[numeric_cols] = (cars3[numeric_cols] - cars[numeric_cols].mean())/cars[numeric_cols].std()\n",
    "print(cars3[numeric_cols])\n",
    "\n",
    "# there are 2 other ways to do this: using pandas apply() with lambda function, use scipy.stats zscore function\n",
    "from scipy.stats import zscore\n",
    "numeric_cols = cars2.select_dtypes(include=[np.number]).columns\n",
    "print(cars2[numeric_cols].apply(zscore))"
   ]
  },
  {
   "cell_type": "markdown",
   "metadata": {
    "colab_type": "text",
    "id": "JbJmjM2--Kdp"
   },
   "source": [
    "### Data Transformation\n",
    "\n",
    "One of the methods that we have learned is **binning**, a process of grouping or categorizing numeric data into discrete \"bins\" or distinct baskets, which is one of the ways of dealing with noisy data.\n",
    "\n",
    "In this data, `horsepower` is a real valued variable ranging from 48 to 288, it has 57 unique values in total. What if we only care about the price difference between cars with \"high\" horsepower, \"medium\" horsepower, and \"low\" horsepower (3 types)? Can we rearrange them into three ‘bins' to simplify analysis?"
   ]
  },
  {
   "cell_type": "code",
   "execution_count": 60,
   "metadata": {
    "colab": {},
    "colab_type": "code",
    "id": "tvhRiF5J-Kdq"
   },
   "outputs": [
    {
     "data": {
      "text/plain": [
       "dtype('int64')"
      ]
     },
     "execution_count": 60,
     "metadata": {},
     "output_type": "execute_result"
    }
   ],
   "source": [
    "cars2[\"horsepower\"].dtype"
   ]
  },
  {
   "cell_type": "markdown",
   "metadata": {
    "colab_type": "text",
    "id": "LrJGwibK-Kdy"
   },
   "source": [
    "To get an idea of how the values are distributed, use matplotlib library to plot its histogram:"
   ]
  },
  {
   "cell_type": "code",
   "execution_count": 61,
   "metadata": {
    "colab": {},
    "colab_type": "code",
    "id": "_kZeZj09-Kdz"
   },
   "outputs": [
    {
     "data": {
      "text/plain": [
       "Text(0.5, 1.0, 'horsepower bins')"
      ]
     },
     "execution_count": 61,
     "metadata": {},
     "output_type": "execute_result"
    },
    {
     "data": {
      "image/png": "[encoded data removed]",
      "text/plain": [
       "<Figure size 640x480 with 1 Axes>"
      ]
     },
     "metadata": {},
     "output_type": "display_data"
    }
   ],
   "source": [
    "%matplotlib inline\n",
    "import matplotlib.pyplot as plt\n",
    "\n",
    "plt.hist(cars2[\"horsepower\"])\n",
    "\n",
    "# set x/y labels and plot title\n",
    "plt.xlabel(\"horsepower\")\n",
    "plt.ylabel(\"count\")\n",
    "plt.title(\"horsepower bins\")"
   ]
  },
  {
   "cell_type": "markdown",
   "metadata": {
    "colab_type": "text",
    "id": "sPHvc46C-Kd4"
   },
   "source": [
    "We want 3 bins of equal size so we can use Numpy's `linspace(start_value, end_value, numbers_generated)` function. To build 3 bins, we need to define 4 dividers or boundaries:"
   ]
  },
  {
   "cell_type": "code",
   "execution_count": 68,
   "metadata": {
    "colab": {},
    "colab_type": "code",
    "id": "mYYIYxK7-Kd4"
   },
   "outputs": [
    {
     "data": {
      "text/plain": [
       "array([ 48.        , 119.33333333, 190.66666667, 262.        ])"
      ]
     },
     "execution_count": 68,
     "metadata": {},
     "output_type": "execute_result"
    }
   ],
   "source": [
    "bins = np.linspace(min(cars2[\"horsepower\"]), max(cars2[\"horsepower\"]), 4)\n",
    "bins"
   ]
  },
  {
   "cell_type": "markdown",
   "metadata": {
    "colab_type": "text",
    "id": "Bts-r0ph-Kd8"
   },
   "source": [
    "So these are the dividers of the 3 bins, if we were to give it the starting value, ending value, and the number of values to be generated at equal intervals.\n",
    "\n",
    "Let's create the bin group names."
   ]
  },
  {
   "cell_type": "code",
   "execution_count": 69,
   "metadata": {
    "colab": {},
    "colab_type": "code",
    "id": "owa8dSdM-Kd9"
   },
   "outputs": [],
   "source": [
    "group_names = ['Low', 'Medium', 'High']"
   ]
  },
  {
   "cell_type": "markdown",
   "metadata": {
    "colab_type": "text",
    "id": "jeoemvuO-KeB"
   },
   "source": [
    "We can now apply the pandas function `cut` to determine what each value of horsepower belongs to:"
   ]
  },
  {
   "cell_type": "code",
   "execution_count": 70,
   "metadata": {
    "colab": {},
    "colab_type": "code",
    "id": "3wbSLsxs-KeB"
   },
   "outputs": [],
   "source": [
    "cars2['horsepower-binned'] = pd.cut(cars2['horsepower'], bins, labels=group_names, include_lowest=True )"
   ]
  },
  {
   "cell_type": "code",
   "execution_count": 71,
   "metadata": {
    "colab": {},
    "colab_type": "code",
    "id": "RrCHz23z-KeE"
   },
   "outputs": [
    {
     "data": {
      "text/html": [
       "<div>\n",
       "<style scoped>\n",
       "    .dataframe tbody tr th:only-of-type {\n",
       "        vertical-align: middle;\n",
       "    }\n",
       "\n",
       "    .dataframe tbody tr th {\n",
       "        vertical-align: top;\n",
       "    }\n",
       "\n",
       "    .dataframe thead th {\n",
       "        text-align: right;\n",
       "    }\n",
       "</style>\n",
       "<table border=\"1\" class=\"dataframe\">\n",
       "  <thead>\n",
       "    <tr style=\"text-align: right;\">\n",
       "      <th></th>\n",
       "      <th>horsepower</th>\n",
       "      <th>horsepower-binned</th>\n",
       "    </tr>\n",
       "  </thead>\n",
       "  <tbody>\n",
       "    <tr>\n",
       "      <th>0</th>\n",
       "      <td>111</td>\n",
       "      <td>Low</td>\n",
       "    </tr>\n",
       "    <tr>\n",
       "      <th>1</th>\n",
       "      <td>111</td>\n",
       "      <td>Low</td>\n",
       "    </tr>\n",
       "    <tr>\n",
       "      <th>2</th>\n",
       "      <td>154</td>\n",
       "      <td>Medium</td>\n",
       "    </tr>\n",
       "    <tr>\n",
       "      <th>3</th>\n",
       "      <td>102</td>\n",
       "      <td>Low</td>\n",
       "    </tr>\n",
       "    <tr>\n",
       "      <th>4</th>\n",
       "      <td>115</td>\n",
       "      <td>Low</td>\n",
       "    </tr>\n",
       "    <tr>\n",
       "      <th>5</th>\n",
       "      <td>110</td>\n",
       "      <td>Low</td>\n",
       "    </tr>\n",
       "    <tr>\n",
       "      <th>6</th>\n",
       "      <td>110</td>\n",
       "      <td>Low</td>\n",
       "    </tr>\n",
       "    <tr>\n",
       "      <th>7</th>\n",
       "      <td>110</td>\n",
       "      <td>Low</td>\n",
       "    </tr>\n",
       "    <tr>\n",
       "      <th>8</th>\n",
       "      <td>140</td>\n",
       "      <td>Medium</td>\n",
       "    </tr>\n",
       "    <tr>\n",
       "      <th>10</th>\n",
       "      <td>101</td>\n",
       "      <td>Low</td>\n",
       "    </tr>\n",
       "    <tr>\n",
       "      <th>11</th>\n",
       "      <td>101</td>\n",
       "      <td>Low</td>\n",
       "    </tr>\n",
       "    <tr>\n",
       "      <th>12</th>\n",
       "      <td>121</td>\n",
       "      <td>Medium</td>\n",
       "    </tr>\n",
       "    <tr>\n",
       "      <th>13</th>\n",
       "      <td>121</td>\n",
       "      <td>Medium</td>\n",
       "    </tr>\n",
       "    <tr>\n",
       "      <th>14</th>\n",
       "      <td>121</td>\n",
       "      <td>Medium</td>\n",
       "    </tr>\n",
       "    <tr>\n",
       "      <th>15</th>\n",
       "      <td>182</td>\n",
       "      <td>Medium</td>\n",
       "    </tr>\n",
       "  </tbody>\n",
       "</table>\n",
       "</div>"
      ],
      "text/plain": [
       "    horsepower horsepower-binned\n",
       "0          111               Low\n",
       "1          111               Low\n",
       "2          154            Medium\n",
       "3          102               Low\n",
       "4          115               Low\n",
       "5          110               Low\n",
       "6          110               Low\n",
       "7          110               Low\n",
       "8          140            Medium\n",
       "10         101               Low\n",
       "11         101               Low\n",
       "12         121            Medium\n",
       "13         121            Medium\n",
       "14         121            Medium\n",
       "15         182            Medium"
      ]
     },
     "execution_count": 71,
     "metadata": {},
     "output_type": "execute_result"
    }
   ],
   "source": [
    "cars2[['horsepower','horsepower-binned']].head(15)"
   ]
  },
  {
   "cell_type": "code",
   "execution_count": 72,
   "metadata": {
    "colab": {},
    "colab_type": "code",
    "id": "cRwKSc5w-KeH"
   },
   "outputs": [
    {
     "data": {
      "text/plain": [
       "Low       153\n",
       "Medium     43\n",
       "High        5\n",
       "Name: horsepower-binned, dtype: int64"
      ]
     },
     "execution_count": 72,
     "metadata": {},
     "output_type": "execute_result"
    }
   ],
   "source": [
    "cars2[\"horsepower-binned\"].value_counts()"
   ]
  },
  {
   "cell_type": "markdown",
   "metadata": {
    "colab_type": "text",
    "id": "8Hx2oBX--KeN"
   },
   "source": [
    "Let's plot the distribution of the bins."
   ]
  },
  {
   "cell_type": "code",
   "execution_count": 73,
   "metadata": {
    "colab": {},
    "colab_type": "code",
    "id": "GKYLwG7--KeN"
   },
   "outputs": [
    {
     "data": {
      "text/plain": [
       "Text(0.5, 1.0, 'Horsepower Bins')"
      ]
     },
     "execution_count": 73,
     "metadata": {},
     "output_type": "execute_result"
    },
    {
     "data": {
      "image/png": "[encoded data removed]",
      "text/plain": [
       "<Figure size 640x480 with 1 Axes>"
      ]
     },
     "metadata": {},
     "output_type": "display_data"
    }
   ],
   "source": [
    "plt.bar(group_names, cars2[\"horsepower-binned\"].value_counts())\n",
    "\n",
    "# set x/y labels and plot title \n",
    "plt.xlabel('Horsepower')\n",
    "plt.ylabel(\"Count\")\n",
    "plt.title(\"Horsepower Bins\")"
   ]
  },
  {
   "cell_type": "code",
   "execution_count": 74,
   "metadata": {
    "colab": {},
    "colab_type": "code",
    "id": "qK1yOovA-KeQ"
   },
   "outputs": [
    {
     "data": {
      "text/html": [
       "<div>\n",
       "<style scoped>\n",
       "    .dataframe tbody tr th:only-of-type {\n",
       "        vertical-align: middle;\n",
       "    }\n",
       "\n",
       "    .dataframe tbody tr th {\n",
       "        vertical-align: top;\n",
       "    }\n",
       "\n",
       "    .dataframe thead th {\n",
       "        text-align: right;\n",
       "    }\n",
       "</style>\n",
       "<table border=\"1\" class=\"dataframe\">\n",
       "  <thead>\n",
       "    <tr style=\"text-align: right;\">\n",
       "      <th></th>\n",
       "      <th>symboling</th>\n",
       "      <th>normalized-losses</th>\n",
       "      <th>make</th>\n",
       "      <th>fuel-type</th>\n",
       "      <th>aspiration</th>\n",
       "      <th>num-of-doors</th>\n",
       "      <th>body-style</th>\n",
       "      <th>drive-wheels</th>\n",
       "      <th>engine-location</th>\n",
       "      <th>wheel-base</th>\n",
       "      <th>...</th>\n",
       "      <th>fuel-system</th>\n",
       "      <th>bore</th>\n",
       "      <th>stroke</th>\n",
       "      <th>compression-ratio</th>\n",
       "      <th>horsepower</th>\n",
       "      <th>peak-rpm</th>\n",
       "      <th>city-mpg</th>\n",
       "      <th>highway-mpg</th>\n",
       "      <th>price</th>\n",
       "      <th>horsepower-binned</th>\n",
       "    </tr>\n",
       "  </thead>\n",
       "  <tbody>\n",
       "    <tr>\n",
       "      <th>0</th>\n",
       "      <td>3</td>\n",
       "      <td>122</td>\n",
       "      <td>alfa-romero</td>\n",
       "      <td>gas</td>\n",
       "      <td>std</td>\n",
       "      <td>two</td>\n",
       "      <td>convertible</td>\n",
       "      <td>rwd</td>\n",
       "      <td>front</td>\n",
       "      <td>88.6</td>\n",
       "      <td>...</td>\n",
       "      <td>mpfi</td>\n",
       "      <td>3.47</td>\n",
       "      <td>2.68</td>\n",
       "      <td>9.0</td>\n",
       "      <td>111</td>\n",
       "      <td>5000.0</td>\n",
       "      <td>21</td>\n",
       "      <td>27</td>\n",
       "      <td>13495.0</td>\n",
       "      <td>Low</td>\n",
       "    </tr>\n",
       "    <tr>\n",
       "      <th>1</th>\n",
       "      <td>3</td>\n",
       "      <td>122</td>\n",
       "      <td>alfa-romero</td>\n",
       "      <td>gas</td>\n",
       "      <td>std</td>\n",
       "      <td>two</td>\n",
       "      <td>convertible</td>\n",
       "      <td>rwd</td>\n",
       "      <td>front</td>\n",
       "      <td>88.6</td>\n",
       "      <td>...</td>\n",
       "      <td>mpfi</td>\n",
       "      <td>3.47</td>\n",
       "      <td>2.68</td>\n",
       "      <td>9.0</td>\n",
       "      <td>111</td>\n",
       "      <td>5000.0</td>\n",
       "      <td>21</td>\n",
       "      <td>27</td>\n",
       "      <td>16500.0</td>\n",
       "      <td>Low</td>\n",
       "    </tr>\n",
       "    <tr>\n",
       "      <th>2</th>\n",
       "      <td>1</td>\n",
       "      <td>122</td>\n",
       "      <td>alfa-romero</td>\n",
       "      <td>gas</td>\n",
       "      <td>std</td>\n",
       "      <td>two</td>\n",
       "      <td>hatchback</td>\n",
       "      <td>rwd</td>\n",
       "      <td>front</td>\n",
       "      <td>94.5</td>\n",
       "      <td>...</td>\n",
       "      <td>mpfi</td>\n",
       "      <td>2.68</td>\n",
       "      <td>3.47</td>\n",
       "      <td>9.0</td>\n",
       "      <td>154</td>\n",
       "      <td>5000.0</td>\n",
       "      <td>19</td>\n",
       "      <td>26</td>\n",
       "      <td>16500.0</td>\n",
       "      <td>Medium</td>\n",
       "    </tr>\n",
       "    <tr>\n",
       "      <th>3</th>\n",
       "      <td>2</td>\n",
       "      <td>164</td>\n",
       "      <td>audi</td>\n",
       "      <td>gas</td>\n",
       "      <td>std</td>\n",
       "      <td>four</td>\n",
       "      <td>sedan</td>\n",
       "      <td>fwd</td>\n",
       "      <td>front</td>\n",
       "      <td>99.8</td>\n",
       "      <td>...</td>\n",
       "      <td>mpfi</td>\n",
       "      <td>3.19</td>\n",
       "      <td>3.40</td>\n",
       "      <td>10.0</td>\n",
       "      <td>102</td>\n",
       "      <td>5500.0</td>\n",
       "      <td>24</td>\n",
       "      <td>30</td>\n",
       "      <td>13950.0</td>\n",
       "      <td>Low</td>\n",
       "    </tr>\n",
       "    <tr>\n",
       "      <th>4</th>\n",
       "      <td>2</td>\n",
       "      <td>164</td>\n",
       "      <td>audi</td>\n",
       "      <td>gas</td>\n",
       "      <td>std</td>\n",
       "      <td>four</td>\n",
       "      <td>sedan</td>\n",
       "      <td>4wd</td>\n",
       "      <td>front</td>\n",
       "      <td>99.4</td>\n",
       "      <td>...</td>\n",
       "      <td>mpfi</td>\n",
       "      <td>3.19</td>\n",
       "      <td>3.40</td>\n",
       "      <td>8.0</td>\n",
       "      <td>115</td>\n",
       "      <td>5500.0</td>\n",
       "      <td>18</td>\n",
       "      <td>22</td>\n",
       "      <td>17450.0</td>\n",
       "      <td>Low</td>\n",
       "    </tr>\n",
       "  </tbody>\n",
       "</table>\n",
       "<p>5 rows × 27 columns</p>\n",
       "</div>"
      ],
      "text/plain": [
       "   symboling  normalized-losses         make fuel-type aspiration  \\\n",
       "0          3                122  alfa-romero       gas        std   \n",
       "1          3                122  alfa-romero       gas        std   \n",
       "2          1                122  alfa-romero       gas        std   \n",
       "3          2                164         audi       gas        std   \n",
       "4          2                164         audi       gas        std   \n",
       "\n",
       "  num-of-doors   body-style drive-wheels engine-location  wheel-base  ...  \\\n",
       "0          two  convertible          rwd           front        88.6  ...   \n",
       "1          two  convertible          rwd           front        88.6  ...   \n",
       "2          two    hatchback          rwd           front        94.5  ...   \n",
       "3         four        sedan          fwd           front        99.8  ...   \n",
       "4         four        sedan          4wd           front        99.4  ...   \n",
       "\n",
       "   fuel-system  bore  stroke  compression-ratio horsepower peak-rpm  city-mpg  \\\n",
       "0         mpfi  3.47    2.68                9.0        111   5000.0        21   \n",
       "1         mpfi  3.47    2.68                9.0        111   5000.0        21   \n",
       "2         mpfi  2.68    3.47                9.0        154   5000.0        19   \n",
       "3         mpfi  3.19    3.40               10.0        102   5500.0        24   \n",
       "4         mpfi  3.19    3.40                8.0        115   5500.0        18   \n",
       "\n",
       "  highway-mpg    price  horsepower-binned  \n",
       "0          27  13495.0                Low  \n",
       "1          27  16500.0                Low  \n",
       "2          26  16500.0             Medium  \n",
       "3          30  13950.0                Low  \n",
       "4          22  17450.0                Low  \n",
       "\n",
       "[5 rows x 27 columns]"
      ]
     },
     "execution_count": 74,
     "metadata": {},
     "output_type": "execute_result"
    }
   ],
   "source": [
    "# check the dataframe again, you should see the new horsepower-binned column right at the end\n",
    "cars2.head()"
   ]
  },
  {
   "cell_type": "markdown",
   "metadata": {
    "colab_type": "text",
    "id": "Qz0KAnpn-KeR"
   },
   "source": [
    "If you are satisfied with the data you have cleaned so far, you can save it into a CSV file and store it away for later use."
   ]
  },
  {
   "cell_type": "code",
   "execution_count": 75,
   "metadata": {
    "colab": {},
    "colab_type": "code",
    "id": "KCNu5oS5-KeT"
   },
   "outputs": [],
   "source": [
    "# Convert to CSV file\n",
    "cars2.to_csv('car_data_CLEANED.csv')"
   ]
  },
  {
   "cell_type": "markdown",
   "metadata": {
    "colab_type": "text",
    "id": "Eophr3Qu-Kev"
   },
   "source": [
    "## Use Case: OECD Minimum Wage Data"
   ]
  },
  {
   "cell_type": "markdown",
   "metadata": {
    "colab_type": "text",
    "id": "z4GXpIkL-Kev"
   },
   "source": [
    "Let's try our hand at another dataset containing the minimum wages collected from the [OECD](https://en.wikipedia.org/wiki/OECD) group of 32 countries.  \n",
    "\n",
    "The dataset in CSV has been provided: `oecd_minwage.csv`."
   ]
  },
  {
   "cell_type": "code",
   "execution_count": 76,
   "metadata": {
    "colab": {},
    "colab_type": "code",
    "id": "X25DEjPU-Kew"
   },
   "outputs": [],
   "source": [
    "wage = pd.read_csv('oecd_minwage.csv')"
   ]
  },
  {
   "cell_type": "markdown",
   "metadata": {
    "colab_type": "text",
    "id": "fkjOf0tZ-Key"
   },
   "source": [
    "Let's have a look at the dataframe (show first 5 frames):"
   ]
  },
  {
   "cell_type": "code",
   "execution_count": 77,
   "metadata": {
    "colab": {},
    "colab_type": "code",
    "id": "-agdURui-Kez"
   },
   "outputs": [
    {
     "data": {
      "text/html": [
       "<div>\n",
       "<style scoped>\n",
       "    .dataframe tbody tr th:only-of-type {\n",
       "        vertical-align: middle;\n",
       "    }\n",
       "\n",
       "    .dataframe tbody tr th {\n",
       "        vertical-align: top;\n",
       "    }\n",
       "\n",
       "    .dataframe thead th {\n",
       "        text-align: right;\n",
       "    }\n",
       "</style>\n",
       "<table border=\"1\" class=\"dataframe\">\n",
       "  <thead>\n",
       "    <tr style=\"text-align: right;\">\n",
       "      <th></th>\n",
       "      <th>Unnamed: 0</th>\n",
       "      <th>Time</th>\n",
       "      <th>Country</th>\n",
       "      <th>Series</th>\n",
       "      <th>Pay period</th>\n",
       "      <th>value</th>\n",
       "    </tr>\n",
       "  </thead>\n",
       "  <tbody>\n",
       "    <tr>\n",
       "      <th>0</th>\n",
       "      <td>0</td>\n",
       "      <td>2006-01-01</td>\n",
       "      <td>Ireland</td>\n",
       "      <td>In 2015 constant prices at 2015 USD PPPs</td>\n",
       "      <td>Annual</td>\n",
       "      <td>17132.44300</td>\n",
       "    </tr>\n",
       "    <tr>\n",
       "      <th>1</th>\n",
       "      <td>1</td>\n",
       "      <td>2007-01-01</td>\n",
       "      <td>Ireland</td>\n",
       "      <td>In 2015 constant prices at 2015 USD PPPs</td>\n",
       "      <td>Annual</td>\n",
       "      <td>18100.91800</td>\n",
       "    </tr>\n",
       "    <tr>\n",
       "      <th>2</th>\n",
       "      <td>2</td>\n",
       "      <td>2008-01-01</td>\n",
       "      <td>Ireland</td>\n",
       "      <td>In 2015 constant prices at 2015 USD PPPs</td>\n",
       "      <td>Annual</td>\n",
       "      <td>17747.40600</td>\n",
       "    </tr>\n",
       "    <tr>\n",
       "      <th>3</th>\n",
       "      <td>3</td>\n",
       "      <td>2009-01-01</td>\n",
       "      <td>Ireland</td>\n",
       "      <td>In 2015 constant prices at 2015 USD PPPs</td>\n",
       "      <td>Annual</td>\n",
       "      <td>18580.13900</td>\n",
       "    </tr>\n",
       "    <tr>\n",
       "      <th>4</th>\n",
       "      <td>4</td>\n",
       "      <td>2010-01-01</td>\n",
       "      <td>Ireland</td>\n",
       "      <td>In 2015 constant prices at 2015 USD PPPs</td>\n",
       "      <td>Annual</td>\n",
       "      <td>18755.83200</td>\n",
       "    </tr>\n",
       "    <tr>\n",
       "      <th>5</th>\n",
       "      <td>5</td>\n",
       "      <td>2011-01-01</td>\n",
       "      <td>Ireland</td>\n",
       "      <td>In 2015 constant prices at 2015 USD PPPs</td>\n",
       "      <td>Annual</td>\n",
       "      <td>18284.29900</td>\n",
       "    </tr>\n",
       "    <tr>\n",
       "      <th>6</th>\n",
       "      <td>6</td>\n",
       "      <td>2012-01-01</td>\n",
       "      <td>Ireland</td>\n",
       "      <td>In 2015 constant prices at 2015 USD PPPs</td>\n",
       "      <td>Annual</td>\n",
       "      <td>17979.94300</td>\n",
       "    </tr>\n",
       "    <tr>\n",
       "      <th>7</th>\n",
       "      <td>7</td>\n",
       "      <td>2013-01-01</td>\n",
       "      <td>Ireland</td>\n",
       "      <td>In 2015 constant prices at 2015 USD PPPs</td>\n",
       "      <td>Annual</td>\n",
       "      <td>17890.01000</td>\n",
       "    </tr>\n",
       "    <tr>\n",
       "      <th>8</th>\n",
       "      <td>8</td>\n",
       "      <td>2014-01-01</td>\n",
       "      <td>Ireland</td>\n",
       "      <td>In 2015 constant prices at 2015 USD PPPs</td>\n",
       "      <td>Annual</td>\n",
       "      <td>17854.87500</td>\n",
       "    </tr>\n",
       "    <tr>\n",
       "      <th>9</th>\n",
       "      <td>9</td>\n",
       "      <td>2015-01-01</td>\n",
       "      <td>Ireland</td>\n",
       "      <td>In 2015 constant prices at 2015 USD PPPs</td>\n",
       "      <td>Annual</td>\n",
       "      <td>17907.63700</td>\n",
       "    </tr>\n",
       "    <tr>\n",
       "      <th>10</th>\n",
       "      <td>10</td>\n",
       "      <td>2016-01-01</td>\n",
       "      <td>Ireland</td>\n",
       "      <td>In 2015 constant prices at 2015 USD PPPs</td>\n",
       "      <td>Annual</td>\n",
       "      <td>18942.76200</td>\n",
       "    </tr>\n",
       "    <tr>\n",
       "      <th>11</th>\n",
       "      <td>11</td>\n",
       "      <td>2006-01-01</td>\n",
       "      <td>Ireland</td>\n",
       "      <td>In 2015 constant prices at 2015 USD PPPs</td>\n",
       "      <td>Hourly</td>\n",
       "      <td>8.23675</td>\n",
       "    </tr>\n",
       "    <tr>\n",
       "      <th>12</th>\n",
       "      <td>12</td>\n",
       "      <td>2007-01-01</td>\n",
       "      <td>Ireland</td>\n",
       "      <td>In 2015 constant prices at 2015 USD PPPs</td>\n",
       "      <td>Hourly</td>\n",
       "      <td>8.70236</td>\n",
       "    </tr>\n",
       "    <tr>\n",
       "      <th>13</th>\n",
       "      <td>13</td>\n",
       "      <td>2008-01-01</td>\n",
       "      <td>Ireland</td>\n",
       "      <td>In 2015 constant prices at 2015 USD PPPs</td>\n",
       "      <td>Hourly</td>\n",
       "      <td>8.53241</td>\n",
       "    </tr>\n",
       "    <tr>\n",
       "      <th>14</th>\n",
       "      <td>14</td>\n",
       "      <td>2009-01-01</td>\n",
       "      <td>Ireland</td>\n",
       "      <td>In 2015 constant prices at 2015 USD PPPs</td>\n",
       "      <td>Hourly</td>\n",
       "      <td>8.93276</td>\n",
       "    </tr>\n",
       "    <tr>\n",
       "      <th>15</th>\n",
       "      <td>15</td>\n",
       "      <td>2010-01-01</td>\n",
       "      <td>Ireland</td>\n",
       "      <td>In 2015 constant prices at 2015 USD PPPs</td>\n",
       "      <td>Hourly</td>\n",
       "      <td>9.01723</td>\n",
       "    </tr>\n",
       "    <tr>\n",
       "      <th>16</th>\n",
       "      <td>16</td>\n",
       "      <td>2011-01-01</td>\n",
       "      <td>Ireland</td>\n",
       "      <td>In 2015 constant prices at 2015 USD PPPs</td>\n",
       "      <td>Hourly</td>\n",
       "      <td>8.79053</td>\n",
       "    </tr>\n",
       "    <tr>\n",
       "      <th>17</th>\n",
       "      <td>17</td>\n",
       "      <td>2012-01-01</td>\n",
       "      <td>Ireland</td>\n",
       "      <td>In 2015 constant prices at 2015 USD PPPs</td>\n",
       "      <td>Hourly</td>\n",
       "      <td>8.64420</td>\n",
       "    </tr>\n",
       "    <tr>\n",
       "      <th>18</th>\n",
       "      <td>18</td>\n",
       "      <td>2013-01-01</td>\n",
       "      <td>Ireland</td>\n",
       "      <td>In 2015 constant prices at 2015 USD PPPs</td>\n",
       "      <td>Hourly</td>\n",
       "      <td>8.60097</td>\n",
       "    </tr>\n",
       "    <tr>\n",
       "      <th>19</th>\n",
       "      <td>19</td>\n",
       "      <td>2014-01-01</td>\n",
       "      <td>Ireland</td>\n",
       "      <td>In 2015 constant prices at 2015 USD PPPs</td>\n",
       "      <td>Hourly</td>\n",
       "      <td>8.58407</td>\n",
       "    </tr>\n",
       "    <tr>\n",
       "      <th>20</th>\n",
       "      <td>20</td>\n",
       "      <td>2015-01-01</td>\n",
       "      <td>Ireland</td>\n",
       "      <td>In 2015 constant prices at 2015 USD PPPs</td>\n",
       "      <td>Hourly</td>\n",
       "      <td>8.60944</td>\n",
       "    </tr>\n",
       "    <tr>\n",
       "      <th>21</th>\n",
       "      <td>21</td>\n",
       "      <td>2016-01-01</td>\n",
       "      <td>Ireland</td>\n",
       "      <td>In 2015 constant prices at 2015 USD PPPs</td>\n",
       "      <td>Hourly</td>\n",
       "      <td>9.10710</td>\n",
       "    </tr>\n",
       "    <tr>\n",
       "      <th>22</th>\n",
       "      <td>22</td>\n",
       "      <td>2006-01-01</td>\n",
       "      <td>Ireland</td>\n",
       "      <td>In 2015 constant prices at 2015 USD exchange r...</td>\n",
       "      <td>Annual</td>\n",
       "      <td>19090.53700</td>\n",
       "    </tr>\n",
       "    <tr>\n",
       "      <th>23</th>\n",
       "      <td>23</td>\n",
       "      <td>2007-01-01</td>\n",
       "      <td>Ireland</td>\n",
       "      <td>In 2015 constant prices at 2015 USD exchange r...</td>\n",
       "      <td>Annual</td>\n",
       "      <td>20169.69900</td>\n",
       "    </tr>\n",
       "    <tr>\n",
       "      <th>24</th>\n",
       "      <td>24</td>\n",
       "      <td>2008-01-01</td>\n",
       "      <td>Ireland</td>\n",
       "      <td>In 2015 constant prices at 2015 USD exchange r...</td>\n",
       "      <td>Annual</td>\n",
       "      <td>19775.78500</td>\n",
       "    </tr>\n",
       "    <tr>\n",
       "      <th>25</th>\n",
       "      <td>25</td>\n",
       "      <td>2009-01-01</td>\n",
       "      <td>Ireland</td>\n",
       "      <td>In 2015 constant prices at 2015 USD exchange r...</td>\n",
       "      <td>Annual</td>\n",
       "      <td>20703.69100</td>\n",
       "    </tr>\n",
       "    <tr>\n",
       "      <th>26</th>\n",
       "      <td>26</td>\n",
       "      <td>2010-01-01</td>\n",
       "      <td>Ireland</td>\n",
       "      <td>In 2015 constant prices at 2015 USD exchange r...</td>\n",
       "      <td>Annual</td>\n",
       "      <td>20899.46500</td>\n",
       "    </tr>\n",
       "    <tr>\n",
       "      <th>27</th>\n",
       "      <td>27</td>\n",
       "      <td>2011-01-01</td>\n",
       "      <td>Ireland</td>\n",
       "      <td>In 2015 constant prices at 2015 USD exchange r...</td>\n",
       "      <td>Annual</td>\n",
       "      <td>20374.03900</td>\n",
       "    </tr>\n",
       "    <tr>\n",
       "      <th>28</th>\n",
       "      <td>28</td>\n",
       "      <td>2012-01-01</td>\n",
       "      <td>Ireland</td>\n",
       "      <td>In 2015 constant prices at 2015 USD exchange r...</td>\n",
       "      <td>Annual</td>\n",
       "      <td>20034.89800</td>\n",
       "    </tr>\n",
       "    <tr>\n",
       "      <th>29</th>\n",
       "      <td>29</td>\n",
       "      <td>2013-01-01</td>\n",
       "      <td>Ireland</td>\n",
       "      <td>In 2015 constant prices at 2015 USD exchange r...</td>\n",
       "      <td>Annual</td>\n",
       "      <td>19934.68600</td>\n",
       "    </tr>\n",
       "  </tbody>\n",
       "</table>\n",
       "</div>"
      ],
      "text/plain": [
       "    Unnamed: 0        Time  Country  \\\n",
       "0            0  2006-01-01  Ireland   \n",
       "1            1  2007-01-01  Ireland   \n",
       "2            2  2008-01-01  Ireland   \n",
       "3            3  2009-01-01  Ireland   \n",
       "4            4  2010-01-01  Ireland   \n",
       "5            5  2011-01-01  Ireland   \n",
       "6            6  2012-01-01  Ireland   \n",
       "7            7  2013-01-01  Ireland   \n",
       "8            8  2014-01-01  Ireland   \n",
       "9            9  2015-01-01  Ireland   \n",
       "10          10  2016-01-01  Ireland   \n",
       "11          11  2006-01-01  Ireland   \n",
       "12          12  2007-01-01  Ireland   \n",
       "13          13  2008-01-01  Ireland   \n",
       "14          14  2009-01-01  Ireland   \n",
       "15          15  2010-01-01  Ireland   \n",
       "16          16  2011-01-01  Ireland   \n",
       "17          17  2012-01-01  Ireland   \n",
       "18          18  2013-01-01  Ireland   \n",
       "19          19  2014-01-01  Ireland   \n",
       "20          20  2015-01-01  Ireland   \n",
       "21          21  2016-01-01  Ireland   \n",
       "22          22  2006-01-01  Ireland   \n",
       "23          23  2007-01-01  Ireland   \n",
       "24          24  2008-01-01  Ireland   \n",
       "25          25  2009-01-01  Ireland   \n",
       "26          26  2010-01-01  Ireland   \n",
       "27          27  2011-01-01  Ireland   \n",
       "28          28  2012-01-01  Ireland   \n",
       "29          29  2013-01-01  Ireland   \n",
       "\n",
       "                                               Series Pay period        value  \n",
       "0            In 2015 constant prices at 2015 USD PPPs     Annual  17132.44300  \n",
       "1            In 2015 constant prices at 2015 USD PPPs     Annual  18100.91800  \n",
       "2            In 2015 constant prices at 2015 USD PPPs     Annual  17747.40600  \n",
       "3            In 2015 constant prices at 2015 USD PPPs     Annual  18580.13900  \n",
       "4            In 2015 constant prices at 2015 USD PPPs     Annual  18755.83200  \n",
       "5            In 2015 constant prices at 2015 USD PPPs     Annual  18284.29900  \n",
       "6            In 2015 constant prices at 2015 USD PPPs     Annual  17979.94300  \n",
       "7            In 2015 constant prices at 2015 USD PPPs     Annual  17890.01000  \n",
       "8            In 2015 constant prices at 2015 USD PPPs     Annual  17854.87500  \n",
       "9            In 2015 constant prices at 2015 USD PPPs     Annual  17907.63700  \n",
       "10           In 2015 constant prices at 2015 USD PPPs     Annual  18942.76200  \n",
       "11           In 2015 constant prices at 2015 USD PPPs     Hourly      8.23675  \n",
       "12           In 2015 constant prices at 2015 USD PPPs     Hourly      8.70236  \n",
       "13           In 2015 constant prices at 2015 USD PPPs     Hourly      8.53241  \n",
       "14           In 2015 constant prices at 2015 USD PPPs     Hourly      8.93276  \n",
       "15           In 2015 constant prices at 2015 USD PPPs     Hourly      9.01723  \n",
       "16           In 2015 constant prices at 2015 USD PPPs     Hourly      8.79053  \n",
       "17           In 2015 constant prices at 2015 USD PPPs     Hourly      8.64420  \n",
       "18           In 2015 constant prices at 2015 USD PPPs     Hourly      8.60097  \n",
       "19           In 2015 constant prices at 2015 USD PPPs     Hourly      8.58407  \n",
       "20           In 2015 constant prices at 2015 USD PPPs     Hourly      8.60944  \n",
       "21           In 2015 constant prices at 2015 USD PPPs     Hourly      9.10710  \n",
       "22  In 2015 constant prices at 2015 USD exchange r...     Annual  19090.53700  \n",
       "23  In 2015 constant prices at 2015 USD exchange r...     Annual  20169.69900  \n",
       "24  In 2015 constant prices at 2015 USD exchange r...     Annual  19775.78500  \n",
       "25  In 2015 constant prices at 2015 USD exchange r...     Annual  20703.69100  \n",
       "26  In 2015 constant prices at 2015 USD exchange r...     Annual  20899.46500  \n",
       "27  In 2015 constant prices at 2015 USD exchange r...     Annual  20374.03900  \n",
       "28  In 2015 constant prices at 2015 USD exchange r...     Annual  20034.89800  \n",
       "29  In 2015 constant prices at 2015 USD exchange r...     Annual  19934.68600  "
      ]
     },
     "execution_count": 77,
     "metadata": {},
     "output_type": "execute_result"
    }
   ],
   "source": [
    "wage.head(30)"
   ]
  },
  {
   "cell_type": "markdown",
   "metadata": {
    "colab_type": "text",
    "id": "_BXBS8hN-Ke2"
   },
   "source": [
    "The current data condition is difficult to anlayze since there are several dimentions to the data, and that each of these dimensions seemed to be in different formats.\n",
    "\n",
    "Let's have a peek at various portions of the data. (Note: In pandas, `iloc` method allows direct positional access, just like how we would do for a numpy array.)"
   ]
  },
  {
   "cell_type": "code",
   "execution_count": 78,
   "metadata": {
    "colab": {},
    "colab_type": "code",
    "id": "O7JfT1pR-Ke2"
   },
   "outputs": [
    {
     "data": {
      "text/html": [
       "<div>\n",
       "<style scoped>\n",
       "    .dataframe tbody tr th:only-of-type {\n",
       "        vertical-align: middle;\n",
       "    }\n",
       "\n",
       "    .dataframe tbody tr th {\n",
       "        vertical-align: top;\n",
       "    }\n",
       "\n",
       "    .dataframe thead th {\n",
       "        text-align: right;\n",
       "    }\n",
       "</style>\n",
       "<table border=\"1\" class=\"dataframe\">\n",
       "  <thead>\n",
       "    <tr style=\"text-align: right;\">\n",
       "      <th></th>\n",
       "      <th>Time</th>\n",
       "      <th>Country</th>\n",
       "      <th>Series</th>\n",
       "      <th>Pay period</th>\n",
       "    </tr>\n",
       "  </thead>\n",
       "  <tbody>\n",
       "    <tr>\n",
       "      <th>7</th>\n",
       "      <td>2013-01-01</td>\n",
       "      <td>Ireland</td>\n",
       "      <td>In 2015 constant prices at 2015 USD PPPs</td>\n",
       "      <td>Annual</td>\n",
       "    </tr>\n",
       "    <tr>\n",
       "      <th>8</th>\n",
       "      <td>2014-01-01</td>\n",
       "      <td>Ireland</td>\n",
       "      <td>In 2015 constant prices at 2015 USD PPPs</td>\n",
       "      <td>Annual</td>\n",
       "    </tr>\n",
       "    <tr>\n",
       "      <th>9</th>\n",
       "      <td>2015-01-01</td>\n",
       "      <td>Ireland</td>\n",
       "      <td>In 2015 constant prices at 2015 USD PPPs</td>\n",
       "      <td>Annual</td>\n",
       "    </tr>\n",
       "    <tr>\n",
       "      <th>10</th>\n",
       "      <td>2016-01-01</td>\n",
       "      <td>Ireland</td>\n",
       "      <td>In 2015 constant prices at 2015 USD PPPs</td>\n",
       "      <td>Annual</td>\n",
       "    </tr>\n",
       "  </tbody>\n",
       "</table>\n",
       "</div>"
      ],
      "text/plain": [
       "          Time  Country                                    Series Pay period\n",
       "7   2013-01-01  Ireland  In 2015 constant prices at 2015 USD PPPs     Annual\n",
       "8   2014-01-01  Ireland  In 2015 constant prices at 2015 USD PPPs     Annual\n",
       "9   2015-01-01  Ireland  In 2015 constant prices at 2015 USD PPPs     Annual\n",
       "10  2016-01-01  Ireland  In 2015 constant prices at 2015 USD PPPs     Annual"
      ]
     },
     "execution_count": 78,
     "metadata": {},
     "output_type": "execute_result"
    }
   ],
   "source": [
    "wage.iloc[7:11, 1:5]"
   ]
  },
  {
   "cell_type": "code",
   "execution_count": 79,
   "metadata": {
    "colab": {},
    "colab_type": "code",
    "id": "WehY6KZW-Ke5"
   },
   "outputs": [
    {
     "data": {
      "text/html": [
       "<div>\n",
       "<style scoped>\n",
       "    .dataframe tbody tr th:only-of-type {\n",
       "        vertical-align: middle;\n",
       "    }\n",
       "\n",
       "    .dataframe tbody tr th {\n",
       "        vertical-align: top;\n",
       "    }\n",
       "\n",
       "    .dataframe thead th {\n",
       "        text-align: right;\n",
       "    }\n",
       "</style>\n",
       "<table border=\"1\" class=\"dataframe\">\n",
       "  <thead>\n",
       "    <tr style=\"text-align: right;\">\n",
       "      <th></th>\n",
       "      <th>Time</th>\n",
       "      <th>Country</th>\n",
       "      <th>Series</th>\n",
       "      <th>Pay period</th>\n",
       "    </tr>\n",
       "  </thead>\n",
       "  <tbody>\n",
       "    <tr>\n",
       "      <th>260</th>\n",
       "      <td>2013-01-01</td>\n",
       "      <td>New Zealand</td>\n",
       "      <td>In 2015 constant prices at 2015 USD exchange r...</td>\n",
       "      <td>Hourly</td>\n",
       "    </tr>\n",
       "    <tr>\n",
       "      <th>261</th>\n",
       "      <td>2014-01-01</td>\n",
       "      <td>New Zealand</td>\n",
       "      <td>In 2015 constant prices at 2015 USD exchange r...</td>\n",
       "      <td>Hourly</td>\n",
       "    </tr>\n",
       "    <tr>\n",
       "      <th>262</th>\n",
       "      <td>2015-01-01</td>\n",
       "      <td>New Zealand</td>\n",
       "      <td>In 2015 constant prices at 2015 USD exchange r...</td>\n",
       "      <td>Hourly</td>\n",
       "    </tr>\n",
       "    <tr>\n",
       "      <th>263</th>\n",
       "      <td>2016-01-01</td>\n",
       "      <td>New Zealand</td>\n",
       "      <td>In 2015 constant prices at 2015 USD exchange r...</td>\n",
       "      <td>Hourly</td>\n",
       "    </tr>\n",
       "  </tbody>\n",
       "</table>\n",
       "</div>"
      ],
      "text/plain": [
       "           Time      Country  \\\n",
       "260  2013-01-01  New Zealand   \n",
       "261  2014-01-01  New Zealand   \n",
       "262  2015-01-01  New Zealand   \n",
       "263  2016-01-01  New Zealand   \n",
       "\n",
       "                                                Series Pay period  \n",
       "260  In 2015 constant prices at 2015 USD exchange r...     Hourly  \n",
       "261  In 2015 constant prices at 2015 USD exchange r...     Hourly  \n",
       "262  In 2015 constant prices at 2015 USD exchange r...     Hourly  \n",
       "263  In 2015 constant prices at 2015 USD exchange r...     Hourly  "
      ]
     },
     "execution_count": 79,
     "metadata": {},
     "output_type": "execute_result"
    }
   ],
   "source": [
    "wage.iloc[260:264, 1:5]"
   ]
  },
  {
   "cell_type": "markdown",
   "metadata": {
    "colab_type": "text",
    "id": "TGgU3_ss-Ke7"
   },
   "source": [
    "It appears that we have rows further down that belong to a different country, but contain the same 'Time' attribute. There are also information representing different 'Pay period'.\n",
    "\n",
    "If we were to analyze all these data based on the 'Time' (in other words, the year of the data), then we need to re-organize the data a little. This is where a **pivot table** comes into play. A pivot table performs some summarization or re-organization of the data into a more compact looking table so that it can be meaningfully interpreted or used further for visualization purposes.\n",
    "\n",
    "We will use `pivot_table` to create a wide format panel, with a `MultiIndex` to handle higher dimensional data. `pivot_table` arguments should specify the data (values), the index, and the columns we want in our resulting dataframe\n",
    "\n",
    "By passing a list in columns, we can create a MultiIndex in our column axis."
   ]
  },
  {
   "cell_type": "code",
   "execution_count": 80,
   "metadata": {
    "colab": {},
    "colab_type": "code",
    "id": "ZsNZsU7L-Ke7"
   },
   "outputs": [
    {
     "data": {
      "text/html": [
       "<div>\n",
       "<style scoped>\n",
       "    .dataframe tbody tr th:only-of-type {\n",
       "        vertical-align: middle;\n",
       "    }\n",
       "\n",
       "    .dataframe tbody tr th {\n",
       "        vertical-align: top;\n",
       "    }\n",
       "\n",
       "    .dataframe thead tr th {\n",
       "        text-align: left;\n",
       "    }\n",
       "\n",
       "    .dataframe thead tr:last-of-type th {\n",
       "        text-align: right;\n",
       "    }\n",
       "</style>\n",
       "<table border=\"1\" class=\"dataframe\">\n",
       "  <thead>\n",
       "    <tr>\n",
       "      <th>Country</th>\n",
       "      <th colspan=\"4\" halign=\"left\">Australia</th>\n",
       "      <th colspan=\"4\" halign=\"left\">Belgium</th>\n",
       "      <th colspan=\"2\" halign=\"left\">Brazil</th>\n",
       "      <th>...</th>\n",
       "      <th colspan=\"2\" halign=\"left\">Turkey</th>\n",
       "      <th colspan=\"4\" halign=\"left\">United Kingdom</th>\n",
       "      <th colspan=\"4\" halign=\"left\">United States</th>\n",
       "    </tr>\n",
       "    <tr>\n",
       "      <th>Series</th>\n",
       "      <th colspan=\"2\" halign=\"left\">In 2015 constant prices at 2015 USD PPPs</th>\n",
       "      <th colspan=\"2\" halign=\"left\">In 2015 constant prices at 2015 USD exchange rates</th>\n",
       "      <th colspan=\"2\" halign=\"left\">In 2015 constant prices at 2015 USD PPPs</th>\n",
       "      <th colspan=\"2\" halign=\"left\">In 2015 constant prices at 2015 USD exchange rates</th>\n",
       "      <th colspan=\"2\" halign=\"left\">In 2015 constant prices at 2015 USD PPPs</th>\n",
       "      <th>...</th>\n",
       "      <th colspan=\"2\" halign=\"left\">In 2015 constant prices at 2015 USD exchange rates</th>\n",
       "      <th colspan=\"2\" halign=\"left\">In 2015 constant prices at 2015 USD PPPs</th>\n",
       "      <th colspan=\"2\" halign=\"left\">In 2015 constant prices at 2015 USD exchange rates</th>\n",
       "      <th colspan=\"2\" halign=\"left\">In 2015 constant prices at 2015 USD PPPs</th>\n",
       "      <th colspan=\"2\" halign=\"left\">In 2015 constant prices at 2015 USD exchange rates</th>\n",
       "    </tr>\n",
       "    <tr>\n",
       "      <th>Pay period</th>\n",
       "      <th>Annual</th>\n",
       "      <th>Hourly</th>\n",
       "      <th>Annual</th>\n",
       "      <th>Hourly</th>\n",
       "      <th>Annual</th>\n",
       "      <th>Hourly</th>\n",
       "      <th>Annual</th>\n",
       "      <th>Hourly</th>\n",
       "      <th>Annual</th>\n",
       "      <th>Hourly</th>\n",
       "      <th>...</th>\n",
       "      <th>Annual</th>\n",
       "      <th>Hourly</th>\n",
       "      <th>Annual</th>\n",
       "      <th>Hourly</th>\n",
       "      <th>Annual</th>\n",
       "      <th>Hourly</th>\n",
       "      <th>Annual</th>\n",
       "      <th>Hourly</th>\n",
       "      <th>Annual</th>\n",
       "      <th>Hourly</th>\n",
       "    </tr>\n",
       "    <tr>\n",
       "      <th>Time</th>\n",
       "      <th></th>\n",
       "      <th></th>\n",
       "      <th></th>\n",
       "      <th></th>\n",
       "      <th></th>\n",
       "      <th></th>\n",
       "      <th></th>\n",
       "      <th></th>\n",
       "      <th></th>\n",
       "      <th></th>\n",
       "      <th></th>\n",
       "      <th></th>\n",
       "      <th></th>\n",
       "      <th></th>\n",
       "      <th></th>\n",
       "      <th></th>\n",
       "      <th></th>\n",
       "      <th></th>\n",
       "      <th></th>\n",
       "      <th></th>\n",
       "      <th></th>\n",
       "    </tr>\n",
       "  </thead>\n",
       "  <tbody>\n",
       "    <tr>\n",
       "      <th>2006-01-01</th>\n",
       "      <td>20410.652</td>\n",
       "      <td>10.33073</td>\n",
       "      <td>23826.637</td>\n",
       "      <td>12.060</td>\n",
       "      <td>21042.279</td>\n",
       "      <td>10.08859</td>\n",
       "      <td>20228.742</td>\n",
       "      <td>9.699</td>\n",
       "      <td>3310.5120</td>\n",
       "      <td>1.41</td>\n",
       "      <td>...</td>\n",
       "      <td>4741.1650</td>\n",
       "      <td>2.273</td>\n",
       "      <td>16764.969</td>\n",
       "      <td>8.06794</td>\n",
       "      <td>20376.320</td>\n",
       "      <td>9.806</td>\n",
       "      <td>12594.397</td>\n",
       "      <td>6.05500</td>\n",
       "      <td>12594.397</td>\n",
       "      <td>6.055</td>\n",
       "    </tr>\n",
       "    <tr>\n",
       "      <th>2007-01-01</th>\n",
       "      <td>21087.568</td>\n",
       "      <td>10.67106</td>\n",
       "      <td>24616.844</td>\n",
       "      <td>12.457</td>\n",
       "      <td>21310.053</td>\n",
       "      <td>10.21730</td>\n",
       "      <td>20486.162</td>\n",
       "      <td>9.822</td>\n",
       "      <td>3525.4519</td>\n",
       "      <td>1.50</td>\n",
       "      <td>...</td>\n",
       "      <td>4710.4160</td>\n",
       "      <td>2.258</td>\n",
       "      <td>17240.371</td>\n",
       "      <td>8.28509</td>\n",
       "      <td>20954.133</td>\n",
       "      <td>10.070</td>\n",
       "      <td>12974.395</td>\n",
       "      <td>6.24143</td>\n",
       "      <td>12974.395</td>\n",
       "      <td>6.241</td>\n",
       "    </tr>\n",
       "    <tr>\n",
       "      <th>2008-01-01</th>\n",
       "      <td>20718.238</td>\n",
       "      <td>10.48298</td>\n",
       "      <td>24185.703</td>\n",
       "      <td>12.237</td>\n",
       "      <td>21416.957</td>\n",
       "      <td>10.26877</td>\n",
       "      <td>20588.934</td>\n",
       "      <td>9.872</td>\n",
       "      <td>3664.3911</td>\n",
       "      <td>1.56</td>\n",
       "      <td>...</td>\n",
       "      <td>4635.1650</td>\n",
       "      <td>2.222</td>\n",
       "      <td>17198.191</td>\n",
       "      <td>8.26451</td>\n",
       "      <td>20902.865</td>\n",
       "      <td>10.045</td>\n",
       "      <td>14097.556</td>\n",
       "      <td>6.78127</td>\n",
       "      <td>14097.556</td>\n",
       "      <td>6.781</td>\n",
       "    </tr>\n",
       "    <tr>\n",
       "      <th>2009-01-01</th>\n",
       "      <td>20984.768</td>\n",
       "      <td>10.61966</td>\n",
       "      <td>24496.838</td>\n",
       "      <td>12.397</td>\n",
       "      <td>22140.191</td>\n",
       "      <td>10.61538</td>\n",
       "      <td>21284.205</td>\n",
       "      <td>10.205</td>\n",
       "      <td>3934.7710</td>\n",
       "      <td>1.68</td>\n",
       "      <td>...</td>\n",
       "      <td>4753.9048</td>\n",
       "      <td>2.279</td>\n",
       "      <td>17359.232</td>\n",
       "      <td>8.34928</td>\n",
       "      <td>21098.598</td>\n",
       "      <td>10.148</td>\n",
       "      <td>15756.423</td>\n",
       "      <td>7.57882</td>\n",
       "      <td>15756.423</td>\n",
       "      <td>7.579</td>\n",
       "    </tr>\n",
       "    <tr>\n",
       "      <th>2010-01-01</th>\n",
       "      <td>20879.332</td>\n",
       "      <td>10.57090</td>\n",
       "      <td>24373.756</td>\n",
       "      <td>12.340</td>\n",
       "      <td>21810.281</td>\n",
       "      <td>10.45718</td>\n",
       "      <td>20967.053</td>\n",
       "      <td>10.053</td>\n",
       "      <td>4145.6851</td>\n",
       "      <td>1.80</td>\n",
       "      <td>...</td>\n",
       "      <td>4799.2778</td>\n",
       "      <td>2.301</td>\n",
       "      <td>17053.221</td>\n",
       "      <td>8.19488</td>\n",
       "      <td>20726.668</td>\n",
       "      <td>9.960</td>\n",
       "      <td>16391.313</td>\n",
       "      <td>7.88044</td>\n",
       "      <td>16391.313</td>\n",
       "      <td>7.880</td>\n",
       "    </tr>\n",
       "  </tbody>\n",
       "</table>\n",
       "<p>5 rows × 128 columns</p>\n",
       "</div>"
      ],
      "text/plain": [
       "Country                                   Australia            \\\n",
       "Series     In 2015 constant prices at 2015 USD PPPs             \n",
       "Pay period                                   Annual    Hourly   \n",
       "Time                                                            \n",
       "2006-01-01                                20410.652  10.33073   \n",
       "2007-01-01                                21087.568  10.67106   \n",
       "2008-01-01                                20718.238  10.48298   \n",
       "2009-01-01                                20984.768  10.61966   \n",
       "2010-01-01                                20879.332  10.57090   \n",
       "\n",
       "Country                                                                \\\n",
       "Series     In 2015 constant prices at 2015 USD exchange rates           \n",
       "Pay period                                             Annual  Hourly   \n",
       "Time                                                                    \n",
       "2006-01-01                                          23826.637  12.060   \n",
       "2007-01-01                                          24616.844  12.457   \n",
       "2008-01-01                                          24185.703  12.237   \n",
       "2009-01-01                                          24496.838  12.397   \n",
       "2010-01-01                                          24373.756  12.340   \n",
       "\n",
       "Country                                     Belgium            \\\n",
       "Series     In 2015 constant prices at 2015 USD PPPs             \n",
       "Pay period                                   Annual    Hourly   \n",
       "Time                                                            \n",
       "2006-01-01                                21042.279  10.08859   \n",
       "2007-01-01                                21310.053  10.21730   \n",
       "2008-01-01                                21416.957  10.26877   \n",
       "2009-01-01                                22140.191  10.61538   \n",
       "2010-01-01                                21810.281  10.45718   \n",
       "\n",
       "Country                                                                \\\n",
       "Series     In 2015 constant prices at 2015 USD exchange rates           \n",
       "Pay period                                             Annual  Hourly   \n",
       "Time                                                                    \n",
       "2006-01-01                                          20228.742   9.699   \n",
       "2007-01-01                                          20486.162   9.822   \n",
       "2008-01-01                                          20588.934   9.872   \n",
       "2009-01-01                                          21284.205  10.205   \n",
       "2010-01-01                                          20967.053  10.053   \n",
       "\n",
       "Country                                      Brazil         ...  \\\n",
       "Series     In 2015 constant prices at 2015 USD PPPs         ...   \n",
       "Pay period                                   Annual Hourly  ...   \n",
       "Time                                                        ...   \n",
       "2006-01-01                                3310.5120   1.41  ...   \n",
       "2007-01-01                                3525.4519   1.50  ...   \n",
       "2008-01-01                                3664.3911   1.56  ...   \n",
       "2009-01-01                                3934.7710   1.68  ...   \n",
       "2010-01-01                                4145.6851   1.80  ...   \n",
       "\n",
       "Country                                                Turkey         \\\n",
       "Series     In 2015 constant prices at 2015 USD exchange rates          \n",
       "Pay period                                             Annual Hourly   \n",
       "Time                                                                   \n",
       "2006-01-01                                          4741.1650  2.273   \n",
       "2007-01-01                                          4710.4160  2.258   \n",
       "2008-01-01                                          4635.1650  2.222   \n",
       "2009-01-01                                          4753.9048  2.279   \n",
       "2010-01-01                                          4799.2778  2.301   \n",
       "\n",
       "Country                              United Kingdom           \\\n",
       "Series     In 2015 constant prices at 2015 USD PPPs            \n",
       "Pay period                                   Annual   Hourly   \n",
       "Time                                                           \n",
       "2006-01-01                                16764.969  8.06794   \n",
       "2007-01-01                                17240.371  8.28509   \n",
       "2008-01-01                                17198.191  8.26451   \n",
       "2009-01-01                                17359.232  8.34928   \n",
       "2010-01-01                                17053.221  8.19488   \n",
       "\n",
       "Country                                                                \\\n",
       "Series     In 2015 constant prices at 2015 USD exchange rates           \n",
       "Pay period                                             Annual  Hourly   \n",
       "Time                                                                    \n",
       "2006-01-01                                          20376.320   9.806   \n",
       "2007-01-01                                          20954.133  10.070   \n",
       "2008-01-01                                          20902.865  10.045   \n",
       "2009-01-01                                          21098.598  10.148   \n",
       "2010-01-01                                          20726.668   9.960   \n",
       "\n",
       "Country                               United States           \\\n",
       "Series     In 2015 constant prices at 2015 USD PPPs            \n",
       "Pay period                                   Annual   Hourly   \n",
       "Time                                                           \n",
       "2006-01-01                                12594.397  6.05500   \n",
       "2007-01-01                                12974.395  6.24143   \n",
       "2008-01-01                                14097.556  6.78127   \n",
       "2009-01-01                                15756.423  7.57882   \n",
       "2010-01-01                                16391.313  7.88044   \n",
       "\n",
       "Country                                                               \n",
       "Series     In 2015 constant prices at 2015 USD exchange rates         \n",
       "Pay period                                             Annual Hourly  \n",
       "Time                                                                  \n",
       "2006-01-01                                          12594.397  6.055  \n",
       "2007-01-01                                          12974.395  6.241  \n",
       "2008-01-01                                          14097.556  6.781  \n",
       "2009-01-01                                          15756.423  7.579  \n",
       "2010-01-01                                          16391.313  7.880  \n",
       "\n",
       "[5 rows x 128 columns]"
      ]
     },
     "execution_count": 80,
     "metadata": {},
     "output_type": "execute_result"
    }
   ],
   "source": [
    "wage_pt = wage.pivot_table(values='value',\n",
    "                        index='Time',                                 # this is the new index of the pivot table\n",
    "                        columns=['Country', 'Series', 'Pay period'])  # this specifies grouped columns with multiple indices \n",
    "wage_pt.head()"
   ]
  },
  {
   "cell_type": "markdown",
   "metadata": {
    "colab_type": "text",
    "id": "3E7us-5w-Ke-"
   },
   "source": [
    "To more easily filter our time series data later on, we will convert the index into a [`DateTimeIndex`](https://pandas.pydata.org/pandas-docs/version/0.23.4/generated/pandas.DatetimeIndex.html)."
   ]
  },
  {
   "cell_type": "code",
   "execution_count": 81,
   "metadata": {
    "colab": {},
    "colab_type": "code",
    "id": "li5kIIXS-Ke-"
   },
   "outputs": [
    {
     "data": {
      "text/plain": [
       "pandas.core.indexes.datetimes.DatetimeIndex"
      ]
     },
     "execution_count": 81,
     "metadata": {},
     "output_type": "execute_result"
    }
   ],
   "source": [
    "wage_pt.index = pd.to_datetime(wage_pt.index)\n",
    "type(wage_pt.index)"
   ]
  },
  {
   "cell_type": "markdown",
   "metadata": {
    "colab_type": "text",
    "id": "uFiMhww6-Ke_"
   },
   "source": [
    "The columns contain multiple levels of indexing, known as a `MultiIndex`, with levels being ordered hierarchically (Country > Series > Pay period). This is known as \"concept hierarchy generation\".\n",
    "\n",
    "A `MultiIndex` is the simplest and most flexible way to manage panel data in pandas"
   ]
  },
  {
   "cell_type": "code",
   "execution_count": 82,
   "metadata": {
    "colab": {},
    "colab_type": "code",
    "id": "owMYoMMO-KfA"
   },
   "outputs": [
    {
     "data": {
      "text/plain": [
       "pandas.core.indexes.multi.MultiIndex"
      ]
     },
     "execution_count": 82,
     "metadata": {},
     "output_type": "execute_result"
    }
   ],
   "source": [
    "type(wage_pt.columns)"
   ]
  },
  {
   "cell_type": "code",
   "execution_count": 83,
   "metadata": {
    "colab": {},
    "colab_type": "code",
    "id": "4v5hwuKY-KfC"
   },
   "outputs": [
    {
     "data": {
      "text/plain": [
       "FrozenList(['Country', 'Series', 'Pay period'])"
      ]
     },
     "execution_count": 83,
     "metadata": {},
     "output_type": "execute_result"
    }
   ],
   "source": [
    "wage_pt.columns.names"
   ]
  },
  {
   "cell_type": "markdown",
   "metadata": {
    "colab_type": "text",
    "id": "nTnK6c-b-KfE"
   },
   "source": [
    "Like before, we can select the country (the top level of our MultiIndex):"
   ]
  },
  {
   "cell_type": "code",
   "execution_count": 84,
   "metadata": {
    "colab": {},
    "colab_type": "code",
    "id": "zhkoIUKU-KfE",
    "scrolled": true
   },
   "outputs": [
    {
     "data": {
      "text/html": [
       "<div>\n",
       "<style scoped>\n",
       "    .dataframe tbody tr th:only-of-type {\n",
       "        vertical-align: middle;\n",
       "    }\n",
       "\n",
       "    .dataframe tbody tr th {\n",
       "        vertical-align: top;\n",
       "    }\n",
       "\n",
       "    .dataframe thead tr th {\n",
       "        text-align: left;\n",
       "    }\n",
       "\n",
       "    .dataframe thead tr:last-of-type th {\n",
       "        text-align: right;\n",
       "    }\n",
       "</style>\n",
       "<table border=\"1\" class=\"dataframe\">\n",
       "  <thead>\n",
       "    <tr>\n",
       "      <th>Series</th>\n",
       "      <th colspan=\"2\" halign=\"left\">In 2015 constant prices at 2015 USD PPPs</th>\n",
       "      <th colspan=\"2\" halign=\"left\">In 2015 constant prices at 2015 USD exchange rates</th>\n",
       "    </tr>\n",
       "    <tr>\n",
       "      <th>Pay period</th>\n",
       "      <th>Annual</th>\n",
       "      <th>Hourly</th>\n",
       "      <th>Annual</th>\n",
       "      <th>Hourly</th>\n",
       "    </tr>\n",
       "    <tr>\n",
       "      <th>Time</th>\n",
       "      <th></th>\n",
       "      <th></th>\n",
       "      <th></th>\n",
       "      <th></th>\n",
       "    </tr>\n",
       "  </thead>\n",
       "  <tbody>\n",
       "    <tr>\n",
       "      <th>2006-01-01</th>\n",
       "      <td>13082.115</td>\n",
       "      <td>6.28948</td>\n",
       "      <td>11836.640</td>\n",
       "      <td>5.691</td>\n",
       "    </tr>\n",
       "    <tr>\n",
       "      <th>2007-01-01</th>\n",
       "      <td>13215.890</td>\n",
       "      <td>6.35379</td>\n",
       "      <td>11957.679</td>\n",
       "      <td>5.749</td>\n",
       "    </tr>\n",
       "    <tr>\n",
       "      <th>2008-01-01</th>\n",
       "      <td>13315.404</td>\n",
       "      <td>6.40164</td>\n",
       "      <td>12047.718</td>\n",
       "      <td>5.792</td>\n",
       "    </tr>\n",
       "    <tr>\n",
       "      <th>2009-01-01</th>\n",
       "      <td>13781.248</td>\n",
       "      <td>6.62560</td>\n",
       "      <td>12469.213</td>\n",
       "      <td>5.995</td>\n",
       "    </tr>\n",
       "    <tr>\n",
       "      <th>2010-01-01</th>\n",
       "      <td>14112.379</td>\n",
       "      <td>6.78480</td>\n",
       "      <td>12768.818</td>\n",
       "      <td>6.139</td>\n",
       "    </tr>\n",
       "  </tbody>\n",
       "</table>\n",
       "</div>"
      ],
      "text/plain": [
       "Series     In 2015 constant prices at 2015 USD PPPs           \\\n",
       "Pay period                                   Annual   Hourly   \n",
       "Time                                                           \n",
       "2006-01-01                                13082.115  6.28948   \n",
       "2007-01-01                                13215.890  6.35379   \n",
       "2008-01-01                                13315.404  6.40164   \n",
       "2009-01-01                                13781.248  6.62560   \n",
       "2010-01-01                                14112.379  6.78480   \n",
       "\n",
       "Series     In 2015 constant prices at 2015 USD exchange rates         \n",
       "Pay period                                             Annual Hourly  \n",
       "Time                                                                  \n",
       "2006-01-01                                          11836.640  5.691  \n",
       "2007-01-01                                          11957.679  5.749  \n",
       "2008-01-01                                          12047.718  5.792  \n",
       "2009-01-01                                          12469.213  5.995  \n",
       "2010-01-01                                          12768.818  6.139  "
      ]
     },
     "execution_count": 84,
     "metadata": {},
     "output_type": "execute_result"
    }
   ],
   "source": [
    "wage_pt['Japan'].head()"
   ]
  },
  {
   "cell_type": "markdown",
   "metadata": {
    "colab_type": "text",
    "id": "cPQ5tSgp-KfI"
   },
   "source": [
    "Here's a nifty trick if you need to look at the pivot table in a different way. \"Stacking\" and \"unstacking\" levels of the `MultiIndex` can be used to reshape the dataframe into a desired format.\n",
    "\n",
    "`stack()` rotates the lowest level of the column `MultiIndex` to the row index, while `unstack()` works in the opposite direction (try it out)."
   ]
  },
  {
   "cell_type": "code",
   "execution_count": 85,
   "metadata": {
    "colab": {},
    "colab_type": "code",
    "id": "HQKaRzoL-KfJ"
   },
   "outputs": [
    {
     "data": {
      "text/html": [
       "<div>\n",
       "<style scoped>\n",
       "    .dataframe tbody tr th:only-of-type {\n",
       "        vertical-align: middle;\n",
       "    }\n",
       "\n",
       "    .dataframe tbody tr th {\n",
       "        vertical-align: top;\n",
       "    }\n",
       "\n",
       "    .dataframe thead tr th {\n",
       "        text-align: left;\n",
       "    }\n",
       "\n",
       "    .dataframe thead tr:last-of-type th {\n",
       "        text-align: right;\n",
       "    }\n",
       "</style>\n",
       "<table border=\"1\" class=\"dataframe\">\n",
       "  <thead>\n",
       "    <tr>\n",
       "      <th></th>\n",
       "      <th>Country</th>\n",
       "      <th colspan=\"2\" halign=\"left\">Australia</th>\n",
       "      <th colspan=\"2\" halign=\"left\">Belgium</th>\n",
       "      <th colspan=\"2\" halign=\"left\">Brazil</th>\n",
       "      <th colspan=\"2\" halign=\"left\">Canada</th>\n",
       "      <th colspan=\"2\" halign=\"left\">Chile</th>\n",
       "      <th>...</th>\n",
       "      <th colspan=\"2\" halign=\"left\">Slovenia</th>\n",
       "      <th colspan=\"2\" halign=\"left\">Spain</th>\n",
       "      <th colspan=\"2\" halign=\"left\">Turkey</th>\n",
       "      <th colspan=\"2\" halign=\"left\">United Kingdom</th>\n",
       "      <th colspan=\"2\" halign=\"left\">United States</th>\n",
       "    </tr>\n",
       "    <tr>\n",
       "      <th></th>\n",
       "      <th>Series</th>\n",
       "      <th>In 2015 constant prices at 2015 USD PPPs</th>\n",
       "      <th>In 2015 constant prices at 2015 USD exchange rates</th>\n",
       "      <th>In 2015 constant prices at 2015 USD PPPs</th>\n",
       "      <th>In 2015 constant prices at 2015 USD exchange rates</th>\n",
       "      <th>In 2015 constant prices at 2015 USD PPPs</th>\n",
       "      <th>In 2015 constant prices at 2015 USD exchange rates</th>\n",
       "      <th>In 2015 constant prices at 2015 USD PPPs</th>\n",
       "      <th>In 2015 constant prices at 2015 USD exchange rates</th>\n",
       "      <th>In 2015 constant prices at 2015 USD PPPs</th>\n",
       "      <th>In 2015 constant prices at 2015 USD exchange rates</th>\n",
       "      <th>...</th>\n",
       "      <th>In 2015 constant prices at 2015 USD PPPs</th>\n",
       "      <th>In 2015 constant prices at 2015 USD exchange rates</th>\n",
       "      <th>In 2015 constant prices at 2015 USD PPPs</th>\n",
       "      <th>In 2015 constant prices at 2015 USD exchange rates</th>\n",
       "      <th>In 2015 constant prices at 2015 USD PPPs</th>\n",
       "      <th>In 2015 constant prices at 2015 USD exchange rates</th>\n",
       "      <th>In 2015 constant prices at 2015 USD PPPs</th>\n",
       "      <th>In 2015 constant prices at 2015 USD exchange rates</th>\n",
       "      <th>In 2015 constant prices at 2015 USD PPPs</th>\n",
       "      <th>In 2015 constant prices at 2015 USD exchange rates</th>\n",
       "    </tr>\n",
       "    <tr>\n",
       "      <th>Time</th>\n",
       "      <th>Pay period</th>\n",
       "      <th></th>\n",
       "      <th></th>\n",
       "      <th></th>\n",
       "      <th></th>\n",
       "      <th></th>\n",
       "      <th></th>\n",
       "      <th></th>\n",
       "      <th></th>\n",
       "      <th></th>\n",
       "      <th></th>\n",
       "      <th></th>\n",
       "      <th></th>\n",
       "      <th></th>\n",
       "      <th></th>\n",
       "      <th></th>\n",
       "      <th></th>\n",
       "      <th></th>\n",
       "      <th></th>\n",
       "      <th></th>\n",
       "      <th></th>\n",
       "      <th></th>\n",
       "    </tr>\n",
       "  </thead>\n",
       "  <tbody>\n",
       "    <tr>\n",
       "      <th rowspan=\"2\" valign=\"top\">2006-01-01</th>\n",
       "      <th>Annual</th>\n",
       "      <td>20410.65200</td>\n",
       "      <td>23826.637</td>\n",
       "      <td>21042.27900</td>\n",
       "      <td>20228.742</td>\n",
       "      <td>3310.5120</td>\n",
       "      <td>2032.8730</td>\n",
       "      <td>13649.68900</td>\n",
       "      <td>14335.120</td>\n",
       "      <td>5201.6479</td>\n",
       "      <td>3333.7639</td>\n",
       "      <td>...</td>\n",
       "      <td>11273.04900</td>\n",
       "      <td>8177.2139</td>\n",
       "      <td>11740.05900</td>\n",
       "      <td>9714.1846</td>\n",
       "      <td>8491.3682</td>\n",
       "      <td>4741.165</td>\n",
       "      <td>16764.96900</td>\n",
       "      <td>20376.320</td>\n",
       "      <td>12594.39700</td>\n",
       "      <td>12594.397</td>\n",
       "    </tr>\n",
       "    <tr>\n",
       "      <th>Hourly</th>\n",
       "      <td>10.33073</td>\n",
       "      <td>12.060</td>\n",
       "      <td>10.08859</td>\n",
       "      <td>9.699</td>\n",
       "      <td>1.4100</td>\n",
       "      <td>0.8700</td>\n",
       "      <td>6.56235</td>\n",
       "      <td>6.892</td>\n",
       "      <td>2.2200</td>\n",
       "      <td>1.4200</td>\n",
       "      <td>...</td>\n",
       "      <td>5.40484</td>\n",
       "      <td>3.9210</td>\n",
       "      <td>4.82443</td>\n",
       "      <td>3.9920</td>\n",
       "      <td>4.0712</td>\n",
       "      <td>2.273</td>\n",
       "      <td>8.06794</td>\n",
       "      <td>9.806</td>\n",
       "      <td>6.05500</td>\n",
       "      <td>6.055</td>\n",
       "    </tr>\n",
       "    <tr>\n",
       "      <th rowspan=\"2\" valign=\"top\">2007-01-01</th>\n",
       "      <th>Annual</th>\n",
       "      <td>21087.56800</td>\n",
       "      <td>24616.844</td>\n",
       "      <td>21310.05300</td>\n",
       "      <td>20486.162</td>\n",
       "      <td>3525.4519</td>\n",
       "      <td>2164.8611</td>\n",
       "      <td>13785.93500</td>\n",
       "      <td>14478.207</td>\n",
       "      <td>5295.2070</td>\n",
       "      <td>3393.7271</td>\n",
       "      <td>...</td>\n",
       "      <td>11147.78400</td>\n",
       "      <td>8086.3501</td>\n",
       "      <td>12047.64200</td>\n",
       "      <td>9968.6914</td>\n",
       "      <td>8436.2979</td>\n",
       "      <td>4710.416</td>\n",
       "      <td>17240.37100</td>\n",
       "      <td>20954.133</td>\n",
       "      <td>12974.39500</td>\n",
       "      <td>12974.395</td>\n",
       "    </tr>\n",
       "    <tr>\n",
       "      <th>Hourly</th>\n",
       "      <td>10.67106</td>\n",
       "      <td>12.457</td>\n",
       "      <td>10.21730</td>\n",
       "      <td>9.822</td>\n",
       "      <td>1.5000</td>\n",
       "      <td>0.9200</td>\n",
       "      <td>6.62785</td>\n",
       "      <td>6.961</td>\n",
       "      <td>2.2600</td>\n",
       "      <td>1.4500</td>\n",
       "      <td>...</td>\n",
       "      <td>5.34483</td>\n",
       "      <td>3.8770</td>\n",
       "      <td>4.95133</td>\n",
       "      <td>4.0970</td>\n",
       "      <td>4.0448</td>\n",
       "      <td>2.258</td>\n",
       "      <td>8.28509</td>\n",
       "      <td>10.070</td>\n",
       "      <td>6.24143</td>\n",
       "      <td>6.241</td>\n",
       "    </tr>\n",
       "    <tr>\n",
       "      <th>2008-01-01</th>\n",
       "      <th>Annual</th>\n",
       "      <td>20718.23800</td>\n",
       "      <td>24185.703</td>\n",
       "      <td>21416.95700</td>\n",
       "      <td>20588.934</td>\n",
       "      <td>3664.3911</td>\n",
       "      <td>2250.1780</td>\n",
       "      <td>14342.76200</td>\n",
       "      <td>15062.996</td>\n",
       "      <td>5289.6489</td>\n",
       "      <td>3390.1641</td>\n",
       "      <td>...</td>\n",
       "      <td>11400.25200</td>\n",
       "      <td>8269.4844</td>\n",
       "      <td>12172.90200</td>\n",
       "      <td>10072.3370</td>\n",
       "      <td>8301.5244</td>\n",
       "      <td>4635.165</td>\n",
       "      <td>17198.19100</td>\n",
       "      <td>20902.865</td>\n",
       "      <td>14097.55600</td>\n",
       "      <td>14097.556</td>\n",
       "    </tr>\n",
       "  </tbody>\n",
       "</table>\n",
       "<p>5 rows × 64 columns</p>\n",
       "</div>"
      ],
      "text/plain": [
       "Country                                              Australia  \\\n",
       "Series                In 2015 constant prices at 2015 USD PPPs   \n",
       "Time       Pay period                                            \n",
       "2006-01-01 Annual                                  20410.65200   \n",
       "           Hourly                                     10.33073   \n",
       "2007-01-01 Annual                                  21087.56800   \n",
       "           Hourly                                     10.67106   \n",
       "2008-01-01 Annual                                  20718.23800   \n",
       "\n",
       "Country                                                                   \\\n",
       "Series                In 2015 constant prices at 2015 USD exchange rates   \n",
       "Time       Pay period                                                      \n",
       "2006-01-01 Annual                                              23826.637   \n",
       "           Hourly                                                 12.060   \n",
       "2007-01-01 Annual                                              24616.844   \n",
       "           Hourly                                                 12.457   \n",
       "2008-01-01 Annual                                              24185.703   \n",
       "\n",
       "Country                                                Belgium  \\\n",
       "Series                In 2015 constant prices at 2015 USD PPPs   \n",
       "Time       Pay period                                            \n",
       "2006-01-01 Annual                                  21042.27900   \n",
       "           Hourly                                     10.08859   \n",
       "2007-01-01 Annual                                  21310.05300   \n",
       "           Hourly                                     10.21730   \n",
       "2008-01-01 Annual                                  21416.95700   \n",
       "\n",
       "Country                                                                   \\\n",
       "Series                In 2015 constant prices at 2015 USD exchange rates   \n",
       "Time       Pay period                                                      \n",
       "2006-01-01 Annual                                              20228.742   \n",
       "           Hourly                                                  9.699   \n",
       "2007-01-01 Annual                                              20486.162   \n",
       "           Hourly                                                  9.822   \n",
       "2008-01-01 Annual                                              20588.934   \n",
       "\n",
       "Country                                                 Brazil  \\\n",
       "Series                In 2015 constant prices at 2015 USD PPPs   \n",
       "Time       Pay period                                            \n",
       "2006-01-01 Annual                                    3310.5120   \n",
       "           Hourly                                       1.4100   \n",
       "2007-01-01 Annual                                    3525.4519   \n",
       "           Hourly                                       1.5000   \n",
       "2008-01-01 Annual                                    3664.3911   \n",
       "\n",
       "Country                                                                   \\\n",
       "Series                In 2015 constant prices at 2015 USD exchange rates   \n",
       "Time       Pay period                                                      \n",
       "2006-01-01 Annual                                              2032.8730   \n",
       "           Hourly                                                 0.8700   \n",
       "2007-01-01 Annual                                              2164.8611   \n",
       "           Hourly                                                 0.9200   \n",
       "2008-01-01 Annual                                              2250.1780   \n",
       "\n",
       "Country                                                 Canada  \\\n",
       "Series                In 2015 constant prices at 2015 USD PPPs   \n",
       "Time       Pay period                                            \n",
       "2006-01-01 Annual                                  13649.68900   \n",
       "           Hourly                                      6.56235   \n",
       "2007-01-01 Annual                                  13785.93500   \n",
       "           Hourly                                      6.62785   \n",
       "2008-01-01 Annual                                  14342.76200   \n",
       "\n",
       "Country                                                                   \\\n",
       "Series                In 2015 constant prices at 2015 USD exchange rates   \n",
       "Time       Pay period                                                      \n",
       "2006-01-01 Annual                                              14335.120   \n",
       "           Hourly                                                  6.892   \n",
       "2007-01-01 Annual                                              14478.207   \n",
       "           Hourly                                                  6.961   \n",
       "2008-01-01 Annual                                              15062.996   \n",
       "\n",
       "Country                                                  Chile  \\\n",
       "Series                In 2015 constant prices at 2015 USD PPPs   \n",
       "Time       Pay period                                            \n",
       "2006-01-01 Annual                                    5201.6479   \n",
       "           Hourly                                       2.2200   \n",
       "2007-01-01 Annual                                    5295.2070   \n",
       "           Hourly                                       2.2600   \n",
       "2008-01-01 Annual                                    5289.6489   \n",
       "\n",
       "Country                                                                   ...  \\\n",
       "Series                In 2015 constant prices at 2015 USD exchange rates  ...   \n",
       "Time       Pay period                                                     ...   \n",
       "2006-01-01 Annual                                              3333.7639  ...   \n",
       "           Hourly                                                 1.4200  ...   \n",
       "2007-01-01 Annual                                              3393.7271  ...   \n",
       "           Hourly                                                 1.4500  ...   \n",
       "2008-01-01 Annual                                              3390.1641  ...   \n",
       "\n",
       "Country                                               Slovenia  \\\n",
       "Series                In 2015 constant prices at 2015 USD PPPs   \n",
       "Time       Pay period                                            \n",
       "2006-01-01 Annual                                  11273.04900   \n",
       "           Hourly                                      5.40484   \n",
       "2007-01-01 Annual                                  11147.78400   \n",
       "           Hourly                                      5.34483   \n",
       "2008-01-01 Annual                                  11400.25200   \n",
       "\n",
       "Country                                                                   \\\n",
       "Series                In 2015 constant prices at 2015 USD exchange rates   \n",
       "Time       Pay period                                                      \n",
       "2006-01-01 Annual                                              8177.2139   \n",
       "           Hourly                                                 3.9210   \n",
       "2007-01-01 Annual                                              8086.3501   \n",
       "           Hourly                                                 3.8770   \n",
       "2008-01-01 Annual                                              8269.4844   \n",
       "\n",
       "Country                                                  Spain  \\\n",
       "Series                In 2015 constant prices at 2015 USD PPPs   \n",
       "Time       Pay period                                            \n",
       "2006-01-01 Annual                                  11740.05900   \n",
       "           Hourly                                      4.82443   \n",
       "2007-01-01 Annual                                  12047.64200   \n",
       "           Hourly                                      4.95133   \n",
       "2008-01-01 Annual                                  12172.90200   \n",
       "\n",
       "Country                                                                   \\\n",
       "Series                In 2015 constant prices at 2015 USD exchange rates   \n",
       "Time       Pay period                                                      \n",
       "2006-01-01 Annual                                              9714.1846   \n",
       "           Hourly                                                 3.9920   \n",
       "2007-01-01 Annual                                              9968.6914   \n",
       "           Hourly                                                 4.0970   \n",
       "2008-01-01 Annual                                             10072.3370   \n",
       "\n",
       "Country                                                 Turkey  \\\n",
       "Series                In 2015 constant prices at 2015 USD PPPs   \n",
       "Time       Pay period                                            \n",
       "2006-01-01 Annual                                    8491.3682   \n",
       "           Hourly                                       4.0712   \n",
       "2007-01-01 Annual                                    8436.2979   \n",
       "           Hourly                                       4.0448   \n",
       "2008-01-01 Annual                                    8301.5244   \n",
       "\n",
       "Country                                                                   \\\n",
       "Series                In 2015 constant prices at 2015 USD exchange rates   \n",
       "Time       Pay period                                                      \n",
       "2006-01-01 Annual                                               4741.165   \n",
       "           Hourly                                                  2.273   \n",
       "2007-01-01 Annual                                               4710.416   \n",
       "           Hourly                                                  2.258   \n",
       "2008-01-01 Annual                                               4635.165   \n",
       "\n",
       "Country                                         United Kingdom  \\\n",
       "Series                In 2015 constant prices at 2015 USD PPPs   \n",
       "Time       Pay period                                            \n",
       "2006-01-01 Annual                                  16764.96900   \n",
       "           Hourly                                      8.06794   \n",
       "2007-01-01 Annual                                  17240.37100   \n",
       "           Hourly                                      8.28509   \n",
       "2008-01-01 Annual                                  17198.19100   \n",
       "\n",
       "Country                                                                   \\\n",
       "Series                In 2015 constant prices at 2015 USD exchange rates   \n",
       "Time       Pay period                                                      \n",
       "2006-01-01 Annual                                              20376.320   \n",
       "           Hourly                                                  9.806   \n",
       "2007-01-01 Annual                                              20954.133   \n",
       "           Hourly                                                 10.070   \n",
       "2008-01-01 Annual                                              20902.865   \n",
       "\n",
       "Country                                          United States  \\\n",
       "Series                In 2015 constant prices at 2015 USD PPPs   \n",
       "Time       Pay period                                            \n",
       "2006-01-01 Annual                                  12594.39700   \n",
       "           Hourly                                      6.05500   \n",
       "2007-01-01 Annual                                  12974.39500   \n",
       "           Hourly                                      6.24143   \n",
       "2008-01-01 Annual                                  14097.55600   \n",
       "\n",
       "Country                                                                   \n",
       "Series                In 2015 constant prices at 2015 USD exchange rates  \n",
       "Time       Pay period                                                     \n",
       "2006-01-01 Annual                                              12594.397  \n",
       "           Hourly                                                  6.055  \n",
       "2007-01-01 Annual                                              12974.395  \n",
       "           Hourly                                                  6.241  \n",
       "2008-01-01 Annual                                              14097.556  \n",
       "\n",
       "[5 rows x 64 columns]"
      ]
     },
     "execution_count": 85,
     "metadata": {},
     "output_type": "execute_result"
    }
   ],
   "source": [
    "wage_pt.stack().head()"
   ]
  },
  {
   "cell_type": "markdown",
   "metadata": {
    "colab_type": "text",
    "id": "8MDUy45T-KfL"
   },
   "source": [
    "We can also pass in an argument to select the level we would like to stack (notice how it also auto-sorts that level in order)..."
   ]
  },
  {
   "cell_type": "code",
   "execution_count": 86,
   "metadata": {
    "colab": {},
    "colab_type": "code",
    "id": "a9Qi5wur-KfL"
   },
   "outputs": [
    {
     "data": {
      "text/html": [
       "<div>\n",
       "<style scoped>\n",
       "    .dataframe tbody tr th:only-of-type {\n",
       "        vertical-align: middle;\n",
       "    }\n",
       "\n",
       "    .dataframe tbody tr th {\n",
       "        vertical-align: top;\n",
       "    }\n",
       "\n",
       "    .dataframe thead tr th {\n",
       "        text-align: left;\n",
       "    }\n",
       "\n",
       "    .dataframe thead tr:last-of-type th {\n",
       "        text-align: right;\n",
       "    }\n",
       "</style>\n",
       "<table border=\"1\" class=\"dataframe\">\n",
       "  <thead>\n",
       "    <tr>\n",
       "      <th></th>\n",
       "      <th>Series</th>\n",
       "      <th colspan=\"2\" halign=\"left\">In 2015 constant prices at 2015 USD PPPs</th>\n",
       "      <th colspan=\"2\" halign=\"left\">In 2015 constant prices at 2015 USD exchange rates</th>\n",
       "    </tr>\n",
       "    <tr>\n",
       "      <th></th>\n",
       "      <th>Pay period</th>\n",
       "      <th>Annual</th>\n",
       "      <th>Hourly</th>\n",
       "      <th>Annual</th>\n",
       "      <th>Hourly</th>\n",
       "    </tr>\n",
       "    <tr>\n",
       "      <th>Time</th>\n",
       "      <th>Country</th>\n",
       "      <th></th>\n",
       "      <th></th>\n",
       "      <th></th>\n",
       "      <th></th>\n",
       "    </tr>\n",
       "  </thead>\n",
       "  <tbody>\n",
       "    <tr>\n",
       "      <th rowspan=\"30\" valign=\"top\">2006-01-01</th>\n",
       "      <th>Australia</th>\n",
       "      <td>20410.6520</td>\n",
       "      <td>10.33073</td>\n",
       "      <td>23826.63700</td>\n",
       "      <td>12.060</td>\n",
       "    </tr>\n",
       "    <tr>\n",
       "      <th>Belgium</th>\n",
       "      <td>21042.2790</td>\n",
       "      <td>10.08859</td>\n",
       "      <td>20228.74200</td>\n",
       "      <td>9.699</td>\n",
       "    </tr>\n",
       "    <tr>\n",
       "      <th>Brazil</th>\n",
       "      <td>3310.5120</td>\n",
       "      <td>1.41000</td>\n",
       "      <td>2032.87300</td>\n",
       "      <td>0.870</td>\n",
       "    </tr>\n",
       "    <tr>\n",
       "      <th>Canada</th>\n",
       "      <td>13649.6890</td>\n",
       "      <td>6.56235</td>\n",
       "      <td>14335.12000</td>\n",
       "      <td>6.892</td>\n",
       "    </tr>\n",
       "    <tr>\n",
       "      <th>Chile</th>\n",
       "      <td>5201.6479</td>\n",
       "      <td>2.22000</td>\n",
       "      <td>3333.76390</td>\n",
       "      <td>1.420</td>\n",
       "    </tr>\n",
       "    <tr>\n",
       "      <th>Colombia</th>\n",
       "      <td>6257.7632</td>\n",
       "      <td>2.14000</td>\n",
       "      <td>2948.12110</td>\n",
       "      <td>1.010</td>\n",
       "    </tr>\n",
       "    <tr>\n",
       "      <th>Czech Republic</th>\n",
       "      <td>7991.7749</td>\n",
       "      <td>3.98087</td>\n",
       "      <td>4565.12990</td>\n",
       "      <td>2.274</td>\n",
       "    </tr>\n",
       "    <tr>\n",
       "      <th>Estonia</th>\n",
       "      <td>5179.6499</td>\n",
       "      <td>2.48333</td>\n",
       "      <td>3443.32910</td>\n",
       "      <td>1.651</td>\n",
       "    </tr>\n",
       "    <tr>\n",
       "      <th>France</th>\n",
       "      <td>19295.8260</td>\n",
       "      <td>10.60213</td>\n",
       "      <td>18416.40000</td>\n",
       "      <td>10.119</td>\n",
       "    </tr>\n",
       "    <tr>\n",
       "      <th>Greece</th>\n",
       "      <td>13672.2750</td>\n",
       "      <td>5.61873</td>\n",
       "      <td>10594.51600</td>\n",
       "      <td>4.354</td>\n",
       "    </tr>\n",
       "    <tr>\n",
       "      <th>Hungary</th>\n",
       "      <td>7211.1138</td>\n",
       "      <td>3.47191</td>\n",
       "      <td>3741.19190</td>\n",
       "      <td>1.801</td>\n",
       "    </tr>\n",
       "    <tr>\n",
       "      <th>Ireland</th>\n",
       "      <td>17132.4430</td>\n",
       "      <td>8.23675</td>\n",
       "      <td>19090.53700</td>\n",
       "      <td>9.178</td>\n",
       "    </tr>\n",
       "    <tr>\n",
       "      <th>Israel</th>\n",
       "      <td>11428.6940</td>\n",
       "      <td>5.12204</td>\n",
       "      <td>12869.03800</td>\n",
       "      <td>5.768</td>\n",
       "    </tr>\n",
       "    <tr>\n",
       "      <th>Japan</th>\n",
       "      <td>13082.1150</td>\n",
       "      <td>6.28948</td>\n",
       "      <td>11836.64000</td>\n",
       "      <td>5.691</td>\n",
       "    </tr>\n",
       "    <tr>\n",
       "      <th>Korea</th>\n",
       "      <td>10106.7510</td>\n",
       "      <td>3.72668</td>\n",
       "      <td>9266.99410</td>\n",
       "      <td>3.417</td>\n",
       "    </tr>\n",
       "    <tr>\n",
       "      <th>Latvia</th>\n",
       "      <td>3216.4021</td>\n",
       "      <td>1.54211</td>\n",
       "      <td>2017.01500</td>\n",
       "      <td>0.967</td>\n",
       "    </tr>\n",
       "    <tr>\n",
       "      <th>Lithuania</th>\n",
       "      <td>5336.2148</td>\n",
       "      <td>2.69131</td>\n",
       "      <td>2960.88500</td>\n",
       "      <td>1.493</td>\n",
       "    </tr>\n",
       "    <tr>\n",
       "      <th>Luxembourg</th>\n",
       "      <td>21639.1230</td>\n",
       "      <td>10.42540</td>\n",
       "      <td>23777.28500</td>\n",
       "      <td>11.456</td>\n",
       "    </tr>\n",
       "    <tr>\n",
       "      <th>Mexico</th>\n",
       "      <td>1797.1790</td>\n",
       "      <td>0.86403</td>\n",
       "      <td>1104.84200</td>\n",
       "      <td>0.531</td>\n",
       "    </tr>\n",
       "    <tr>\n",
       "      <th>Netherlands</th>\n",
       "      <td>21681.6580</td>\n",
       "      <td>9.62567</td>\n",
       "      <td>21413.90200</td>\n",
       "      <td>9.507</td>\n",
       "    </tr>\n",
       "    <tr>\n",
       "      <th>New Zealand</th>\n",
       "      <td>15566.1180</td>\n",
       "      <td>7.48742</td>\n",
       "      <td>17538.79500</td>\n",
       "      <td>8.436</td>\n",
       "    </tr>\n",
       "    <tr>\n",
       "      <th>Poland</th>\n",
       "      <td>7104.0459</td>\n",
       "      <td>3.40605</td>\n",
       "      <td>3516.45090</td>\n",
       "      <td>1.686</td>\n",
       "    </tr>\n",
       "    <tr>\n",
       "      <th>Portugal</th>\n",
       "      <td>9067.2871</td>\n",
       "      <td>3.72628</td>\n",
       "      <td>6778.75100</td>\n",
       "      <td>2.786</td>\n",
       "    </tr>\n",
       "    <tr>\n",
       "      <th>Russian Federation</th>\n",
       "      <td>1365.3500</td>\n",
       "      <td>0.56110</td>\n",
       "      <td>568.23199</td>\n",
       "      <td>0.234</td>\n",
       "    </tr>\n",
       "    <tr>\n",
       "      <th>Slovak Republic</th>\n",
       "      <td>6210.7881</td>\n",
       "      <td>2.48699</td>\n",
       "      <td>3747.38890</td>\n",
       "      <td>1.501</td>\n",
       "    </tr>\n",
       "    <tr>\n",
       "      <th>Slovenia</th>\n",
       "      <td>11273.0490</td>\n",
       "      <td>5.40484</td>\n",
       "      <td>8177.21390</td>\n",
       "      <td>3.921</td>\n",
       "    </tr>\n",
       "    <tr>\n",
       "      <th>Spain</th>\n",
       "      <td>11740.0590</td>\n",
       "      <td>4.82443</td>\n",
       "      <td>9714.18460</td>\n",
       "      <td>3.992</td>\n",
       "    </tr>\n",
       "    <tr>\n",
       "      <th>Turkey</th>\n",
       "      <td>8491.3682</td>\n",
       "      <td>4.07120</td>\n",
       "      <td>4741.16500</td>\n",
       "      <td>2.273</td>\n",
       "    </tr>\n",
       "    <tr>\n",
       "      <th>United Kingdom</th>\n",
       "      <td>16764.9690</td>\n",
       "      <td>8.06794</td>\n",
       "      <td>20376.32000</td>\n",
       "      <td>9.806</td>\n",
       "    </tr>\n",
       "    <tr>\n",
       "      <th>United States</th>\n",
       "      <td>12594.3970</td>\n",
       "      <td>6.05500</td>\n",
       "      <td>12594.39700</td>\n",
       "      <td>6.055</td>\n",
       "    </tr>\n",
       "  </tbody>\n",
       "</table>\n",
       "</div>"
      ],
      "text/plain": [
       "Series                        In 2015 constant prices at 2015 USD PPPs  \\\n",
       "Pay period                                                      Annual   \n",
       "Time       Country                                                       \n",
       "2006-01-01 Australia                                        20410.6520   \n",
       "           Belgium                                          21042.2790   \n",
       "           Brazil                                            3310.5120   \n",
       "           Canada                                           13649.6890   \n",
       "           Chile                                             5201.6479   \n",
       "           Colombia                                          6257.7632   \n",
       "           Czech Republic                                    7991.7749   \n",
       "           Estonia                                           5179.6499   \n",
       "           France                                           19295.8260   \n",
       "           Greece                                           13672.2750   \n",
       "           Hungary                                           7211.1138   \n",
       "           Ireland                                          17132.4430   \n",
       "           Israel                                           11428.6940   \n",
       "           Japan                                            13082.1150   \n",
       "           Korea                                            10106.7510   \n",
       "           Latvia                                            3216.4021   \n",
       "           Lithuania                                         5336.2148   \n",
       "           Luxembourg                                       21639.1230   \n",
       "           Mexico                                            1797.1790   \n",
       "           Netherlands                                      21681.6580   \n",
       "           New Zealand                                      15566.1180   \n",
       "           Poland                                            7104.0459   \n",
       "           Portugal                                          9067.2871   \n",
       "           Russian Federation                                1365.3500   \n",
       "           Slovak Republic                                   6210.7881   \n",
       "           Slovenia                                         11273.0490   \n",
       "           Spain                                            11740.0590   \n",
       "           Turkey                                            8491.3682   \n",
       "           United Kingdom                                   16764.9690   \n",
       "           United States                                    12594.3970   \n",
       "\n",
       "Series                                   \\\n",
       "Pay period                       Hourly   \n",
       "Time       Country                        \n",
       "2006-01-01 Australia           10.33073   \n",
       "           Belgium             10.08859   \n",
       "           Brazil               1.41000   \n",
       "           Canada               6.56235   \n",
       "           Chile                2.22000   \n",
       "           Colombia             2.14000   \n",
       "           Czech Republic       3.98087   \n",
       "           Estonia              2.48333   \n",
       "           France              10.60213   \n",
       "           Greece               5.61873   \n",
       "           Hungary              3.47191   \n",
       "           Ireland              8.23675   \n",
       "           Israel               5.12204   \n",
       "           Japan                6.28948   \n",
       "           Korea                3.72668   \n",
       "           Latvia               1.54211   \n",
       "           Lithuania            2.69131   \n",
       "           Luxembourg          10.42540   \n",
       "           Mexico               0.86403   \n",
       "           Netherlands          9.62567   \n",
       "           New Zealand          7.48742   \n",
       "           Poland               3.40605   \n",
       "           Portugal             3.72628   \n",
       "           Russian Federation   0.56110   \n",
       "           Slovak Republic      2.48699   \n",
       "           Slovenia             5.40484   \n",
       "           Spain                4.82443   \n",
       "           Turkey               4.07120   \n",
       "           United Kingdom       8.06794   \n",
       "           United States        6.05500   \n",
       "\n",
       "Series                        In 2015 constant prices at 2015 USD exchange rates  \\\n",
       "Pay period                                                                Annual   \n",
       "Time       Country                                                                 \n",
       "2006-01-01 Australia                                                 23826.63700   \n",
       "           Belgium                                                   20228.74200   \n",
       "           Brazil                                                     2032.87300   \n",
       "           Canada                                                    14335.12000   \n",
       "           Chile                                                      3333.76390   \n",
       "           Colombia                                                   2948.12110   \n",
       "           Czech Republic                                             4565.12990   \n",
       "           Estonia                                                    3443.32910   \n",
       "           France                                                    18416.40000   \n",
       "           Greece                                                    10594.51600   \n",
       "           Hungary                                                    3741.19190   \n",
       "           Ireland                                                   19090.53700   \n",
       "           Israel                                                    12869.03800   \n",
       "           Japan                                                     11836.64000   \n",
       "           Korea                                                      9266.99410   \n",
       "           Latvia                                                     2017.01500   \n",
       "           Lithuania                                                  2960.88500   \n",
       "           Luxembourg                                                23777.28500   \n",
       "           Mexico                                                     1104.84200   \n",
       "           Netherlands                                               21413.90200   \n",
       "           New Zealand                                               17538.79500   \n",
       "           Poland                                                     3516.45090   \n",
       "           Portugal                                                   6778.75100   \n",
       "           Russian Federation                                          568.23199   \n",
       "           Slovak Republic                                            3747.38890   \n",
       "           Slovenia                                                   8177.21390   \n",
       "           Spain                                                      9714.18460   \n",
       "           Turkey                                                     4741.16500   \n",
       "           United Kingdom                                            20376.32000   \n",
       "           United States                                             12594.39700   \n",
       "\n",
       "Series                                 \n",
       "Pay period                     Hourly  \n",
       "Time       Country                     \n",
       "2006-01-01 Australia           12.060  \n",
       "           Belgium              9.699  \n",
       "           Brazil               0.870  \n",
       "           Canada               6.892  \n",
       "           Chile                1.420  \n",
       "           Colombia             1.010  \n",
       "           Czech Republic       2.274  \n",
       "           Estonia              1.651  \n",
       "           France              10.119  \n",
       "           Greece               4.354  \n",
       "           Hungary              1.801  \n",
       "           Ireland              9.178  \n",
       "           Israel               5.768  \n",
       "           Japan                5.691  \n",
       "           Korea                3.417  \n",
       "           Latvia               0.967  \n",
       "           Lithuania            1.493  \n",
       "           Luxembourg          11.456  \n",
       "           Mexico               0.531  \n",
       "           Netherlands          9.507  \n",
       "           New Zealand          8.436  \n",
       "           Poland               1.686  \n",
       "           Portugal             2.786  \n",
       "           Russian Federation   0.234  \n",
       "           Slovak Republic      1.501  \n",
       "           Slovenia             3.921  \n",
       "           Spain                3.992  \n",
       "           Turkey               2.273  \n",
       "           United Kingdom       9.806  \n",
       "           United States        6.055  "
      ]
     },
     "execution_count": 86,
     "metadata": {},
     "output_type": "execute_result"
    }
   ],
   "source": [
    "wage_pt.stack(level='Country').head(30)"
   ]
  },
  {
   "cell_type": "markdown",
   "metadata": {
    "colab_type": "text",
    "id": "lwxSOBpU-KfR"
   },
   "source": [
    "To create a filtered dataframe that only takes the hourly minimum wages across countries and time, we can use the `xs()` method to select a cross-section of the data, taking values at lower levels in the multi-index, while keeping the higher levels (countries in this case)"
   ]
  },
  {
   "cell_type": "code",
   "execution_count": 87,
   "metadata": {
    "colab": {},
    "colab_type": "code",
    "id": "BzZLVBNJ-KfR"
   },
   "outputs": [
    {
     "data": {
      "text/html": [
       "<div>\n",
       "<style scoped>\n",
       "    .dataframe tbody tr th:only-of-type {\n",
       "        vertical-align: middle;\n",
       "    }\n",
       "\n",
       "    .dataframe tbody tr th {\n",
       "        vertical-align: top;\n",
       "    }\n",
       "\n",
       "    .dataframe thead th {\n",
       "        text-align: right;\n",
       "    }\n",
       "</style>\n",
       "<table border=\"1\" class=\"dataframe\">\n",
       "  <thead>\n",
       "    <tr style=\"text-align: right;\">\n",
       "      <th>Country</th>\n",
       "      <th>Australia</th>\n",
       "      <th>Belgium</th>\n",
       "      <th>Brazil</th>\n",
       "      <th>Canada</th>\n",
       "      <th>Chile</th>\n",
       "      <th>Colombia</th>\n",
       "      <th>Costa Rica</th>\n",
       "      <th>Czech Republic</th>\n",
       "      <th>Estonia</th>\n",
       "      <th>France</th>\n",
       "      <th>...</th>\n",
       "      <th>New Zealand</th>\n",
       "      <th>Poland</th>\n",
       "      <th>Portugal</th>\n",
       "      <th>Russian Federation</th>\n",
       "      <th>Slovak Republic</th>\n",
       "      <th>Slovenia</th>\n",
       "      <th>Spain</th>\n",
       "      <th>Turkey</th>\n",
       "      <th>United Kingdom</th>\n",
       "      <th>United States</th>\n",
       "    </tr>\n",
       "    <tr>\n",
       "      <th>Time</th>\n",
       "      <th></th>\n",
       "      <th></th>\n",
       "      <th></th>\n",
       "      <th></th>\n",
       "      <th></th>\n",
       "      <th></th>\n",
       "      <th></th>\n",
       "      <th></th>\n",
       "      <th></th>\n",
       "      <th></th>\n",
       "      <th></th>\n",
       "      <th></th>\n",
       "      <th></th>\n",
       "      <th></th>\n",
       "      <th></th>\n",
       "      <th></th>\n",
       "      <th></th>\n",
       "      <th></th>\n",
       "      <th></th>\n",
       "      <th></th>\n",
       "      <th></th>\n",
       "    </tr>\n",
       "  </thead>\n",
       "  <tbody>\n",
       "    <tr>\n",
       "      <th>2006-01-01</th>\n",
       "      <td>12.060</td>\n",
       "      <td>9.699</td>\n",
       "      <td>0.87</td>\n",
       "      <td>6.892</td>\n",
       "      <td>1.42</td>\n",
       "      <td>1.01</td>\n",
       "      <td>NaN</td>\n",
       "      <td>2.274</td>\n",
       "      <td>1.651</td>\n",
       "      <td>10.119</td>\n",
       "      <td>...</td>\n",
       "      <td>8.436</td>\n",
       "      <td>1.686</td>\n",
       "      <td>2.786</td>\n",
       "      <td>0.234</td>\n",
       "      <td>1.501</td>\n",
       "      <td>3.921</td>\n",
       "      <td>3.992</td>\n",
       "      <td>2.273</td>\n",
       "      <td>9.806</td>\n",
       "      <td>6.055</td>\n",
       "    </tr>\n",
       "    <tr>\n",
       "      <th>2007-01-01</th>\n",
       "      <td>12.457</td>\n",
       "      <td>9.822</td>\n",
       "      <td>0.92</td>\n",
       "      <td>6.961</td>\n",
       "      <td>1.45</td>\n",
       "      <td>1.02</td>\n",
       "      <td>NaN</td>\n",
       "      <td>2.292</td>\n",
       "      <td>1.858</td>\n",
       "      <td>10.227</td>\n",
       "      <td>...</td>\n",
       "      <td>8.993</td>\n",
       "      <td>1.713</td>\n",
       "      <td>2.840</td>\n",
       "      <td>0.448</td>\n",
       "      <td>1.637</td>\n",
       "      <td>3.877</td>\n",
       "      <td>4.097</td>\n",
       "      <td>2.258</td>\n",
       "      <td>10.070</td>\n",
       "      <td>6.241</td>\n",
       "    </tr>\n",
       "    <tr>\n",
       "      <th>2008-01-01</th>\n",
       "      <td>12.237</td>\n",
       "      <td>9.872</td>\n",
       "      <td>0.96</td>\n",
       "      <td>7.242</td>\n",
       "      <td>1.44</td>\n",
       "      <td>1.01</td>\n",
       "      <td>NaN</td>\n",
       "      <td>2.155</td>\n",
       "      <td>2.035</td>\n",
       "      <td>10.245</td>\n",
       "      <td>...</td>\n",
       "      <td>9.287</td>\n",
       "      <td>1.979</td>\n",
       "      <td>2.926</td>\n",
       "      <td>0.393</td>\n",
       "      <td>1.714</td>\n",
       "      <td>3.965</td>\n",
       "      <td>4.139</td>\n",
       "      <td>2.222</td>\n",
       "      <td>10.045</td>\n",
       "      <td>6.781</td>\n",
       "    </tr>\n",
       "    <tr>\n",
       "      <th>2009-01-01</th>\n",
       "      <td>12.397</td>\n",
       "      <td>10.205</td>\n",
       "      <td>1.03</td>\n",
       "      <td>7.670</td>\n",
       "      <td>1.52</td>\n",
       "      <td>1.04</td>\n",
       "      <td>NaN</td>\n",
       "      <td>2.133</td>\n",
       "      <td>2.036</td>\n",
       "      <td>10.426</td>\n",
       "      <td>...</td>\n",
       "      <td>9.534</td>\n",
       "      <td>2.160</td>\n",
       "      <td>3.117</td>\n",
       "      <td>0.662</td>\n",
       "      <td>1.883</td>\n",
       "      <td>4.079</td>\n",
       "      <td>4.317</td>\n",
       "      <td>2.279</td>\n",
       "      <td>10.148</td>\n",
       "      <td>7.579</td>\n",
       "    </tr>\n",
       "    <tr>\n",
       "      <th>2010-01-01</th>\n",
       "      <td>12.340</td>\n",
       "      <td>10.053</td>\n",
       "      <td>1.08</td>\n",
       "      <td>7.944</td>\n",
       "      <td>1.56</td>\n",
       "      <td>1.06</td>\n",
       "      <td>NaN</td>\n",
       "      <td>2.102</td>\n",
       "      <td>1.978</td>\n",
       "      <td>10.351</td>\n",
       "      <td>...</td>\n",
       "      <td>9.552</td>\n",
       "      <td>2.174</td>\n",
       "      <td>3.244</td>\n",
       "      <td>0.619</td>\n",
       "      <td>1.961</td>\n",
       "      <td>4.809</td>\n",
       "      <td>4.304</td>\n",
       "      <td>2.301</td>\n",
       "      <td>9.960</td>\n",
       "      <td>7.880</td>\n",
       "    </tr>\n",
       "  </tbody>\n",
       "</table>\n",
       "<p>5 rows × 32 columns</p>\n",
       "</div>"
      ],
      "text/plain": [
       "Country     Australia  Belgium  Brazil  Canada  Chile  Colombia  Costa Rica  \\\n",
       "Time                                                                          \n",
       "2006-01-01     12.060    9.699    0.87   6.892   1.42      1.01         NaN   \n",
       "2007-01-01     12.457    9.822    0.92   6.961   1.45      1.02         NaN   \n",
       "2008-01-01     12.237    9.872    0.96   7.242   1.44      1.01         NaN   \n",
       "2009-01-01     12.397   10.205    1.03   7.670   1.52      1.04         NaN   \n",
       "2010-01-01     12.340   10.053    1.08   7.944   1.56      1.06         NaN   \n",
       "\n",
       "Country     Czech Republic  Estonia  France  ...  New Zealand  Poland  \\\n",
       "Time                                         ...                        \n",
       "2006-01-01           2.274    1.651  10.119  ...        8.436   1.686   \n",
       "2007-01-01           2.292    1.858  10.227  ...        8.993   1.713   \n",
       "2008-01-01           2.155    2.035  10.245  ...        9.287   1.979   \n",
       "2009-01-01           2.133    2.036  10.426  ...        9.534   2.160   \n",
       "2010-01-01           2.102    1.978  10.351  ...        9.552   2.174   \n",
       "\n",
       "Country     Portugal  Russian Federation  Slovak Republic  Slovenia  Spain  \\\n",
       "Time                                                                         \n",
       "2006-01-01     2.786               0.234            1.501     3.921  3.992   \n",
       "2007-01-01     2.840               0.448            1.637     3.877  4.097   \n",
       "2008-01-01     2.926               0.393            1.714     3.965  4.139   \n",
       "2009-01-01     3.117               0.662            1.883     4.079  4.317   \n",
       "2010-01-01     3.244               0.619            1.961     4.809  4.304   \n",
       "\n",
       "Country     Turkey  United Kingdom  United States  \n",
       "Time                                               \n",
       "2006-01-01   2.273           9.806          6.055  \n",
       "2007-01-01   2.258          10.070          6.241  \n",
       "2008-01-01   2.222          10.045          6.781  \n",
       "2009-01-01   2.279          10.148          7.579  \n",
       "2010-01-01   2.301           9.960          7.880  \n",
       "\n",
       "[5 rows x 32 columns]"
      ]
     },
     "execution_count": 87,
     "metadata": {},
     "output_type": "execute_result"
    }
   ],
   "source": [
    "wage_f = wage_pt.xs(('Hourly', 'In 2015 constant prices at 2015 USD exchange rates'),\n",
    "                     level=('Pay period', 'Series'), \n",
    "                     axis=1 )\n",
    "wage_f.head()"
   ]
  },
  {
   "cell_type": "markdown",
   "metadata": {
    "colab_type": "text",
    "id": "WCwBgT4X-KfT"
   },
   "source": [
    "Now, this filtered dataframe looks good to be used for some analysis and visualizations."
   ]
  },
  {
   "cell_type": "markdown",
   "metadata": {
    "colab_type": "text",
    "id": "SdyiEN80-KfT"
   },
   "source": [
    "### Grouping and Summarizing data\n",
    "\n",
    "Grouping and summarizing data can be particularly useful for understanding large panel datasets. A simple way is to call an aggregation method on the dataframe, such as `.mean()` or `.max()` which is really quick and easy.\n",
    "\n",
    "For example, we can calculate the average real minimum wage for each country over the period 2006 to 2016 (the default is to aggregate over rows since rows typically constitute data samples)"
   ]
  },
  {
   "cell_type": "code",
   "execution_count": 88,
   "metadata": {
    "colab": {},
    "colab_type": "code",
    "id": "cOcCwinO-KfU",
    "scrolled": true
   },
   "outputs": [
    {
     "data": {
      "text/plain": [
       "Country\n",
       "Australia             12.513909\n",
       "Belgium                9.939000\n",
       "Brazil                 1.090909\n",
       "Canada                 7.819364\n",
       "Chile                  1.619091\n",
       "Colombia               1.070909\n",
       "Costa Rica             2.533333\n",
       "Czech Republic         2.154182\n",
       "Estonia                2.076727\n",
       "France                10.421273\n",
       "Germany                9.404500\n",
       "Greece                 4.110000\n",
       "Hungary                1.904182\n",
       "Ireland                9.700182\n",
       "Israel                 5.954000\n",
       "Japan                  6.179000\n",
       "Korea                  4.224273\n",
       "Latvia                 1.797091\n",
       "Lithuania              1.728727\n",
       "Luxembourg            11.944909\n",
       "Mexico                 0.532545\n",
       "Netherlands            9.642909\n",
       "New Zealand            9.541545\n",
       "Poland                 2.243364\n",
       "Portugal               3.095000\n",
       "Russian Federation     0.532364\n",
       "Slovak Republic        1.922000\n",
       "Slovenia               4.602636\n",
       "Spain                  4.155818\n",
       "Turkey                 2.459364\n",
       "United Kingdom         9.922818\n",
       "United States          7.154909\n",
       "dtype: float64"
      ]
     },
     "execution_count": 88,
     "metadata": {},
     "output_type": "execute_result"
    }
   ],
   "source": [
    "wage_f.mean()"
   ]
  },
  {
   "cell_type": "markdown",
   "metadata": {
    "colab_type": "text",
    "id": "LNXf0Chr-KfV"
   },
   "source": [
    "Using this, we can now plot the average minimum wage over a 10-year period (2006-2016) for each OECD country."
   ]
  },
  {
   "cell_type": "code",
   "execution_count": 89,
   "metadata": {
    "colab": {},
    "colab_type": "code",
    "id": "tjWsLlDr-KfV"
   },
   "outputs": [],
   "source": [
    "import matplotlib.pyplot as plt\n",
    "%matplotlib inline\n",
    "import matplotlib\n"
   ]
  },
  {
   "cell_type": "code",
   "execution_count": 90,
   "metadata": {
    "colab": {},
    "colab_type": "code",
    "id": "E13bwd1_-KfX"
   },
   "outputs": [
    {
     "data": {
      "image/png": "[encoded data removed]",
      "text/plain": [
       "<Figure size 640x480 with 1 Axes>"
      ]
     },
     "metadata": {},
     "output_type": "display_data"
    }
   ],
   "source": [
    "# plotting can be done directly on the dataframe using\n",
    "wage_f.mean().sort_values(ascending=False).plot(kind='bar', title=\"Average minimum wage 2006 - 2016\")\n",
    "\n",
    "#Set country labels\n",
    "country_labels = wage_f.mean().sort_values(ascending=False).index.get_level_values('Country').tolist()\n",
    "plt.xticks(range(0, len(country_labels)), country_labels)\n",
    "plt.xlabel('Country')\n",
    "\n",
    "plt.show()"
   ]
  },
  {
   "cell_type": "markdown",
   "metadata": {
    "colab_type": "text",
    "id": "dv1n5Lg9-KfZ"
   },
   "source": [
    "**Q4**: Figure out how to aggregate over columns, giving the average minimum wage for all countries over the time period. (Hint: the `axis` by default is aggregating over rows).This is what we call a *time series* graph, data over time. "
   ]
  },
  {
   "cell_type": "code",
   "execution_count": 92,
   "metadata": {
    "colab": {},
    "colab_type": "code",
    "id": "Ml2hxPz3-KfZ"
   },
   "outputs": [
    {
     "data": {
      "text/plain": [
       "<Axes: title={'center': 'Average minimum wage 2006 - 2016'}, xlabel='Time'>"
      ]
     },
     "execution_count": 92,
     "metadata": {},
     "output_type": "execute_result"
    },
    {
     "data": {
      "image/png": "[encoded data removed]",
      "text/plain": [
       "<Figure size 640x480 with 1 Axes>"
      ]
     },
     "metadata": {},
     "output_type": "display_data"
    }
   ],
   "source": [
    "# write your code here\n",
    "wage_f.mean(axis=1).sort_values(ascending=False).\\\n",
    "plot(kind='line', title=\"Average minimum wage 2006 - 2016\")\n"
   ]
  }
 ],
 "metadata": {
  "colab": {
   "collapsed_sections": [],
   "name": "lab04.ipynb",
   "provenance": []
  },
  "kernelspec": {
   "display_name": "Python 3 (ipykernel)",
   "language": "python",
   "name": "python3"
  },
  "language_info": {
   "codemirror_mode": {
    "name": "ipython",
    "version": 3
   },
   "file_extension": ".py",
   "mimetype": "text/x-python",
   "name": "python",
   "nbconvert_exporter": "python",
   "pygments_lexer": "ipython3",
   "version": "3.10.9"
  }
 },
 "nbformat": 4,
 "nbformat_minor": 4
}
