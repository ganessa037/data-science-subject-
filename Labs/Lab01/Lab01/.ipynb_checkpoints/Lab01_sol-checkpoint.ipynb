{
 "cells": [
  {
   "cell_type": "markdown",
   "metadata": {
    "id": "wZDD5tQTYKnb"
   },
   "source": [
    "# **Solution: Lab 1**\n",
    "\n",
    "## Python Quickstart"
   ]
  },
  {
   "cell_type": "markdown",
   "metadata": {
    "id": "87aPfHgMYKoj"
   },
   "source": [
    "**Q1.** Write a Python expression in this next cell that's equal to $16 \\frac{2}{3} + 4\\frac{12}{13} \\times \\frac{30}{11} + 2^{.5 \\times 22} +\\frac{42\\times 18}{33}$. Use parentheses carefully.\n",
    "\n",
    "*Note*: By \"$16 \\frac{2}{3}$\" we mean $16+\\frac{2}{3}$, not $16 \\times \\frac{2}{3}$. Math!\n",
    "\n",
    "*Hint:* The correct output should be the numerical part of our subject code."
   ]
  },
  {
   "cell_type": "code",
   "execution_count": 1,
   "metadata": {
    "colab": {
     "base_uri": "https://localhost:8080/"
    },
    "executionInfo": {
     "elapsed": 850,
     "status": "ok",
     "timestamp": 1607831760672,
     "user": {
      "displayName": "John See",
      "photoUrl": "https://lh3.googleusercontent.com/a-/AOh14GiT4VyFFZRUvkpbrIX_L0tIFUuWgOHNse2TN30A=s64",
      "userId": "10345508966486365390"
     },
     "user_tz": -480
    },
    "id": "qfVajzzvYKoj",
    "outputId": "fa7839e3-c624-4af3-84d7-c1149fb1856e"
   },
   "outputs": [
    {
     "data": {
      "text/plain": [
       "2101"
      ]
     },
     "execution_count": 1,
     "metadata": {},
     "output_type": "execute_result"
    }
   ],
   "source": [
    "int((16+2/3)+(4+12/13)*30/11+(2**(0.5*22))+((42*18)/33))\n",
    "# you can use int() to convert the entire expression to integer"
   ]
  },
  {
   "cell_type": "markdown",
   "metadata": {
    "id": "v2DxVGXGYKoy"
   },
   "source": [
    "**Q2**: Assign the name `seconds_in_a_decade` to the number of seconds between midnight January 1, 2010 and midnight January 1, 2020. Note that there are two leap years in this span of a decade. A non-leap year has 365 days and a leap year has 366 days."
   ]
  },
  {
   "cell_type": "code",
   "execution_count": 3,
   "metadata": {
    "colab": {
     "base_uri": "https://localhost:8080/"
    },
    "executionInfo": {
     "elapsed": 1123,
     "status": "ok",
     "timestamp": 1607831815152,
     "user": {
      "displayName": "John See",
      "photoUrl": "https://lh3.googleusercontent.com/a-/AOh14GiT4VyFFZRUvkpbrIX_L0tIFUuWgOHNse2TN30A=s64",
      "userId": "10345508966486365390"
     },
     "user_tz": -480
    },
    "id": "QDcx55czYKoy",
    "outputId": "91efa5b7-00cf-4fa3-feda-5cd1639272f3"
   },
   "outputs": [
    {
     "data": {
      "text/plain": [
       "315532800"
      ]
     },
     "execution_count": 3,
     "metadata": {},
     "output_type": "execute_result"
    }
   ],
   "source": [
    "seconds_in_a_decade = (8*365*24*60*60)+(2*366*24*60*60) \n",
    "seconds_in_a_decade"
   ]
  },
  {
   "cell_type": "markdown",
   "metadata": {
    "id": "EisMEJH7YKpU"
   },
   "source": [
    "**Q3**: \n",
    "\n",
    "Farah is on the corner of 7th Avenue and 42nd Street in Midtown Manhattan, and she wants to know far she'd have to walk to get to school on the corner of 10th Avenue and 34th Street.\n",
    "\n",
    "She can't cut across blocks diagonally, since there are buildings in the way.  She has to walk along the sidewalks.  Using the map below, she sees she'd have to walk 3 avenues (long blocks) and 8 streets (short blocks).  In terms of the given numbers, she computed 3 as the difference between 7 and 10, *in absolute value*, and 8 similarly.  \n",
    "\n",
    "Farah also knows that blocks in Manhattan are all about 80m by 274m (avenues are farther apart than streets). So in total, how far would she have to walk to get to the park?\n",
    "\n",
    "<img src=\"https://raw.githubusercontent.com/data-8/materials-su19/master/materials/su19/lab/lab01/map.jpg\" width=600 />\n",
    "\n"
   ]
  },
  {
   "cell_type": "code",
   "execution_count": 4,
   "metadata": {
    "colab": {
     "base_uri": "https://localhost:8080/"
    },
    "executionInfo": {
     "elapsed": 1126,
     "status": "ok",
     "timestamp": 1607831885147,
     "user": {
      "displayName": "John See",
      "photoUrl": "https://lh3.googleusercontent.com/a-/AOh14GiT4VyFFZRUvkpbrIX_L0tIFUuWgOHNse2TN30A=s64",
      "userId": "10345508966486365390"
     },
     "user_tz": -480
    },
    "id": "G4aw2zbEYKpV",
    "outputId": "55dba67f-d500-4d28-e37a-06851c26c364"
   },
   "outputs": [
    {
     "data": {
      "text/plain": [
       "1462"
      ]
     },
     "execution_count": 4,
     "metadata": {},
     "output_type": "execute_result"
    }
   ],
   "source": [
    "# Here's the number of streets away:\n",
    "num_streets_away = abs(42-34)\n",
    "\n",
    "# Compute the number of avenues away in a similar way:\n",
    "num_avenues_away = abs(7-10)\n",
    "\n",
    "street_length_m = 80\n",
    "avenue_length_m = 274\n",
    "\n",
    "# Now we compute the total distance Farah must walk.\n",
    "manhattan_distance = num_streets_away*street_length_m + num_avenues_away*avenue_length_m\n",
    "\n",
    "# We've included this line so that you see the distance you've computed \n",
    "# when you run this cell.  \n",
    "# You don't need to change it, but you can if you want.\n",
    "manhattan_distance"
   ]
  },
  {
   "cell_type": "markdown",
   "metadata": {
    "id": "FFlbBZeOYKpt"
   },
   "source": [
    "**Q4**"
   ]
  },
  {
   "cell_type": "code",
   "execution_count": 10,
   "metadata": {
    "colab": {
     "base_uri": "https://localhost:8080/"
    },
    "executionInfo": {
     "elapsed": 940,
     "status": "ok",
     "timestamp": 1607833651084,
     "user": {
      "displayName": "John See",
      "photoUrl": "https://lh3.googleusercontent.com/a-/AOh14GiT4VyFFZRUvkpbrIX_L0tIFUuWgOHNse2TN30A=s64",
      "userId": "10345508966486365390"
     },
     "user_tz": -480
    },
    "id": "YjaCi54jYKpt",
    "outputId": "74fc6bf9-3b9e-44f1-9c3e-1f79ac5604ae"
   },
   "outputs": [
    {
     "name": "stdout",
     "output_type": "stream",
     "text": [
      "False\n"
     ]
    }
   ],
   "source": [
    "# Q4\n",
    "# Define starts_with_B('Boyce')\n",
    "def starts_with_B(word):\n",
    "   return word[0].upper() == 'B'\n",
    "\n",
    "\n",
    "print(starts_with_B('Ali'))"
   ]
  },
  {
   "cell_type": "markdown",
   "metadata": {
    "id": "iIKZLtV-QEbp"
   },
   "source": [
    "*Explanation:* What is the difference between **is** and the **`==`**operator? The equality operator checks for value equality, while the **is** operator checks if the operands refer to the same object or not. In this question, the **`==`** operator fits the checking that we need."
   ]
  },
  {
   "cell_type": "code",
   "execution_count": 6,
   "metadata": {
    "colab": {
     "base_uri": "https://localhost:8080/"
    },
    "executionInfo": {
     "elapsed": 887,
     "status": "ok",
     "timestamp": 1607849018540,
     "user": {
      "displayName": "John See",
      "photoUrl": "https://lh3.googleusercontent.com/a-/AOh14GiT4VyFFZRUvkpbrIX_L0tIFUuWgOHNse2TN30A=s64",
      "userId": "10345508966486365390"
     },
     "user_tz": -480
    },
    "id": "8wrEXYoJQ_EH",
    "outputId": "de524043-3850-4293-f85e-186acd27a8fe"
   },
   "outputs": [
    {
     "name": "stdout",
     "output_type": "stream",
     "text": [
      "same object!\n",
      "2814104150144\n",
      "2814104150144\n",
      "2814126787072\n"
     ]
    }
   ],
   "source": [
    "# example of code that uses 'is'\n",
    "a = [1,2,3]\n",
    "b = a\n",
    "c = [4, 5]\n",
    "if a is b:\n",
    "  print(\"same object!\")\n",
    "else:\n",
    "  print(\"not same object!\")\n",
    " \n",
    "# id provides a unique identifier for the variable. This id remains the same in memory for its lifetime. \n",
    "print(id(a))          \n",
    "print(id(b))\n",
    "print(id(c))"
   ]
  },
  {
   "cell_type": "markdown",
   "metadata": {
    "id": "Na8tFTsXYKpx"
   },
   "source": [
    "**Q5**"
   ]
  },
  {
   "cell_type": "code",
   "execution_count": 11,
   "metadata": {
    "colab": {
     "base_uri": "https://localhost:8080/"
    },
    "executionInfo": {
     "elapsed": 1409,
     "status": "ok",
     "timestamp": 1607849989840,
     "user": {
      "displayName": "John See",
      "photoUrl": "https://lh3.googleusercontent.com/a-/AOh14GiT4VyFFZRUvkpbrIX_L0tIFUuWgOHNse2TN30A=s64",
      "userId": "10345508966486365390"
     },
     "user_tz": -480
    },
    "id": "-R1-nuAgYKpx",
    "outputId": "4a691307-613a-4f34-f2ea-f39790d841c9"
   },
   "outputs": [
    {
     "name": "stdout",
     "output_type": "stream",
     "text": [
      "They are the same!\n",
      "7\n"
     ]
    }
   ],
   "source": [
    "# Q5\n",
    "# Define bigger(a,b)\n",
    "def bigger(a,b):\n",
    "    # fill in here\n",
    "    if a>b:\n",
    "        return a \n",
    "    elif a<b:\n",
    "        return b \n",
    "    else:\n",
    "        print(\"They are the same!\")\n",
    "        return a ### Just return any of the two values since both are same\n",
    "\n",
    "c = bigger(7,7)\n",
    "print(c)"
   ]
  },
  {
   "cell_type": "markdown",
   "metadata": {
    "id": "u6UVw0MfYKrY"
   },
   "source": [
    "**AE1**: Print a string a number of times equal to the length of the string."
   ]
  },
  {
   "cell_type": "code",
   "execution_count": 12,
   "metadata": {
    "id": "KzLZ5be8YKrZ",
    "outputId": "5262ea26-e603-42db-9af4-817a2e071b0f"
   },
   "outputs": [
    {
     "name": "stdout",
     "output_type": "stream",
     "text": [
      "Hello!\n",
      "Hello!\n",
      "Hello!\n",
      "Hello!\n",
      "Hello!\n",
      "Hello!\n"
     ]
    }
   ],
   "source": [
    "def loop_string(s):         ###Function should get string input\n",
    "    for l in range(len(s)): ###Loop over the amount of \"letters\" in string\n",
    "        print(s)            ###Print the string\n",
    "\n",
    "loop_string('Hello!')    "
   ]
  },
  {
   "cell_type": "markdown",
   "metadata": {
    "id": "jGiA40DtYKrb"
   },
   "source": [
    "**AE2**: Write a function **`Rome2Now`** that converts a Roman numeral (e.g. IV, XVII, MMXIX) to its decimal number form (corresponding e.g. 4, 17, 2019). "
   ]
  },
  {
   "cell_type": "code",
   "execution_count": 6,
   "metadata": {
    "colab": {
     "base_uri": "https://localhost:8080/"
    },
    "executionInfo": {
     "elapsed": 1075,
     "status": "ok",
     "timestamp": 1607850513318,
     "user": {
      "displayName": "John See",
      "photoUrl": "https://lh3.googleusercontent.com/a-/AOh14GiT4VyFFZRUvkpbrIX_L0tIFUuWgOHNse2TN30A=s64",
      "userId": "10345508966486365390"
     },
     "user_tz": -480
    },
    "id": "js36W5j3YKrf",
    "outputId": "6ced9c66-6e56-4010-8f02-fdc34095d8d5"
   },
   "outputs": [
    {
     "name": "stdout",
     "output_type": "stream",
     "text": [
      "2019\n",
      "1888\n",
      "999\n"
     ]
    }
   ],
   "source": [
    "def Rome2Now(roman):\n",
    "    symbols = ['I','V','X','L','C','D','M']   ###Define list of numerals and corresponding values\n",
    "    values = [1,5,10,50,100,500,1000]\n",
    "    v = values[symbols.index(roman[0])]\n",
    "    s1 = roman[0]\n",
    "    #print(s1)\n",
    "    for s2 in roman[1:]: ###Loop the numerals\n",
    "        v1 = values[symbols.index(s1)]\n",
    "        #print(f's1, v1={s1,v1}')\n",
    "        \n",
    "        v2 = values[symbols.index(s2)]\n",
    "        #print(f's2,v2={s2,v2}')\n",
    "        if v2 <= v1:\n",
    "            v += v2     ###Incrementally add the corresponding values\n",
    "        else:\n",
    "            v = v - v1 + (v2-v1)   ###Condition to subtract values\n",
    "        s1 = s2\n",
    "    return v\n",
    "\n",
    "print(Rome2Now('MMXIX'))\n",
    "print(Rome2Now('MDCCCLXXXVIII'))\n",
    "print(Rome2Now('CMXCIX'))"
   ]
  },
  {
   "cell_type": "markdown",
   "metadata": {
    "id": "rjCfWgwNYKri"
   },
   "source": [
    "**AE3**: Write two functions to compute the factorial of an integer number: one uses a normal loop, another uses recursive function calls."
   ]
  },
  {
   "cell_type": "code",
   "execution_count": 16,
   "metadata": {
    "id": "iD5P62RgYKrj",
    "outputId": "782c548e-f280-44fa-cfdd-e7e4f4be79bd"
   },
   "outputs": [
    {
     "name": "stdout",
     "output_type": "stream",
     "text": [
      "120\n",
      "120\n"
     ]
    }
   ],
   "source": [
    "# Define a function called factorial(n)\n",
    "def factorial(n):\n",
    "    # fill in here\n",
    "    f = 1\n",
    "    for i in range(n,1,-1):    ###syntax \n",
    "        f *= i\n",
    "      \n",
    "    return f\n",
    "\n",
    "def recursive_factorial(n): \n",
    "    # fill in here\n",
    "    if n>1: \n",
    "        n = n*recursive_factorial(n-1)  ###recursive call\n",
    "    else:\n",
    "        n = 1\n",
    "    return n\n",
    "    \n",
    "answer = factorial(5)\n",
    "print(answer)\n",
    "\n",
    "answer2 = recursive_factorial(5)\n",
    "print(answer2)"
   ]
  },
  {
   "cell_type": "markdown",
   "metadata": {
    "id": "wcvj78bLYKrm"
   },
   "source": [
    "**AE4**: Define a function that print the list of a specified list after removing even numbers from it."
   ]
  },
  {
   "cell_type": "code",
   "execution_count": 7,
   "metadata": {
    "id": "yru_joxgYKrn",
    "outputId": "053b25cc-e733-4e7d-8734-0301523f7e35"
   },
   "outputs": [
    {
     "name": "stdout",
     "output_type": "stream",
     "text": [
      "[7, 25, 27]\n"
     ]
    }
   ],
   "source": [
    "# Note: this function will not return any values\n",
    "num = [7, 8, 120, 25, 44, 20, 27]\n",
    "def remove_even(x): ###normal:loops and conditions\n",
    "    # fill in here\n",
    "    ### basic answer\n",
    "    #ans = []\n",
    "    #for i in x:\n",
    "    #    if i%2 != 0:\n",
    "    #        ans.append(i)\n",
    "    #    else:\n",
    "    #        continue\n",
    "\n",
    "    ###advanced answer: filter + lambda function\n",
    "    ans = list(filter(lambda y:(y%2!=0), x)) \n",
    "    print(ans)\n",
    "    \n",
    "remove_even(num)"
   ]
  },
  {
   "cell_type": "markdown",
   "metadata": {
    "id": "KRSS29XjbD-L"
   },
   "source": [
    "*Explanation*: **`filter()`** method is used to construct an iterator from elements of an iterable (in this case list `x` is the iterable) for which each element can be passed through a function (returns true if passable). Typically, a function can be defined beforehand:"
   ]
  },
  {
   "cell_type": "code",
   "execution_count": 10,
   "metadata": {
    "colab": {
     "base_uri": "https://localhost:8080/"
    },
    "executionInfo": {
     "elapsed": 1132,
     "status": "ok",
     "timestamp": 1607852303096,
     "user": {
      "displayName": "John See",
      "photoUrl": "https://lh3.googleusercontent.com/a-/AOh14GiT4VyFFZRUvkpbrIX_L0tIFUuWgOHNse2TN30A=s64",
      "userId": "10345508966486365390"
     },
     "user_tz": -480
    },
    "id": "E3PXnVubAj5Q",
    "outputId": "57b0c36f-ffe8-4b40-d2e4-edb557983b15"
   },
   "outputs": [
    {
     "name": "stdout",
     "output_type": "stream",
     "text": [
      "['a', 'e', 'i', 'o']\n",
      "['a', 'e', 'i', 'o']\n"
     ]
    }
   ],
   "source": [
    "# function that filters vowels\n",
    "def filterVowels(letter):\n",
    "    vowels = ['a', 'e', 'i', 'o', 'u']\n",
    "\n",
    "    if (letter in vowels):\n",
    "        return True\n",
    "    else:\n",
    "        return False\n",
    "\n",
    "letters = ['a', 'b', 'd', 'e', 'i', 'j', 'o']\n",
    "filteredVowels = filter(filterVowels, letters)\n",
    "print(list(filteredVowels))\n",
    "\n",
    "vo = ['a', 'e', 'i', 'o', 'u']\n",
    "ans = list(filter(lambda x:x in vo, letters))\n",
    "print(ans)"
   ]
  },
  {
   "cell_type": "markdown",
   "metadata": {
    "id": "oxsfJWaFeF8u"
   },
   "source": [
    "Or you can use **`lambda`** function to create an expression that can be processed \"on the fly\" when **`filter`** is executed."
   ]
  }
 ],
 "metadata": {
  "colab": {
   "collapsed_sections": [],
   "name": "lab01_sol.ipynb",
   "provenance": []
  },
  "kernelspec": {
   "display_name": "Python 3 (ipykernel)",
   "language": "python",
   "name": "python3"
  },
  "language_info": {
   "codemirror_mode": {
    "name": "ipython",
    "version": 3
   },
   "file_extension": ".py",
   "mimetype": "text/x-python",
   "name": "python",
   "nbconvert_exporter": "python",
   "pygments_lexer": "ipython3",
   "version": "3.10.9"
  }
 },
 "nbformat": 4,
 "nbformat_minor": 4
}
